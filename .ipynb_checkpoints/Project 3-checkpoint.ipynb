{
 "cells": [
  {
   "cell_type": "markdown",
   "id": "e7c56eba",
   "metadata": {},
   "source": [
    "# Project 3\n",
    "Jacob Tanzi\n"
   ]
  },
  {
   "cell_type": "markdown",
   "id": "446d855d",
   "metadata": {},
   "source": [
    "## Specifications\n",
    "\n",
    "Your stakeholder only wants you to include information for movies based on the following specifications:\n",
    "\n",
    "* Include only movies that were released in the United States.\n",
    "* Include only movies that were released 2000 - 2021 (include 2000 and 2021)\n",
    "* Include only full-length movies (titleType = \"movie\").\n",
    "* Exclude any movie with missing values for genre or runtime\n",
    "* Include only fictional movies (not from the Documentary genre)\n",
    "\n",
    "\n"
   ]
  },
  {
   "cell_type": "code",
   "execution_count": 1,
   "id": "65cc74e0",
   "metadata": {},
   "outputs": [
    {
     "data": {
      "text/plain": [
       "[]"
      ]
     },
     "execution_count": 1,
     "metadata": {},
     "output_type": "execute_result"
    }
   ],
   "source": [
    "import os\n",
    "os.makedirs('Data/',exist_ok=True)\n",
    "os.listdir(\"Data/\")"
   ]
  },
  {
   "cell_type": "code",
   "execution_count": 6,
   "id": "c7d9879b",
   "metadata": {},
   "outputs": [],
   "source": [
    "import pandas as pd\n",
    "import gzip"
   ]
  },
  {
   "cell_type": "code",
   "execution_count": 13,
   "id": "ae8d044b",
   "metadata": {},
   "outputs": [],
   "source": [
    "file_path = 'title.basics.tsv.gz'\n",
    "\n",
    "\n",
    "def read_gzipped_tsv(file_path):\n",
    "    with gzip.open(file_path, 'rb') as f:\n",
    "        basics = pd.read_csv(f, sep='\\t', low_memory=False)\n",
    "    return basics\n",
    "\n",
    "basics = read_gzipped_tsv(file_path)\n"
   ]
  },
  {
   "cell_type": "code",
   "execution_count": 14,
   "id": "f18c6620",
   "metadata": {},
   "outputs": [
    {
     "data": {
      "text/html": [
       "<div>\n",
       "<style scoped>\n",
       "    .dataframe tbody tr th:only-of-type {\n",
       "        vertical-align: middle;\n",
       "    }\n",
       "\n",
       "    .dataframe tbody tr th {\n",
       "        vertical-align: top;\n",
       "    }\n",
       "\n",
       "    .dataframe thead th {\n",
       "        text-align: right;\n",
       "    }\n",
       "</style>\n",
       "<table border=\"1\" class=\"dataframe\">\n",
       "  <thead>\n",
       "    <tr style=\"text-align: right;\">\n",
       "      <th></th>\n",
       "      <th>tconst</th>\n",
       "      <th>titleType</th>\n",
       "      <th>primaryTitle</th>\n",
       "      <th>originalTitle</th>\n",
       "      <th>isAdult</th>\n",
       "      <th>startYear</th>\n",
       "      <th>endYear</th>\n",
       "      <th>runtimeMinutes</th>\n",
       "      <th>genres</th>\n",
       "    </tr>\n",
       "  </thead>\n",
       "  <tbody>\n",
       "    <tr>\n",
       "      <th>0</th>\n",
       "      <td>tt0000001</td>\n",
       "      <td>short</td>\n",
       "      <td>Carmencita</td>\n",
       "      <td>Carmencita</td>\n",
       "      <td>0</td>\n",
       "      <td>1894</td>\n",
       "      <td>\\N</td>\n",
       "      <td>1</td>\n",
       "      <td>Documentary,Short</td>\n",
       "    </tr>\n",
       "    <tr>\n",
       "      <th>1</th>\n",
       "      <td>tt0000002</td>\n",
       "      <td>short</td>\n",
       "      <td>Le clown et ses chiens</td>\n",
       "      <td>Le clown et ses chiens</td>\n",
       "      <td>0</td>\n",
       "      <td>1892</td>\n",
       "      <td>\\N</td>\n",
       "      <td>5</td>\n",
       "      <td>Animation,Short</td>\n",
       "    </tr>\n",
       "    <tr>\n",
       "      <th>2</th>\n",
       "      <td>tt0000003</td>\n",
       "      <td>short</td>\n",
       "      <td>Pauvre Pierrot</td>\n",
       "      <td>Pauvre Pierrot</td>\n",
       "      <td>0</td>\n",
       "      <td>1892</td>\n",
       "      <td>\\N</td>\n",
       "      <td>4</td>\n",
       "      <td>Animation,Comedy,Romance</td>\n",
       "    </tr>\n",
       "    <tr>\n",
       "      <th>3</th>\n",
       "      <td>tt0000004</td>\n",
       "      <td>short</td>\n",
       "      <td>Un bon bock</td>\n",
       "      <td>Un bon bock</td>\n",
       "      <td>0</td>\n",
       "      <td>1892</td>\n",
       "      <td>\\N</td>\n",
       "      <td>12</td>\n",
       "      <td>Animation,Short</td>\n",
       "    </tr>\n",
       "    <tr>\n",
       "      <th>4</th>\n",
       "      <td>tt0000005</td>\n",
       "      <td>short</td>\n",
       "      <td>Blacksmith Scene</td>\n",
       "      <td>Blacksmith Scene</td>\n",
       "      <td>0</td>\n",
       "      <td>1893</td>\n",
       "      <td>\\N</td>\n",
       "      <td>1</td>\n",
       "      <td>Comedy,Short</td>\n",
       "    </tr>\n",
       "  </tbody>\n",
       "</table>\n",
       "</div>"
      ],
      "text/plain": [
       "      tconst titleType            primaryTitle           originalTitle  \\\n",
       "0  tt0000001     short              Carmencita              Carmencita   \n",
       "1  tt0000002     short  Le clown et ses chiens  Le clown et ses chiens   \n",
       "2  tt0000003     short          Pauvre Pierrot          Pauvre Pierrot   \n",
       "3  tt0000004     short             Un bon bock             Un bon bock   \n",
       "4  tt0000005     short        Blacksmith Scene        Blacksmith Scene   \n",
       "\n",
       "  isAdult startYear endYear runtimeMinutes                    genres  \n",
       "0       0      1894      \\N              1         Documentary,Short  \n",
       "1       0      1892      \\N              5           Animation,Short  \n",
       "2       0      1892      \\N              4  Animation,Comedy,Romance  \n",
       "3       0      1892      \\N             12           Animation,Short  \n",
       "4       0      1893      \\N              1              Comedy,Short  "
      ]
     },
     "execution_count": 14,
     "metadata": {},
     "output_type": "execute_result"
    }
   ],
   "source": [
    "basics.head()"
   ]
  },
  {
   "cell_type": "code",
   "execution_count": 17,
   "id": "27418719",
   "metadata": {},
   "outputs": [],
   "source": [
    "file_path = 'title.ratings.tsv.gz'\n",
    "\n",
    "\n",
    "def read_gzipped_tsv(file_path):\n",
    "    with gzip.open(file_path, 'rb') as f:\n",
    "        ratings = pd.read_csv(f, sep='\\t', low_memory=False)\n",
    "    return ratings\n",
    "\n",
    "ratings = read_gzipped_tsv(file_path)"
   ]
  },
  {
   "cell_type": "code",
   "execution_count": 18,
   "id": "dac184a9",
   "metadata": {},
   "outputs": [
    {
     "data": {
      "text/html": [
       "<div>\n",
       "<style scoped>\n",
       "    .dataframe tbody tr th:only-of-type {\n",
       "        vertical-align: middle;\n",
       "    }\n",
       "\n",
       "    .dataframe tbody tr th {\n",
       "        vertical-align: top;\n",
       "    }\n",
       "\n",
       "    .dataframe thead th {\n",
       "        text-align: right;\n",
       "    }\n",
       "</style>\n",
       "<table border=\"1\" class=\"dataframe\">\n",
       "  <thead>\n",
       "    <tr style=\"text-align: right;\">\n",
       "      <th></th>\n",
       "      <th>tconst</th>\n",
       "      <th>averageRating</th>\n",
       "      <th>numVotes</th>\n",
       "    </tr>\n",
       "  </thead>\n",
       "  <tbody>\n",
       "    <tr>\n",
       "      <th>0</th>\n",
       "      <td>tt0000001</td>\n",
       "      <td>5.7</td>\n",
       "      <td>1989</td>\n",
       "    </tr>\n",
       "    <tr>\n",
       "      <th>1</th>\n",
       "      <td>tt0000002</td>\n",
       "      <td>5.8</td>\n",
       "      <td>265</td>\n",
       "    </tr>\n",
       "    <tr>\n",
       "      <th>2</th>\n",
       "      <td>tt0000003</td>\n",
       "      <td>6.5</td>\n",
       "      <td>1850</td>\n",
       "    </tr>\n",
       "    <tr>\n",
       "      <th>3</th>\n",
       "      <td>tt0000004</td>\n",
       "      <td>5.5</td>\n",
       "      <td>178</td>\n",
       "    </tr>\n",
       "    <tr>\n",
       "      <th>4</th>\n",
       "      <td>tt0000005</td>\n",
       "      <td>6.2</td>\n",
       "      <td>2634</td>\n",
       "    </tr>\n",
       "  </tbody>\n",
       "</table>\n",
       "</div>"
      ],
      "text/plain": [
       "      tconst  averageRating  numVotes\n",
       "0  tt0000001            5.7      1989\n",
       "1  tt0000002            5.8       265\n",
       "2  tt0000003            6.5      1850\n",
       "3  tt0000004            5.5       178\n",
       "4  tt0000005            6.2      2634"
      ]
     },
     "execution_count": 18,
     "metadata": {},
     "output_type": "execute_result"
    }
   ],
   "source": [
    "ratings.head()"
   ]
  },
  {
   "cell_type": "code",
   "execution_count": 25,
   "id": "de316385",
   "metadata": {
    "scrolled": true
   },
   "outputs": [],
   "source": [
    "\n",
    "akas = pd.read_csv('title-akas-us-only.csv', low_memory=False)\n"
   ]
  },
  {
   "cell_type": "code",
   "execution_count": 26,
   "id": "927a170c",
   "metadata": {},
   "outputs": [
    {
     "data": {
      "text/html": [
       "<div>\n",
       "<style scoped>\n",
       "    .dataframe tbody tr th:only-of-type {\n",
       "        vertical-align: middle;\n",
       "    }\n",
       "\n",
       "    .dataframe tbody tr th {\n",
       "        vertical-align: top;\n",
       "    }\n",
       "\n",
       "    .dataframe thead th {\n",
       "        text-align: right;\n",
       "    }\n",
       "</style>\n",
       "<table border=\"1\" class=\"dataframe\">\n",
       "  <thead>\n",
       "    <tr style=\"text-align: right;\">\n",
       "      <th></th>\n",
       "      <th>titleId</th>\n",
       "      <th>ordering</th>\n",
       "      <th>title</th>\n",
       "      <th>region</th>\n",
       "      <th>language</th>\n",
       "      <th>types</th>\n",
       "      <th>attributes</th>\n",
       "      <th>isOriginalTitle</th>\n",
       "    </tr>\n",
       "  </thead>\n",
       "  <tbody>\n",
       "    <tr>\n",
       "      <th>0</th>\n",
       "      <td>tt0000001</td>\n",
       "      <td>6</td>\n",
       "      <td>Carmencita</td>\n",
       "      <td>US</td>\n",
       "      <td>\\N</td>\n",
       "      <td>imdbDisplay</td>\n",
       "      <td>\\N</td>\n",
       "      <td>0</td>\n",
       "    </tr>\n",
       "    <tr>\n",
       "      <th>1</th>\n",
       "      <td>tt0000002</td>\n",
       "      <td>7</td>\n",
       "      <td>The Clown and His Dogs</td>\n",
       "      <td>US</td>\n",
       "      <td>\\N</td>\n",
       "      <td>\\N</td>\n",
       "      <td>literal English title</td>\n",
       "      <td>0</td>\n",
       "    </tr>\n",
       "    <tr>\n",
       "      <th>2</th>\n",
       "      <td>tt0000005</td>\n",
       "      <td>10</td>\n",
       "      <td>Blacksmith Scene</td>\n",
       "      <td>US</td>\n",
       "      <td>\\N</td>\n",
       "      <td>imdbDisplay</td>\n",
       "      <td>\\N</td>\n",
       "      <td>0</td>\n",
       "    </tr>\n",
       "    <tr>\n",
       "      <th>3</th>\n",
       "      <td>tt0000005</td>\n",
       "      <td>1</td>\n",
       "      <td>Blacksmithing Scene</td>\n",
       "      <td>US</td>\n",
       "      <td>\\N</td>\n",
       "      <td>alternative</td>\n",
       "      <td>\\N</td>\n",
       "      <td>0</td>\n",
       "    </tr>\n",
       "    <tr>\n",
       "      <th>4</th>\n",
       "      <td>tt0000005</td>\n",
       "      <td>6</td>\n",
       "      <td>Blacksmith Scene #1</td>\n",
       "      <td>US</td>\n",
       "      <td>\\N</td>\n",
       "      <td>alternative</td>\n",
       "      <td>\\N</td>\n",
       "      <td>0</td>\n",
       "    </tr>\n",
       "  </tbody>\n",
       "</table>\n",
       "</div>"
      ],
      "text/plain": [
       "     titleId  ordering                   title region language        types  \\\n",
       "0  tt0000001         6              Carmencita     US       \\N  imdbDisplay   \n",
       "1  tt0000002         7  The Clown and His Dogs     US       \\N           \\N   \n",
       "2  tt0000005        10        Blacksmith Scene     US       \\N  imdbDisplay   \n",
       "3  tt0000005         1     Blacksmithing Scene     US       \\N  alternative   \n",
       "4  tt0000005         6     Blacksmith Scene #1     US       \\N  alternative   \n",
       "\n",
       "              attributes isOriginalTitle  \n",
       "0                     \\N               0  \n",
       "1  literal English title               0  \n",
       "2                     \\N               0  \n",
       "3                     \\N               0  \n",
       "4                     \\N               0  "
      ]
     },
     "execution_count": 26,
     "metadata": {},
     "output_type": "execute_result"
    }
   ],
   "source": [
    "akas.head()"
   ]
  },
  {
   "cell_type": "markdown",
   "id": "eba66816",
   "metadata": {},
   "source": [
    "### Required Preprocessing - Details\n",
    "\n",
    "Below is an overview of the steps required for this part of the project. Further down the page are detailed tips on how to accomplish many of these steps.\n",
    "\n",
    "Filtering/Cleaning Steps:\n",
    "\n",
    "AKAs:\n",
    "* keep only US movies.\n",
    "* Replace \"\\N\" with np.nan\n",
    "\n"
   ]
  },
  {
   "cell_type": "code",
   "execution_count": 29,
   "id": "df8b6f3b",
   "metadata": {},
   "outputs": [],
   "source": [
    "akas.replace({'\\\\N':'np.nan'}, inplace = True)"
   ]
  },
  {
   "cell_type": "markdown",
   "id": "6a815292",
   "metadata": {},
   "source": [
    "Ratings:\n",
    "* Keep only movies that were included in your final title basics dataframe above.\n",
    "(Use AKAs table, see \"Filtering one dataframe based on another\" section below)\n",
    "* Replace \"\\N\" with np.nan (if any)"
   ]
  },
  {
   "cell_type": "code",
   "execution_count": 30,
   "id": "16b37264",
   "metadata": {},
   "outputs": [],
   "source": [
    "ratings.replace({'\\\\N':'np.nan'}, inplace = True)"
   ]
  },
  {
   "cell_type": "markdown",
   "id": "740e3abd",
   "metadata": {},
   "source": [
    "Title Basics:\n",
    "* Keep only US movies (Use AKAs table, see \"Filtering one dataframe based on another\" section below)\n",
    "* Replace \"\\N\" with np.nan\n",
    "* Eliminate movies that are null for runtimeMinutes\n",
    "* Eliminate movies that are null for genre\n",
    "* keep only titleType==Movie\n",
    "* Convert the startYear column to float data type.\n",
    "* Filter the dataframe using startYear. Keep years between 2000-2021 (Including 2000 and 2021)\n",
    "* Eliminate movies that include \"Documentary\" in the genre (see tip below).\n",
    "\n"
   ]
  },
  {
   "cell_type": "code",
   "execution_count": 31,
   "id": "f9702e1f",
   "metadata": {},
   "outputs": [],
   "source": [
    "basics.replace({'\\\\N':'np.nan'}, inplace = True)"
   ]
  },
  {
   "cell_type": "code",
   "execution_count": 33,
   "id": "a02e2c85",
   "metadata": {},
   "outputs": [
    {
     "data": {
      "text/plain": [
       "0            True\n",
       "1            True\n",
       "2           False\n",
       "3           False\n",
       "4            True\n",
       "            ...  \n",
       "10036507    False\n",
       "10036508    False\n",
       "10036509    False\n",
       "10036510    False\n",
       "10036511    False\n",
       "Name: tconst, Length: 10036512, dtype: bool"
      ]
     },
     "execution_count": 33,
     "metadata": {},
     "output_type": "execute_result"
    }
   ],
   "source": [
    "keepers =basics['tconst'].isin(akas['titleId'])\n",
    "keepers"
   ]
  },
  {
   "cell_type": "code",
   "execution_count": 34,
   "id": "3eb393c0",
   "metadata": {},
   "outputs": [
    {
     "data": {
      "text/html": [
       "<div>\n",
       "<style scoped>\n",
       "    .dataframe tbody tr th:only-of-type {\n",
       "        vertical-align: middle;\n",
       "    }\n",
       "\n",
       "    .dataframe tbody tr th {\n",
       "        vertical-align: top;\n",
       "    }\n",
       "\n",
       "    .dataframe thead th {\n",
       "        text-align: right;\n",
       "    }\n",
       "</style>\n",
       "<table border=\"1\" class=\"dataframe\">\n",
       "  <thead>\n",
       "    <tr style=\"text-align: right;\">\n",
       "      <th></th>\n",
       "      <th>tconst</th>\n",
       "      <th>titleType</th>\n",
       "      <th>primaryTitle</th>\n",
       "      <th>originalTitle</th>\n",
       "      <th>isAdult</th>\n",
       "      <th>startYear</th>\n",
       "      <th>endYear</th>\n",
       "      <th>runtimeMinutes</th>\n",
       "      <th>genres</th>\n",
       "    </tr>\n",
       "  </thead>\n",
       "  <tbody>\n",
       "    <tr>\n",
       "      <th>0</th>\n",
       "      <td>tt0000001</td>\n",
       "      <td>short</td>\n",
       "      <td>Carmencita</td>\n",
       "      <td>Carmencita</td>\n",
       "      <td>0</td>\n",
       "      <td>1894</td>\n",
       "      <td>np.nan</td>\n",
       "      <td>1</td>\n",
       "      <td>Documentary,Short</td>\n",
       "    </tr>\n",
       "    <tr>\n",
       "      <th>1</th>\n",
       "      <td>tt0000002</td>\n",
       "      <td>short</td>\n",
       "      <td>Le clown et ses chiens</td>\n",
       "      <td>Le clown et ses chiens</td>\n",
       "      <td>0</td>\n",
       "      <td>1892</td>\n",
       "      <td>np.nan</td>\n",
       "      <td>5</td>\n",
       "      <td>Animation,Short</td>\n",
       "    </tr>\n",
       "    <tr>\n",
       "      <th>4</th>\n",
       "      <td>tt0000005</td>\n",
       "      <td>short</td>\n",
       "      <td>Blacksmith Scene</td>\n",
       "      <td>Blacksmith Scene</td>\n",
       "      <td>0</td>\n",
       "      <td>1893</td>\n",
       "      <td>np.nan</td>\n",
       "      <td>1</td>\n",
       "      <td>Comedy,Short</td>\n",
       "    </tr>\n",
       "    <tr>\n",
       "      <th>5</th>\n",
       "      <td>tt0000006</td>\n",
       "      <td>short</td>\n",
       "      <td>Chinese Opium Den</td>\n",
       "      <td>Chinese Opium Den</td>\n",
       "      <td>0</td>\n",
       "      <td>1894</td>\n",
       "      <td>np.nan</td>\n",
       "      <td>1</td>\n",
       "      <td>Short</td>\n",
       "    </tr>\n",
       "    <tr>\n",
       "      <th>6</th>\n",
       "      <td>tt0000007</td>\n",
       "      <td>short</td>\n",
       "      <td>Corbett and Courtney Before the Kinetograph</td>\n",
       "      <td>Corbett and Courtney Before the Kinetograph</td>\n",
       "      <td>0</td>\n",
       "      <td>1894</td>\n",
       "      <td>np.nan</td>\n",
       "      <td>1</td>\n",
       "      <td>Short,Sport</td>\n",
       "    </tr>\n",
       "    <tr>\n",
       "      <th>...</th>\n",
       "      <td>...</td>\n",
       "      <td>...</td>\n",
       "      <td>...</td>\n",
       "      <td>...</td>\n",
       "      <td>...</td>\n",
       "      <td>...</td>\n",
       "      <td>...</td>\n",
       "      <td>...</td>\n",
       "      <td>...</td>\n",
       "    </tr>\n",
       "    <tr>\n",
       "      <th>10036373</th>\n",
       "      <td>tt9916560</td>\n",
       "      <td>tvMovie</td>\n",
       "      <td>March of Dimes Presents: Once Upon a Dime</td>\n",
       "      <td>March of Dimes Presents: Once Upon a Dime</td>\n",
       "      <td>0</td>\n",
       "      <td>1963</td>\n",
       "      <td>np.nan</td>\n",
       "      <td>58</td>\n",
       "      <td>Family</td>\n",
       "    </tr>\n",
       "    <tr>\n",
       "      <th>10036402</th>\n",
       "      <td>tt9916620</td>\n",
       "      <td>movie</td>\n",
       "      <td>The Copeland Case</td>\n",
       "      <td>The Copeland Case</td>\n",
       "      <td>0</td>\n",
       "      <td>np.nan</td>\n",
       "      <td>np.nan</td>\n",
       "      <td>np.nan</td>\n",
       "      <td>Drama</td>\n",
       "    </tr>\n",
       "    <tr>\n",
       "      <th>10036440</th>\n",
       "      <td>tt9916702</td>\n",
       "      <td>short</td>\n",
       "      <td>Loving London: The Playground</td>\n",
       "      <td>Loving London: The Playground</td>\n",
       "      <td>0</td>\n",
       "      <td>np.nan</td>\n",
       "      <td>np.nan</td>\n",
       "      <td>np.nan</td>\n",
       "      <td>Drama,Short</td>\n",
       "    </tr>\n",
       "    <tr>\n",
       "      <th>10036463</th>\n",
       "      <td>tt9916756</td>\n",
       "      <td>short</td>\n",
       "      <td>Pretty Pretty Black Girl</td>\n",
       "      <td>Pretty Pretty Black Girl</td>\n",
       "      <td>0</td>\n",
       "      <td>2019</td>\n",
       "      <td>np.nan</td>\n",
       "      <td>np.nan</td>\n",
       "      <td>Short</td>\n",
       "    </tr>\n",
       "    <tr>\n",
       "      <th>10036467</th>\n",
       "      <td>tt9916764</td>\n",
       "      <td>short</td>\n",
       "      <td>38</td>\n",
       "      <td>38</td>\n",
       "      <td>0</td>\n",
       "      <td>2018</td>\n",
       "      <td>np.nan</td>\n",
       "      <td>np.nan</td>\n",
       "      <td>Short</td>\n",
       "    </tr>\n",
       "  </tbody>\n",
       "</table>\n",
       "<p>1365742 rows × 9 columns</p>\n",
       "</div>"
      ],
      "text/plain": [
       "             tconst titleType                                 primaryTitle  \\\n",
       "0         tt0000001     short                                   Carmencita   \n",
       "1         tt0000002     short                       Le clown et ses chiens   \n",
       "4         tt0000005     short                             Blacksmith Scene   \n",
       "5         tt0000006     short                            Chinese Opium Den   \n",
       "6         tt0000007     short  Corbett and Courtney Before the Kinetograph   \n",
       "...             ...       ...                                          ...   \n",
       "10036373  tt9916560   tvMovie    March of Dimes Presents: Once Upon a Dime   \n",
       "10036402  tt9916620     movie                            The Copeland Case   \n",
       "10036440  tt9916702     short                Loving London: The Playground   \n",
       "10036463  tt9916756     short                     Pretty Pretty Black Girl   \n",
       "10036467  tt9916764     short                                           38   \n",
       "\n",
       "                                        originalTitle isAdult startYear  \\\n",
       "0                                          Carmencita       0      1894   \n",
       "1                              Le clown et ses chiens       0      1892   \n",
       "4                                    Blacksmith Scene       0      1893   \n",
       "5                                   Chinese Opium Den       0      1894   \n",
       "6         Corbett and Courtney Before the Kinetograph       0      1894   \n",
       "...                                               ...     ...       ...   \n",
       "10036373    March of Dimes Presents: Once Upon a Dime       0      1963   \n",
       "10036402                            The Copeland Case       0    np.nan   \n",
       "10036440                Loving London: The Playground       0    np.nan   \n",
       "10036463                     Pretty Pretty Black Girl       0      2019   \n",
       "10036467                                           38       0      2018   \n",
       "\n",
       "         endYear runtimeMinutes             genres  \n",
       "0         np.nan              1  Documentary,Short  \n",
       "1         np.nan              5    Animation,Short  \n",
       "4         np.nan              1       Comedy,Short  \n",
       "5         np.nan              1              Short  \n",
       "6         np.nan              1        Short,Sport  \n",
       "...          ...            ...                ...  \n",
       "10036373  np.nan             58             Family  \n",
       "10036402  np.nan         np.nan              Drama  \n",
       "10036440  np.nan         np.nan        Drama,Short  \n",
       "10036463  np.nan         np.nan              Short  \n",
       "10036467  np.nan         np.nan              Short  \n",
       "\n",
       "[1365742 rows x 9 columns]"
      ]
     },
     "execution_count": 34,
     "metadata": {},
     "output_type": "execute_result"
    }
   ],
   "source": [
    "basics = basics[keepers]\n",
    "basics"
   ]
  },
  {
   "cell_type": "code",
   "execution_count": 35,
   "id": "f39276ba",
   "metadata": {},
   "outputs": [
    {
     "name": "stdout",
     "output_type": "stream",
     "text": [
      "<class 'pandas.core.frame.DataFrame'>\n",
      "Int64Index: 1365742 entries, 0 to 10036467\n",
      "Data columns (total 9 columns):\n",
      " #   Column          Non-Null Count    Dtype \n",
      "---  ------          --------------    ----- \n",
      " 0   tconst          1365742 non-null  object\n",
      " 1   titleType       1365742 non-null  object\n",
      " 2   primaryTitle    1365742 non-null  object\n",
      " 3   originalTitle   1365742 non-null  object\n",
      " 4   isAdult         1365742 non-null  object\n",
      " 5   startYear       1365742 non-null  object\n",
      " 6   endYear         1365742 non-null  object\n",
      " 7   runtimeMinutes  1365742 non-null  object\n",
      " 8   genres          1365742 non-null  object\n",
      "dtypes: object(9)\n",
      "memory usage: 104.2+ MB\n"
     ]
    }
   ],
   "source": [
    "basics.info()"
   ]
  },
  {
   "cell_type": "code",
   "execution_count": 39,
   "id": "4c1ac4c2",
   "metadata": {},
   "outputs": [],
   "source": [
    "\n",
    "basics.dropna(subset=['runtimeMinutes'], inplace=True)"
   ]
  },
  {
   "cell_type": "code",
   "execution_count": 40,
   "id": "54517893",
   "metadata": {},
   "outputs": [],
   "source": [
    "basics.dropna(subset=['genres'], inplace=True)"
   ]
  },
  {
   "cell_type": "code",
   "execution_count": 41,
   "id": "a72d91e2",
   "metadata": {},
   "outputs": [],
   "source": [
    "basics = basics[basics['titleType'] == 'Movie']"
   ]
  },
  {
   "cell_type": "code",
   "execution_count": 42,
   "id": "7f463532",
   "metadata": {},
   "outputs": [],
   "source": [
    "basics['startYear'] = basics['startYear'].astype(float)"
   ]
  },
  {
   "cell_type": "code",
   "execution_count": 43,
   "id": "5978d7ec",
   "metadata": {},
   "outputs": [],
   "source": [
    "filtered_basics = basics[(basics['startYear'] >= 2000) \n",
    "                         & (basics['startYear'] <= 2021)]"
   ]
  },
  {
   "cell_type": "code",
   "execution_count": 44,
   "id": "505f4ea2",
   "metadata": {},
   "outputs": [
    {
     "data": {
      "text/html": [
       "<div>\n",
       "<style scoped>\n",
       "    .dataframe tbody tr th:only-of-type {\n",
       "        vertical-align: middle;\n",
       "    }\n",
       "\n",
       "    .dataframe tbody tr th {\n",
       "        vertical-align: top;\n",
       "    }\n",
       "\n",
       "    .dataframe thead th {\n",
       "        text-align: right;\n",
       "    }\n",
       "</style>\n",
       "<table border=\"1\" class=\"dataframe\">\n",
       "  <thead>\n",
       "    <tr style=\"text-align: right;\">\n",
       "      <th></th>\n",
       "      <th>tconst</th>\n",
       "      <th>titleType</th>\n",
       "      <th>primaryTitle</th>\n",
       "      <th>originalTitle</th>\n",
       "      <th>isAdult</th>\n",
       "      <th>startYear</th>\n",
       "      <th>endYear</th>\n",
       "      <th>runtimeMinutes</th>\n",
       "      <th>genres</th>\n",
       "    </tr>\n",
       "  </thead>\n",
       "  <tbody>\n",
       "  </tbody>\n",
       "</table>\n",
       "</div>"
      ],
      "text/plain": [
       "Empty DataFrame\n",
       "Columns: [tconst, titleType, primaryTitle, originalTitle, isAdult, startYear, endYear, runtimeMinutes, genres]\n",
       "Index: []"
      ]
     },
     "execution_count": 44,
     "metadata": {},
     "output_type": "execute_result"
    }
   ],
   "source": [
    "basics = basics[filtered_basics]\n",
    "basics"
   ]
  },
  {
   "cell_type": "code",
   "execution_count": 45,
   "id": "feefc1f9",
   "metadata": {},
   "outputs": [
    {
     "data": {
      "text/html": [
       "<div>\n",
       "<style scoped>\n",
       "    .dataframe tbody tr th:only-of-type {\n",
       "        vertical-align: middle;\n",
       "    }\n",
       "\n",
       "    .dataframe tbody tr th {\n",
       "        vertical-align: top;\n",
       "    }\n",
       "\n",
       "    .dataframe thead th {\n",
       "        text-align: right;\n",
       "    }\n",
       "</style>\n",
       "<table border=\"1\" class=\"dataframe\">\n",
       "  <thead>\n",
       "    <tr style=\"text-align: right;\">\n",
       "      <th></th>\n",
       "      <th>tconst</th>\n",
       "      <th>titleType</th>\n",
       "      <th>primaryTitle</th>\n",
       "      <th>originalTitle</th>\n",
       "      <th>isAdult</th>\n",
       "      <th>startYear</th>\n",
       "      <th>endYear</th>\n",
       "      <th>runtimeMinutes</th>\n",
       "      <th>genres</th>\n",
       "    </tr>\n",
       "  </thead>\n",
       "  <tbody>\n",
       "  </tbody>\n",
       "</table>\n",
       "</div>"
      ],
      "text/plain": [
       "Empty DataFrame\n",
       "Columns: [tconst, titleType, primaryTitle, originalTitle, isAdult, startYear, endYear, runtimeMinutes, genres]\n",
       "Index: []"
      ]
     },
     "execution_count": 45,
     "metadata": {},
     "output_type": "execute_result"
    }
   ],
   "source": [
    "basics.head()"
   ]
  },
  {
   "cell_type": "code",
   "execution_count": null,
   "id": "ad1008bb",
   "metadata": {},
   "outputs": [],
   "source": []
  },
  {
   "cell_type": "markdown",
   "id": "54f6c1b1",
   "metadata": {},
   "source": [
    "## Deliverable\n",
    "\n",
    "After filtering out movies that do not meet the stakeholder's specifications:\n",
    "\n",
    "* Before saving, run a final .info() for each of the dataframes to show a summary of how many movies remain and the datatypes of each feature\n",
    "* Save each file to a compressed csv file \"Data/\" folder inside your repository.\n",
    "* Commit your changes to your repository in GitHub desktop and * Publish repository / Push Changes.\n",
    "* Submit the link to your repository"
   ]
  }
 ],
 "metadata": {
  "kernelspec": {
   "display_name": "Python (dojo-env)",
   "language": "python",
   "name": "dojo-env"
  },
  "language_info": {
   "codemirror_mode": {
    "name": "ipython",
    "version": 3
   },
   "file_extension": ".py",
   "mimetype": "text/x-python",
   "name": "python",
   "nbconvert_exporter": "python",
   "pygments_lexer": "ipython3",
   "version": "3.9.15"
  },
  "toc": {
   "base_numbering": 1,
   "nav_menu": {},
   "number_sections": false,
   "sideBar": true,
   "skip_h1_title": false,
   "title_cell": "Table of Contents",
   "title_sidebar": "Contents",
   "toc_cell": false,
   "toc_position": {},
   "toc_section_display": true,
   "toc_window_display": true
  }
 },
 "nbformat": 4,
 "nbformat_minor": 5
}
