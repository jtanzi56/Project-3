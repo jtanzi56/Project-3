{
 "cells": [
  {
   "cell_type": "markdown",
   "id": "0af325cc",
   "metadata": {},
   "source": [
    "# Hypothesis Testing \n",
    "Part 4\n",
    "\n",
    "Jacob Tanzi"
   ]
  },
  {
   "cell_type": "code",
   "execution_count": null,
   "id": "1e6ee14f",
   "metadata": {},
   "outputs": [],
   "source": []
  },
  {
   "cell_type": "markdown",
   "id": "ea14af12",
   "metadata": {},
   "source": [
    "Using MySQL database from part 3\n",
    "\n",
    "Answer questions for your stakeholder. \n",
    "\n",
    "#### *what makes a successful movie??*\n",
    "\n"
   ]
  },
  {
   "cell_type": "markdown",
   "id": "9bea482e",
   "metadata": {},
   "source": [
    "#### Questions to Answer\n",
    "\n",
    "#### Q1\n",
    "* Does the MPAA rating of a movie (G/PG/PG-13/R) affect how much revenue the movie generates?\n",
    "\n",
    "\n",
    "\n",
    "#### Null Hypothesis\n",
    "The MPAA rating of a movie does not affect the revenue generated\n",
    "#### Alternative Hypothesis\n",
    "The MPAA rating of a movie has a significant affect on the revenue generated\n",
    "\n",
    "* Select the correct test according to the data type and number of samples\n",
    "* Numerical Data\n",
    "* Two groups rating and revenue\n",
    "* Run a 2-sample T-test."
   ]
  },
  {
   "cell_type": "markdown",
   "id": "93098eeb",
   "metadata": {},
   "source": [
    "#### Q2\n",
    "Do movies that are over 2 hours long earn more revenue than movies that are 1.5 hours long (or less)?\n",
    "#### Null Hypothesis\n",
    "There is no difference in earned revenue between movies that are over 2 hours long, than movies that are 1.5 hours long or less \n",
    "#### Alternative Hypothesis\n",
    "There is a significant difference in earned revenue between movies that are over 2 hours long, than movies that are 1.5 hours long or less \n",
    "\n",
    "\n",
    "* Numerical Data\n",
    "* Two groups runtime and revenue\n",
    "* Run a 2-sample T-test.\n",
    "\n",
    "\n"
   ]
  },
  {
   "cell_type": "markdown",
   "id": "391d9a85",
   "metadata": {},
   "source": [
    "#### Q3\n",
    "Do some movie genres earn more revenue than others?\n",
    "#### Null Hypothesis\n",
    "The genre of a movie has no affect on revenue \n",
    "\n",
    "#### Alternative Hypothesis\n",
    "The genre of a movie has a significant affect on revenue \n",
    "\n",
    "\n",
    "\n",
    "* Numerical Data\n",
    "* Two groups revenue and genre(ohe)\n",
    "* Run a 2-sample T-test."
   ]
  },
  {
   "cell_type": "code",
   "execution_count": 1,
   "id": "1a378e93",
   "metadata": {},
   "outputs": [],
   "source": [
    "import os, json, math, time\n",
    "import pandas as pd\n",
    "import numpy as np\n",
    "import seaborn as sns\n",
    "from scipy import stats\n",
    "import tmdbsimple as tmdb\n",
    "from tqdm.notebook import tqdm_notebook\n",
    "import matplotlib.pyplot as plt\n",
    "import glob\n",
    "\n",
    "from sklearn.model_selection import train_test_split\n",
    "from sklearn.preprocessing import OneHotEncoder, StandardScaler\n",
    "from sklearn.impute import SimpleImputer\n",
    "from sklearn.compose import make_column_transformer, make_column_selector, ColumnTransformer\n",
    "from sklearn.pipeline import make_pipeline, Pipeline\n",
    "from sklearn.metrics import r2_score,mean_absolute_error,mean_squared_error\n",
    "np.random.seed(321)"
   ]
  },
  {
   "cell_type": "markdown",
   "id": "0bc2deee",
   "metadata": {},
   "source": [
    "* They want you to perform a statistical test to get a mathematically-supported answer.\n",
    "* They want you to report if you found a significant difference between ratings.\n",
    " * If so, what was the p-value of your analysis?\n",
    " * And which rating earns the most revenue?\n",
    " \n",
    "* They want you to prepare a visualization that supports your finding.\n",
    "\n",
    "\n",
    "\n"
   ]
  },
  {
   "cell_type": "markdown",
   "id": "38d8fd7e",
   "metadata": {},
   "source": [
    "#### Specifications\n",
    "#### Your Data\n",
    "\n",
    "* A critical first step for this assignment will be to retrieve additional movie data to add to your SQL database.\n",
    " * You will want to use the TMDB API again and extract data for additional years.\n",
    " * You may want to review the optional lesson from Week 1 on \"Using Glob to Load Many Files\" to load and combine all of your API results for each year.\n",
    "\n",
    "* However, trying to extract the TMDB data for all movies from 2000-2022 could take >24 hours!\n",
    "\n",
    "* To address this issue, you should EITHER:\n",
    " * Define a smaller (but logical) period of time to use for your analyses (e.g., last 10 years, 2010-2019 (pre-pandemic, etc).\n",
    "\n",
    " * OR coordinate with cohort-mates and divide the API calls so that you can all download the data for a smaller number of years and then share your downloaded JSON data.\n",
    "\n",
    "\n"
   ]
  },
  {
   "cell_type": "code",
   "execution_count": 2,
   "id": "647f4793",
   "metadata": {},
   "outputs": [
    {
     "data": {
      "text/plain": [
       "['.ipynb_checkpoints',\n",
       " '2010-2021',\n",
       " 'Data',\n",
       " 'TMDB api.ipynb',\n",
       " 'combined_tmdb_data.csv.gz',\n",
       " 'final_tmdb_data_2000.csv.gz',\n",
       " 'final_tmdb_data_2001.csv.gz',\n",
       " 'final_tmdb_data_2010.csv.gz',\n",
       " 'final_tmdb_data_2011.csv.gz',\n",
       " 'final_tmdb_data_2012.csv.gz',\n",
       " 'final_tmdb_data_2013.csv.gz',\n",
       " 'final_tmdb_data_2014.csv.gz',\n",
       " 'final_tmdb_data_2015.csv.gz',\n",
       " 'final_tmdb_data_2016.csv.gz',\n",
       " 'final_tmdb_data_2017.csv.gz',\n",
       " 'final_tmdb_data_2018.csv.gz',\n",
       " 'final_tmdb_data_2019.csv.gz',\n",
       " 'final_tmdb_data_2020.csv.gz',\n",
       " 'final_tmdb_data_2021.csv.gz',\n",
       " 'title_akas.csv.gz',\n",
       " 'title_basics.csv.gz',\n",
       " 'title_ratings.csv.gz',\n",
       " 'tmdb_api_results_2000.json',\n",
       " 'tmdb_api_results_2001.json',\n",
       " 'tmdb_api_results_2010.json',\n",
       " 'tmdb_api_results_2011.json',\n",
       " 'tmdb_api_results_2012.json',\n",
       " 'tmdb_api_results_2013.json',\n",
       " 'tmdb_api_results_2014.json',\n",
       " 'tmdb_api_results_2015.json',\n",
       " 'tmdb_api_results_2016.json',\n",
       " 'tmdb_api_results_2017.json',\n",
       " 'tmdb_api_results_2018.json',\n",
       " 'tmdb_api_results_2019.json',\n",
       " 'tmdb_api_results_2020.json',\n",
       " 'tmdb_api_results_2021.json',\n",
       " 'tmdb_results_combined.csv.gz']"
      ]
     },
     "execution_count": 2,
     "metadata": {},
     "output_type": "execute_result"
    }
   ],
   "source": [
    "FOLDER = \"Data/\"\n",
    "file_list = sorted(os.listdir(FOLDER))\n",
    "file_list"
   ]
  },
  {
   "cell_type": "code",
   "execution_count": 3,
   "id": "08cb8b3e",
   "metadata": {},
   "outputs": [
    {
     "name": "stdout",
     "output_type": "stream",
     "text": [
      "Data/*.csv.gz\n"
     ]
    }
   ],
   "source": [
    "q = FOLDER+\"*.csv.gz\"\n",
    "print(q)"
   ]
  },
  {
   "cell_type": "code",
   "execution_count": 4,
   "id": "065180f6",
   "metadata": {},
   "outputs": [
    {
     "data": {
      "text/plain": [
       "['Data\\\\combined_tmdb_data.csv.gz',\n",
       " 'Data\\\\final_tmdb_data_2000.csv.gz',\n",
       " 'Data\\\\final_tmdb_data_2001.csv.gz',\n",
       " 'Data\\\\final_tmdb_data_2010.csv.gz',\n",
       " 'Data\\\\final_tmdb_data_2011.csv.gz',\n",
       " 'Data\\\\final_tmdb_data_2012.csv.gz',\n",
       " 'Data\\\\final_tmdb_data_2013.csv.gz',\n",
       " 'Data\\\\final_tmdb_data_2014.csv.gz',\n",
       " 'Data\\\\final_tmdb_data_2015.csv.gz',\n",
       " 'Data\\\\final_tmdb_data_2016.csv.gz',\n",
       " 'Data\\\\final_tmdb_data_2017.csv.gz',\n",
       " 'Data\\\\final_tmdb_data_2018.csv.gz',\n",
       " 'Data\\\\final_tmdb_data_2019.csv.gz',\n",
       " 'Data\\\\final_tmdb_data_2020.csv.gz',\n",
       " 'Data\\\\final_tmdb_data_2021.csv.gz',\n",
       " 'Data\\\\title_akas.csv.gz',\n",
       " 'Data\\\\title_basics.csv.gz',\n",
       " 'Data\\\\title_ratings.csv.gz',\n",
       " 'Data\\\\tmdb_results_combined.csv.gz']"
      ]
     },
     "execution_count": 4,
     "metadata": {},
     "output_type": "execute_result"
    }
   ],
   "source": [
    "file_list = glob.glob(q)\n",
    "file_list"
   ]
  },
  {
   "cell_type": "code",
   "execution_count": 5,
   "id": "a89bb63c",
   "metadata": {},
   "outputs": [
    {
     "name": "stdout",
     "output_type": "stream",
     "text": [
      "Data/*.csv.gz\n"
     ]
    },
    {
     "data": {
      "text/plain": [
       "['Data\\\\combined_tmdb_data.csv.gz',\n",
       " 'Data\\\\final_tmdb_data_2000.csv.gz',\n",
       " 'Data\\\\final_tmdb_data_2001.csv.gz',\n",
       " 'Data\\\\final_tmdb_data_2010.csv.gz',\n",
       " 'Data\\\\final_tmdb_data_2011.csv.gz',\n",
       " 'Data\\\\final_tmdb_data_2012.csv.gz',\n",
       " 'Data\\\\final_tmdb_data_2013.csv.gz',\n",
       " 'Data\\\\final_tmdb_data_2014.csv.gz',\n",
       " 'Data\\\\final_tmdb_data_2015.csv.gz',\n",
       " 'Data\\\\final_tmdb_data_2016.csv.gz',\n",
       " 'Data\\\\final_tmdb_data_2017.csv.gz',\n",
       " 'Data\\\\final_tmdb_data_2018.csv.gz',\n",
       " 'Data\\\\final_tmdb_data_2019.csv.gz',\n",
       " 'Data\\\\final_tmdb_data_2020.csv.gz',\n",
       " 'Data\\\\final_tmdb_data_2021.csv.gz',\n",
       " 'Data\\\\title_akas.csv.gz',\n",
       " 'Data\\\\title_basics.csv.gz',\n",
       " 'Data\\\\title_ratings.csv.gz',\n",
       " 'Data\\\\tmdb_results_combined.csv.gz']"
      ]
     },
     "execution_count": 5,
     "metadata": {},
     "output_type": "execute_result"
    }
   ],
   "source": [
    "q = FOLDER+\"*.csv.gz\"\n",
    "print(q)\n",
    "file_list = sorted(glob.glob(q))\n",
    "file_list"
   ]
  },
  {
   "cell_type": "code",
   "execution_count": 6,
   "id": "63274137",
   "metadata": {
    "scrolled": true
   },
   "outputs": [
    {
     "name": "stdout",
     "output_type": "stream",
     "text": [
      "Data//**/*.csv.gz\n"
     ]
    },
    {
     "data": {
      "text/plain": [
       "['Data\\\\combined_tmdb_data.csv.gz',\n",
       " 'Data\\\\final_tmdb_data_2000.csv.gz',\n",
       " 'Data\\\\final_tmdb_data_2001.csv.gz',\n",
       " 'Data\\\\final_tmdb_data_2010.csv.gz',\n",
       " 'Data\\\\final_tmdb_data_2011.csv.gz',\n",
       " 'Data\\\\final_tmdb_data_2012.csv.gz',\n",
       " 'Data\\\\final_tmdb_data_2013.csv.gz',\n",
       " 'Data\\\\final_tmdb_data_2014.csv.gz',\n",
       " 'Data\\\\final_tmdb_data_2015.csv.gz',\n",
       " 'Data\\\\final_tmdb_data_2016.csv.gz',\n",
       " 'Data\\\\final_tmdb_data_2017.csv.gz',\n",
       " 'Data\\\\final_tmdb_data_2018.csv.gz',\n",
       " 'Data\\\\final_tmdb_data_2019.csv.gz',\n",
       " 'Data\\\\final_tmdb_data_2020.csv.gz',\n",
       " 'Data\\\\final_tmdb_data_2021.csv.gz',\n",
       " 'Data\\\\title_akas.csv.gz',\n",
       " 'Data\\\\title_basics.csv.gz',\n",
       " 'Data\\\\title_ratings.csv.gz',\n",
       " 'Data\\\\tmdb_results_combined.csv.gz']"
      ]
     },
     "execution_count": 6,
     "metadata": {},
     "output_type": "execute_result"
    }
   ],
   "source": [
    "q = FOLDER+\"/**/*.csv.gz\"\n",
    "print(q)\n",
    "file_list = sorted(glob.glob(q,recursive=True))\n",
    "file_list"
   ]
  },
  {
   "cell_type": "code",
   "execution_count": 7,
   "id": "a9482ef5",
   "metadata": {},
   "outputs": [
    {
     "name": "stderr",
     "output_type": "stream",
     "text": [
      "C:\\Users\\Jacob\\AppData\\Local\\Temp\\ipykernel_16000\\3559116000.py:1: DtypeWarning: Columns (0,2,3,5,6,8,9,10,12,13,14,15,18,19,20,21,25,27,28,30,31,32,33,35,36,37,38) have mixed types. Specify dtype option on import or set low_memory=False.\n",
      "  df = pd.concat([pd.read_csv(f) for f in file_list])\n"
     ]
    },
    {
     "data": {
      "text/html": [
       "<div>\n",
       "<style scoped>\n",
       "    .dataframe tbody tr th:only-of-type {\n",
       "        vertical-align: middle;\n",
       "    }\n",
       "\n",
       "    .dataframe tbody tr th {\n",
       "        vertical-align: top;\n",
       "    }\n",
       "\n",
       "    .dataframe thead th {\n",
       "        text-align: right;\n",
       "    }\n",
       "</style>\n",
       "<table border=\"1\" class=\"dataframe\">\n",
       "  <thead>\n",
       "    <tr style=\"text-align: right;\">\n",
       "      <th></th>\n",
       "      <th>imdb_id</th>\n",
       "      <th>adult</th>\n",
       "      <th>backdrop_path</th>\n",
       "      <th>belongs_to_collection</th>\n",
       "      <th>budget</th>\n",
       "      <th>genres</th>\n",
       "      <th>homepage</th>\n",
       "      <th>id</th>\n",
       "      <th>original_language</th>\n",
       "      <th>original_title</th>\n",
       "      <th>...</th>\n",
       "      <th>tconst</th>\n",
       "      <th>titleType</th>\n",
       "      <th>primaryTitle</th>\n",
       "      <th>originalTitle</th>\n",
       "      <th>isAdult</th>\n",
       "      <th>startYear</th>\n",
       "      <th>endYear</th>\n",
       "      <th>runtimeMinutes</th>\n",
       "      <th>averageRating</th>\n",
       "      <th>numVotes</th>\n",
       "    </tr>\n",
       "  </thead>\n",
       "  <tbody>\n",
       "    <tr>\n",
       "      <th>0</th>\n",
       "      <td>tt0113026</td>\n",
       "      <td>0.0</td>\n",
       "      <td>/vMFs7nw6P0bIV1jDsQpxAieAVnH.jpg</td>\n",
       "      <td>NaN</td>\n",
       "      <td>10000000.0</td>\n",
       "      <td>[{'id': 35, 'name': 'Comedy'}, {'id': 10402, '...</td>\n",
       "      <td>NaN</td>\n",
       "      <td>62127.0</td>\n",
       "      <td>en</td>\n",
       "      <td>The Fantasticks</td>\n",
       "      <td>...</td>\n",
       "      <td>NaN</td>\n",
       "      <td>NaN</td>\n",
       "      <td>NaN</td>\n",
       "      <td>NaN</td>\n",
       "      <td>NaN</td>\n",
       "      <td>NaN</td>\n",
       "      <td>NaN</td>\n",
       "      <td>NaN</td>\n",
       "      <td>NaN</td>\n",
       "      <td>NaN</td>\n",
       "    </tr>\n",
       "    <tr>\n",
       "      <th>1</th>\n",
       "      <td>tt0113092</td>\n",
       "      <td>0.0</td>\n",
       "      <td>NaN</td>\n",
       "      <td>NaN</td>\n",
       "      <td>0.0</td>\n",
       "      <td>[{'id': 878, 'name': 'Science Fiction'}]</td>\n",
       "      <td>NaN</td>\n",
       "      <td>110977.0</td>\n",
       "      <td>en</td>\n",
       "      <td>For the Cause</td>\n",
       "      <td>...</td>\n",
       "      <td>NaN</td>\n",
       "      <td>NaN</td>\n",
       "      <td>NaN</td>\n",
       "      <td>NaN</td>\n",
       "      <td>NaN</td>\n",
       "      <td>NaN</td>\n",
       "      <td>NaN</td>\n",
       "      <td>NaN</td>\n",
       "      <td>NaN</td>\n",
       "      <td>NaN</td>\n",
       "    </tr>\n",
       "    <tr>\n",
       "      <th>2</th>\n",
       "      <td>tt0116391</td>\n",
       "      <td>0.0</td>\n",
       "      <td>NaN</td>\n",
       "      <td>NaN</td>\n",
       "      <td>0.0</td>\n",
       "      <td>[{'id': 18, 'name': 'Drama'}, {'id': 28, 'name...</td>\n",
       "      <td>NaN</td>\n",
       "      <td>442869.0</td>\n",
       "      <td>hi</td>\n",
       "      <td>Gang</td>\n",
       "      <td>...</td>\n",
       "      <td>NaN</td>\n",
       "      <td>NaN</td>\n",
       "      <td>NaN</td>\n",
       "      <td>NaN</td>\n",
       "      <td>NaN</td>\n",
       "      <td>NaN</td>\n",
       "      <td>NaN</td>\n",
       "      <td>NaN</td>\n",
       "      <td>NaN</td>\n",
       "      <td>NaN</td>\n",
       "    </tr>\n",
       "    <tr>\n",
       "      <th>3</th>\n",
       "      <td>tt0118694</td>\n",
       "      <td>0.0</td>\n",
       "      <td>/n4GJFGzsc7NinI1VeGDXIcQjtU2.jpg</td>\n",
       "      <td>NaN</td>\n",
       "      <td>150000.0</td>\n",
       "      <td>[{'id': 18, 'name': 'Drama'}, {'id': 10749, 'n...</td>\n",
       "      <td>NaN</td>\n",
       "      <td>843.0</td>\n",
       "      <td>cn</td>\n",
       "      <td>花樣年華</td>\n",
       "      <td>...</td>\n",
       "      <td>NaN</td>\n",
       "      <td>NaN</td>\n",
       "      <td>NaN</td>\n",
       "      <td>NaN</td>\n",
       "      <td>NaN</td>\n",
       "      <td>NaN</td>\n",
       "      <td>NaN</td>\n",
       "      <td>NaN</td>\n",
       "      <td>NaN</td>\n",
       "      <td>NaN</td>\n",
       "    </tr>\n",
       "    <tr>\n",
       "      <th>4</th>\n",
       "      <td>tt0118852</td>\n",
       "      <td>0.0</td>\n",
       "      <td>/vceiGZ3uavAEHlTA7v0GjQsGVKe.jpg</td>\n",
       "      <td>NaN</td>\n",
       "      <td>0.0</td>\n",
       "      <td>[{'id': 18, 'name': 'Drama'}]</td>\n",
       "      <td>NaN</td>\n",
       "      <td>49511.0</td>\n",
       "      <td>en</td>\n",
       "      <td>Chinese Coffee</td>\n",
       "      <td>...</td>\n",
       "      <td>NaN</td>\n",
       "      <td>NaN</td>\n",
       "      <td>NaN</td>\n",
       "      <td>NaN</td>\n",
       "      <td>NaN</td>\n",
       "      <td>NaN</td>\n",
       "      <td>NaN</td>\n",
       "      <td>NaN</td>\n",
       "      <td>NaN</td>\n",
       "      <td>NaN</td>\n",
       "    </tr>\n",
       "    <tr>\n",
       "      <th>...</th>\n",
       "      <td>...</td>\n",
       "      <td>...</td>\n",
       "      <td>...</td>\n",
       "      <td>...</td>\n",
       "      <td>...</td>\n",
       "      <td>...</td>\n",
       "      <td>...</td>\n",
       "      <td>...</td>\n",
       "      <td>...</td>\n",
       "      <td>...</td>\n",
       "      <td>...</td>\n",
       "      <td>...</td>\n",
       "      <td>...</td>\n",
       "      <td>...</td>\n",
       "      <td>...</td>\n",
       "      <td>...</td>\n",
       "      <td>...</td>\n",
       "      <td>...</td>\n",
       "      <td>...</td>\n",
       "      <td>...</td>\n",
       "      <td>...</td>\n",
       "    </tr>\n",
       "    <tr>\n",
       "      <th>2593</th>\n",
       "      <td>tt7797790</td>\n",
       "      <td>0.0</td>\n",
       "      <td>NaN</td>\n",
       "      <td>NaN</td>\n",
       "      <td>0.0</td>\n",
       "      <td>[{'id': 27, 'name': 'Horror'}]</td>\n",
       "      <td>NaN</td>\n",
       "      <td>956219.0</td>\n",
       "      <td>en</td>\n",
       "      <td>Edmund Kemper Part 3: La mort sévit</td>\n",
       "      <td>...</td>\n",
       "      <td>NaN</td>\n",
       "      <td>NaN</td>\n",
       "      <td>NaN</td>\n",
       "      <td>NaN</td>\n",
       "      <td>NaN</td>\n",
       "      <td>NaN</td>\n",
       "      <td>NaN</td>\n",
       "      <td>NaN</td>\n",
       "      <td>NaN</td>\n",
       "      <td>NaN</td>\n",
       "    </tr>\n",
       "    <tr>\n",
       "      <th>2594</th>\n",
       "      <td>tt8665056</td>\n",
       "      <td>0.0</td>\n",
       "      <td>NaN</td>\n",
       "      <td>NaN</td>\n",
       "      <td>0.0</td>\n",
       "      <td>[{'id': 37, 'name': 'Western'}]</td>\n",
       "      <td>http://skeletoncreekproductions.com/p-movie-br...</td>\n",
       "      <td>885436.0</td>\n",
       "      <td>en</td>\n",
       "      <td>Guns Along The Bravo</td>\n",
       "      <td>...</td>\n",
       "      <td>NaN</td>\n",
       "      <td>NaN</td>\n",
       "      <td>NaN</td>\n",
       "      <td>NaN</td>\n",
       "      <td>NaN</td>\n",
       "      <td>NaN</td>\n",
       "      <td>NaN</td>\n",
       "      <td>NaN</td>\n",
       "      <td>NaN</td>\n",
       "      <td>NaN</td>\n",
       "    </tr>\n",
       "    <tr>\n",
       "      <th>2595</th>\n",
       "      <td>tt8795764</td>\n",
       "      <td>0.0</td>\n",
       "      <td>NaN</td>\n",
       "      <td>NaN</td>\n",
       "      <td>0.0</td>\n",
       "      <td>[{'id': 27, 'name': 'Horror'}]</td>\n",
       "      <td>https://www.utahwolf.com/films/coming-soon-new...</td>\n",
       "      <td>871624.0</td>\n",
       "      <td>en</td>\n",
       "      <td>New Breed</td>\n",
       "      <td>...</td>\n",
       "      <td>NaN</td>\n",
       "      <td>NaN</td>\n",
       "      <td>NaN</td>\n",
       "      <td>NaN</td>\n",
       "      <td>NaN</td>\n",
       "      <td>NaN</td>\n",
       "      <td>NaN</td>\n",
       "      <td>NaN</td>\n",
       "      <td>NaN</td>\n",
       "      <td>NaN</td>\n",
       "    </tr>\n",
       "    <tr>\n",
       "      <th>2596</th>\n",
       "      <td>tt9071078</td>\n",
       "      <td>0.0</td>\n",
       "      <td>NaN</td>\n",
       "      <td>NaN</td>\n",
       "      <td>0.0</td>\n",
       "      <td>[{'id': 28, 'name': 'Action'}]</td>\n",
       "      <td>NaN</td>\n",
       "      <td>201706.0</td>\n",
       "      <td>cn</td>\n",
       "      <td>致命密函</td>\n",
       "      <td>...</td>\n",
       "      <td>NaN</td>\n",
       "      <td>NaN</td>\n",
       "      <td>NaN</td>\n",
       "      <td>NaN</td>\n",
       "      <td>NaN</td>\n",
       "      <td>NaN</td>\n",
       "      <td>NaN</td>\n",
       "      <td>NaN</td>\n",
       "      <td>NaN</td>\n",
       "      <td>NaN</td>\n",
       "    </tr>\n",
       "    <tr>\n",
       "      <th>2597</th>\n",
       "      <td>tt9212730</td>\n",
       "      <td>0.0</td>\n",
       "      <td>NaN</td>\n",
       "      <td>NaN</td>\n",
       "      <td>0.0</td>\n",
       "      <td>[{'id': 27, 'name': 'Horror'}, {'id': 53, 'nam...</td>\n",
       "      <td>NaN</td>\n",
       "      <td>382630.0</td>\n",
       "      <td>ja</td>\n",
       "      <td>実録外伝 ゾンビ極道</td>\n",
       "      <td>...</td>\n",
       "      <td>NaN</td>\n",
       "      <td>NaN</td>\n",
       "      <td>NaN</td>\n",
       "      <td>NaN</td>\n",
       "      <td>NaN</td>\n",
       "      <td>NaN</td>\n",
       "      <td>NaN</td>\n",
       "      <td>NaN</td>\n",
       "      <td>NaN</td>\n",
       "      <td>NaN</td>\n",
       "    </tr>\n",
       "  </tbody>\n",
       "</table>\n",
       "<p>8200004 rows × 45 columns</p>\n",
       "</div>"
      ],
      "text/plain": [
       "        imdb_id  adult                     backdrop_path  \\\n",
       "0     tt0113026    0.0  /vMFs7nw6P0bIV1jDsQpxAieAVnH.jpg   \n",
       "1     tt0113092    0.0                               NaN   \n",
       "2     tt0116391    0.0                               NaN   \n",
       "3     tt0118694    0.0  /n4GJFGzsc7NinI1VeGDXIcQjtU2.jpg   \n",
       "4     tt0118852    0.0  /vceiGZ3uavAEHlTA7v0GjQsGVKe.jpg   \n",
       "...         ...    ...                               ...   \n",
       "2593  tt7797790    0.0                               NaN   \n",
       "2594  tt8665056    0.0                               NaN   \n",
       "2595  tt8795764    0.0                               NaN   \n",
       "2596  tt9071078    0.0                               NaN   \n",
       "2597  tt9212730    0.0                               NaN   \n",
       "\n",
       "     belongs_to_collection      budget  \\\n",
       "0                      NaN  10000000.0   \n",
       "1                      NaN         0.0   \n",
       "2                      NaN         0.0   \n",
       "3                      NaN    150000.0   \n",
       "4                      NaN         0.0   \n",
       "...                    ...         ...   \n",
       "2593                   NaN         0.0   \n",
       "2594                   NaN         0.0   \n",
       "2595                   NaN         0.0   \n",
       "2596                   NaN         0.0   \n",
       "2597                   NaN         0.0   \n",
       "\n",
       "                                                 genres  \\\n",
       "0     [{'id': 35, 'name': 'Comedy'}, {'id': 10402, '...   \n",
       "1              [{'id': 878, 'name': 'Science Fiction'}]   \n",
       "2     [{'id': 18, 'name': 'Drama'}, {'id': 28, 'name...   \n",
       "3     [{'id': 18, 'name': 'Drama'}, {'id': 10749, 'n...   \n",
       "4                         [{'id': 18, 'name': 'Drama'}]   \n",
       "...                                                 ...   \n",
       "2593                     [{'id': 27, 'name': 'Horror'}]   \n",
       "2594                    [{'id': 37, 'name': 'Western'}]   \n",
       "2595                     [{'id': 27, 'name': 'Horror'}]   \n",
       "2596                     [{'id': 28, 'name': 'Action'}]   \n",
       "2597  [{'id': 27, 'name': 'Horror'}, {'id': 53, 'nam...   \n",
       "\n",
       "                                               homepage        id  \\\n",
       "0                                                   NaN   62127.0   \n",
       "1                                                   NaN  110977.0   \n",
       "2                                                   NaN  442869.0   \n",
       "3                                                   NaN     843.0   \n",
       "4                                                   NaN   49511.0   \n",
       "...                                                 ...       ...   \n",
       "2593                                                NaN  956219.0   \n",
       "2594  http://skeletoncreekproductions.com/p-movie-br...  885436.0   \n",
       "2595  https://www.utahwolf.com/films/coming-soon-new...  871624.0   \n",
       "2596                                                NaN  201706.0   \n",
       "2597                                                NaN  382630.0   \n",
       "\n",
       "     original_language                       original_title  ... tconst  \\\n",
       "0                   en                      The Fantasticks  ...    NaN   \n",
       "1                   en                        For the Cause  ...    NaN   \n",
       "2                   hi                                 Gang  ...    NaN   \n",
       "3                   cn                                 花樣年華  ...    NaN   \n",
       "4                   en                       Chinese Coffee  ...    NaN   \n",
       "...                ...                                  ...  ...    ...   \n",
       "2593                en  Edmund Kemper Part 3: La mort sévit  ...    NaN   \n",
       "2594                en                 Guns Along The Bravo  ...    NaN   \n",
       "2595                en                            New Breed  ...    NaN   \n",
       "2596                cn                                 致命密函  ...    NaN   \n",
       "2597                ja                           実録外伝 ゾンビ極道  ...    NaN   \n",
       "\n",
       "      titleType primaryTitle originalTitle isAdult startYear  endYear  \\\n",
       "0           NaN          NaN           NaN     NaN       NaN      NaN   \n",
       "1           NaN          NaN           NaN     NaN       NaN      NaN   \n",
       "2           NaN          NaN           NaN     NaN       NaN      NaN   \n",
       "3           NaN          NaN           NaN     NaN       NaN      NaN   \n",
       "4           NaN          NaN           NaN     NaN       NaN      NaN   \n",
       "...         ...          ...           ...     ...       ...      ...   \n",
       "2593        NaN          NaN           NaN     NaN       NaN      NaN   \n",
       "2594        NaN          NaN           NaN     NaN       NaN      NaN   \n",
       "2595        NaN          NaN           NaN     NaN       NaN      NaN   \n",
       "2596        NaN          NaN           NaN     NaN       NaN      NaN   \n",
       "2597        NaN          NaN           NaN     NaN       NaN      NaN   \n",
       "\n",
       "      runtimeMinutes averageRating numVotes  \n",
       "0                NaN           NaN      NaN  \n",
       "1                NaN           NaN      NaN  \n",
       "2                NaN           NaN      NaN  \n",
       "3                NaN           NaN      NaN  \n",
       "4                NaN           NaN      NaN  \n",
       "...              ...           ...      ...  \n",
       "2593             NaN           NaN      NaN  \n",
       "2594             NaN           NaN      NaN  \n",
       "2595             NaN           NaN      NaN  \n",
       "2596             NaN           NaN      NaN  \n",
       "2597             NaN           NaN      NaN  \n",
       "\n",
       "[8200004 rows x 45 columns]"
      ]
     },
     "execution_count": 7,
     "metadata": {},
     "output_type": "execute_result"
    }
   ],
   "source": [
    "df = pd.concat([pd.read_csv(f) for f in file_list])\n",
    "df"
   ]
  },
  {
   "cell_type": "code",
   "execution_count": 8,
   "id": "271d15ad",
   "metadata": {},
   "outputs": [
    {
     "name": "stdout",
     "output_type": "stream",
     "text": [
      "<class 'pandas.core.frame.DataFrame'>\n",
      "Int64Index: 8200004 entries, 0 to 2597\n",
      "Data columns (total 45 columns):\n",
      " #   Column                 Dtype  \n",
      "---  ------                 -----  \n",
      " 0   imdb_id                object \n",
      " 1   adult                  float64\n",
      " 2   backdrop_path          object \n",
      " 3   belongs_to_collection  object \n",
      " 4   budget                 float64\n",
      " 5   genres                 object \n",
      " 6   homepage               object \n",
      " 7   id                     float64\n",
      " 8   original_language      object \n",
      " 9   original_title         object \n",
      " 10  overview               object \n",
      " 11  popularity             float64\n",
      " 12  poster_path            object \n",
      " 13  production_companies   object \n",
      " 14  production_countries   object \n",
      " 15  release_date           object \n",
      " 16  revenue                float64\n",
      " 17  runtime                float64\n",
      " 18  spoken_languages       object \n",
      " 19  status                 object \n",
      " 20  tagline                object \n",
      " 21  title                  object \n",
      " 22  video                  float64\n",
      " 23  vote_average           float64\n",
      " 24  vote_count             float64\n",
      " 25  certification\r",
      "         object \n",
      " 26  imdb_id\r",
      "               float64\n",
      " 27  certification          object \n",
      " 28  titleId                object \n",
      " 29  ordering               float64\n",
      " 30  region                 object \n",
      " 31  language               object \n",
      " 32  types                  object \n",
      " 33  attributes             object \n",
      " 34  isOriginalTitle        float64\n",
      " 35  tconst                 object \n",
      " 36  titleType              object \n",
      " 37  primaryTitle           object \n",
      " 38  originalTitle          object \n",
      " 39  isAdult                float64\n",
      " 40  startYear              float64\n",
      " 41  endYear                float64\n",
      " 42  runtimeMinutes         float64\n",
      " 43  averageRating          float64\n",
      " 44  numVotes               float64\n",
      "dtypes: float64(18), object(27)\n",
      "memory usage: 2.8+ GB\n"
     ]
    }
   ],
   "source": [
    "df.info()"
   ]
  },
  {
   "cell_type": "code",
   "execution_count": 9,
   "id": "4ab3ccae",
   "metadata": {},
   "outputs": [
    {
     "data": {
      "text/html": [
       "<div>\n",
       "<style scoped>\n",
       "    .dataframe tbody tr th:only-of-type {\n",
       "        vertical-align: middle;\n",
       "    }\n",
       "\n",
       "    .dataframe tbody tr th {\n",
       "        vertical-align: top;\n",
       "    }\n",
       "\n",
       "    .dataframe thead th {\n",
       "        text-align: right;\n",
       "    }\n",
       "</style>\n",
       "<table border=\"1\" class=\"dataframe\">\n",
       "  <thead>\n",
       "    <tr style=\"text-align: right;\">\n",
       "      <th></th>\n",
       "      <th>imdb_id</th>\n",
       "      <th>adult</th>\n",
       "      <th>backdrop_path</th>\n",
       "      <th>belongs_to_collection</th>\n",
       "      <th>budget</th>\n",
       "      <th>genres</th>\n",
       "      <th>homepage</th>\n",
       "      <th>id</th>\n",
       "      <th>original_language</th>\n",
       "      <th>original_title</th>\n",
       "      <th>...</th>\n",
       "      <th>tconst</th>\n",
       "      <th>titleType</th>\n",
       "      <th>primaryTitle</th>\n",
       "      <th>originalTitle</th>\n",
       "      <th>isAdult</th>\n",
       "      <th>startYear</th>\n",
       "      <th>endYear</th>\n",
       "      <th>runtimeMinutes</th>\n",
       "      <th>averageRating</th>\n",
       "      <th>numVotes</th>\n",
       "    </tr>\n",
       "  </thead>\n",
       "  <tbody>\n",
       "    <tr>\n",
       "      <th>0</th>\n",
       "      <td>tt0113026</td>\n",
       "      <td>0.0</td>\n",
       "      <td>/vMFs7nw6P0bIV1jDsQpxAieAVnH.jpg</td>\n",
       "      <td>NaN</td>\n",
       "      <td>10000000.0</td>\n",
       "      <td>[{'id': 35, 'name': 'Comedy'}, {'id': 10402, '...</td>\n",
       "      <td>NaN</td>\n",
       "      <td>62127.0</td>\n",
       "      <td>en</td>\n",
       "      <td>The Fantasticks</td>\n",
       "      <td>...</td>\n",
       "      <td>NaN</td>\n",
       "      <td>NaN</td>\n",
       "      <td>NaN</td>\n",
       "      <td>NaN</td>\n",
       "      <td>NaN</td>\n",
       "      <td>NaN</td>\n",
       "      <td>NaN</td>\n",
       "      <td>NaN</td>\n",
       "      <td>NaN</td>\n",
       "      <td>NaN</td>\n",
       "    </tr>\n",
       "    <tr>\n",
       "      <th>1</th>\n",
       "      <td>tt0113092</td>\n",
       "      <td>0.0</td>\n",
       "      <td>NaN</td>\n",
       "      <td>NaN</td>\n",
       "      <td>0.0</td>\n",
       "      <td>[{'id': 878, 'name': 'Science Fiction'}]</td>\n",
       "      <td>NaN</td>\n",
       "      <td>110977.0</td>\n",
       "      <td>en</td>\n",
       "      <td>For the Cause</td>\n",
       "      <td>...</td>\n",
       "      <td>NaN</td>\n",
       "      <td>NaN</td>\n",
       "      <td>NaN</td>\n",
       "      <td>NaN</td>\n",
       "      <td>NaN</td>\n",
       "      <td>NaN</td>\n",
       "      <td>NaN</td>\n",
       "      <td>NaN</td>\n",
       "      <td>NaN</td>\n",
       "      <td>NaN</td>\n",
       "    </tr>\n",
       "    <tr>\n",
       "      <th>2</th>\n",
       "      <td>tt0116391</td>\n",
       "      <td>0.0</td>\n",
       "      <td>NaN</td>\n",
       "      <td>NaN</td>\n",
       "      <td>0.0</td>\n",
       "      <td>[{'id': 18, 'name': 'Drama'}, {'id': 28, 'name...</td>\n",
       "      <td>NaN</td>\n",
       "      <td>442869.0</td>\n",
       "      <td>hi</td>\n",
       "      <td>Gang</td>\n",
       "      <td>...</td>\n",
       "      <td>NaN</td>\n",
       "      <td>NaN</td>\n",
       "      <td>NaN</td>\n",
       "      <td>NaN</td>\n",
       "      <td>NaN</td>\n",
       "      <td>NaN</td>\n",
       "      <td>NaN</td>\n",
       "      <td>NaN</td>\n",
       "      <td>NaN</td>\n",
       "      <td>NaN</td>\n",
       "    </tr>\n",
       "    <tr>\n",
       "      <th>3</th>\n",
       "      <td>tt0118694</td>\n",
       "      <td>0.0</td>\n",
       "      <td>/n4GJFGzsc7NinI1VeGDXIcQjtU2.jpg</td>\n",
       "      <td>NaN</td>\n",
       "      <td>150000.0</td>\n",
       "      <td>[{'id': 18, 'name': 'Drama'}, {'id': 10749, 'n...</td>\n",
       "      <td>NaN</td>\n",
       "      <td>843.0</td>\n",
       "      <td>cn</td>\n",
       "      <td>花樣年華</td>\n",
       "      <td>...</td>\n",
       "      <td>NaN</td>\n",
       "      <td>NaN</td>\n",
       "      <td>NaN</td>\n",
       "      <td>NaN</td>\n",
       "      <td>NaN</td>\n",
       "      <td>NaN</td>\n",
       "      <td>NaN</td>\n",
       "      <td>NaN</td>\n",
       "      <td>NaN</td>\n",
       "      <td>NaN</td>\n",
       "    </tr>\n",
       "    <tr>\n",
       "      <th>4</th>\n",
       "      <td>tt0118852</td>\n",
       "      <td>0.0</td>\n",
       "      <td>/vceiGZ3uavAEHlTA7v0GjQsGVKe.jpg</td>\n",
       "      <td>NaN</td>\n",
       "      <td>0.0</td>\n",
       "      <td>[{'id': 18, 'name': 'Drama'}]</td>\n",
       "      <td>NaN</td>\n",
       "      <td>49511.0</td>\n",
       "      <td>en</td>\n",
       "      <td>Chinese Coffee</td>\n",
       "      <td>...</td>\n",
       "      <td>NaN</td>\n",
       "      <td>NaN</td>\n",
       "      <td>NaN</td>\n",
       "      <td>NaN</td>\n",
       "      <td>NaN</td>\n",
       "      <td>NaN</td>\n",
       "      <td>NaN</td>\n",
       "      <td>NaN</td>\n",
       "      <td>NaN</td>\n",
       "      <td>NaN</td>\n",
       "    </tr>\n",
       "    <tr>\n",
       "      <th>...</th>\n",
       "      <td>...</td>\n",
       "      <td>...</td>\n",
       "      <td>...</td>\n",
       "      <td>...</td>\n",
       "      <td>...</td>\n",
       "      <td>...</td>\n",
       "      <td>...</td>\n",
       "      <td>...</td>\n",
       "      <td>...</td>\n",
       "      <td>...</td>\n",
       "      <td>...</td>\n",
       "      <td>...</td>\n",
       "      <td>...</td>\n",
       "      <td>...</td>\n",
       "      <td>...</td>\n",
       "      <td>...</td>\n",
       "      <td>...</td>\n",
       "      <td>...</td>\n",
       "      <td>...</td>\n",
       "      <td>...</td>\n",
       "      <td>...</td>\n",
       "    </tr>\n",
       "    <tr>\n",
       "      <th>2593</th>\n",
       "      <td>tt7797790</td>\n",
       "      <td>0.0</td>\n",
       "      <td>NaN</td>\n",
       "      <td>NaN</td>\n",
       "      <td>0.0</td>\n",
       "      <td>[{'id': 27, 'name': 'Horror'}]</td>\n",
       "      <td>NaN</td>\n",
       "      <td>956219.0</td>\n",
       "      <td>en</td>\n",
       "      <td>Edmund Kemper Part 3: La mort sévit</td>\n",
       "      <td>...</td>\n",
       "      <td>NaN</td>\n",
       "      <td>NaN</td>\n",
       "      <td>NaN</td>\n",
       "      <td>NaN</td>\n",
       "      <td>NaN</td>\n",
       "      <td>NaN</td>\n",
       "      <td>NaN</td>\n",
       "      <td>NaN</td>\n",
       "      <td>NaN</td>\n",
       "      <td>NaN</td>\n",
       "    </tr>\n",
       "    <tr>\n",
       "      <th>2594</th>\n",
       "      <td>tt8665056</td>\n",
       "      <td>0.0</td>\n",
       "      <td>NaN</td>\n",
       "      <td>NaN</td>\n",
       "      <td>0.0</td>\n",
       "      <td>[{'id': 37, 'name': 'Western'}]</td>\n",
       "      <td>http://skeletoncreekproductions.com/p-movie-br...</td>\n",
       "      <td>885436.0</td>\n",
       "      <td>en</td>\n",
       "      <td>Guns Along The Bravo</td>\n",
       "      <td>...</td>\n",
       "      <td>NaN</td>\n",
       "      <td>NaN</td>\n",
       "      <td>NaN</td>\n",
       "      <td>NaN</td>\n",
       "      <td>NaN</td>\n",
       "      <td>NaN</td>\n",
       "      <td>NaN</td>\n",
       "      <td>NaN</td>\n",
       "      <td>NaN</td>\n",
       "      <td>NaN</td>\n",
       "    </tr>\n",
       "    <tr>\n",
       "      <th>2595</th>\n",
       "      <td>tt8795764</td>\n",
       "      <td>0.0</td>\n",
       "      <td>NaN</td>\n",
       "      <td>NaN</td>\n",
       "      <td>0.0</td>\n",
       "      <td>[{'id': 27, 'name': 'Horror'}]</td>\n",
       "      <td>https://www.utahwolf.com/films/coming-soon-new...</td>\n",
       "      <td>871624.0</td>\n",
       "      <td>en</td>\n",
       "      <td>New Breed</td>\n",
       "      <td>...</td>\n",
       "      <td>NaN</td>\n",
       "      <td>NaN</td>\n",
       "      <td>NaN</td>\n",
       "      <td>NaN</td>\n",
       "      <td>NaN</td>\n",
       "      <td>NaN</td>\n",
       "      <td>NaN</td>\n",
       "      <td>NaN</td>\n",
       "      <td>NaN</td>\n",
       "      <td>NaN</td>\n",
       "    </tr>\n",
       "    <tr>\n",
       "      <th>2596</th>\n",
       "      <td>tt9071078</td>\n",
       "      <td>0.0</td>\n",
       "      <td>NaN</td>\n",
       "      <td>NaN</td>\n",
       "      <td>0.0</td>\n",
       "      <td>[{'id': 28, 'name': 'Action'}]</td>\n",
       "      <td>NaN</td>\n",
       "      <td>201706.0</td>\n",
       "      <td>cn</td>\n",
       "      <td>致命密函</td>\n",
       "      <td>...</td>\n",
       "      <td>NaN</td>\n",
       "      <td>NaN</td>\n",
       "      <td>NaN</td>\n",
       "      <td>NaN</td>\n",
       "      <td>NaN</td>\n",
       "      <td>NaN</td>\n",
       "      <td>NaN</td>\n",
       "      <td>NaN</td>\n",
       "      <td>NaN</td>\n",
       "      <td>NaN</td>\n",
       "    </tr>\n",
       "    <tr>\n",
       "      <th>2597</th>\n",
       "      <td>tt9212730</td>\n",
       "      <td>0.0</td>\n",
       "      <td>NaN</td>\n",
       "      <td>NaN</td>\n",
       "      <td>0.0</td>\n",
       "      <td>[{'id': 27, 'name': 'Horror'}, {'id': 53, 'nam...</td>\n",
       "      <td>NaN</td>\n",
       "      <td>382630.0</td>\n",
       "      <td>ja</td>\n",
       "      <td>実録外伝 ゾンビ極道</td>\n",
       "      <td>...</td>\n",
       "      <td>NaN</td>\n",
       "      <td>NaN</td>\n",
       "      <td>NaN</td>\n",
       "      <td>NaN</td>\n",
       "      <td>NaN</td>\n",
       "      <td>NaN</td>\n",
       "      <td>NaN</td>\n",
       "      <td>NaN</td>\n",
       "      <td>NaN</td>\n",
       "      <td>NaN</td>\n",
       "    </tr>\n",
       "  </tbody>\n",
       "</table>\n",
       "<p>8199988 rows × 45 columns</p>\n",
       "</div>"
      ],
      "text/plain": [
       "        imdb_id  adult                     backdrop_path  \\\n",
       "0     tt0113026    0.0  /vMFs7nw6P0bIV1jDsQpxAieAVnH.jpg   \n",
       "1     tt0113092    0.0                               NaN   \n",
       "2     tt0116391    0.0                               NaN   \n",
       "3     tt0118694    0.0  /n4GJFGzsc7NinI1VeGDXIcQjtU2.jpg   \n",
       "4     tt0118852    0.0  /vceiGZ3uavAEHlTA7v0GjQsGVKe.jpg   \n",
       "...         ...    ...                               ...   \n",
       "2593  tt7797790    0.0                               NaN   \n",
       "2594  tt8665056    0.0                               NaN   \n",
       "2595  tt8795764    0.0                               NaN   \n",
       "2596  tt9071078    0.0                               NaN   \n",
       "2597  tt9212730    0.0                               NaN   \n",
       "\n",
       "     belongs_to_collection      budget  \\\n",
       "0                      NaN  10000000.0   \n",
       "1                      NaN         0.0   \n",
       "2                      NaN         0.0   \n",
       "3                      NaN    150000.0   \n",
       "4                      NaN         0.0   \n",
       "...                    ...         ...   \n",
       "2593                   NaN         0.0   \n",
       "2594                   NaN         0.0   \n",
       "2595                   NaN         0.0   \n",
       "2596                   NaN         0.0   \n",
       "2597                   NaN         0.0   \n",
       "\n",
       "                                                 genres  \\\n",
       "0     [{'id': 35, 'name': 'Comedy'}, {'id': 10402, '...   \n",
       "1              [{'id': 878, 'name': 'Science Fiction'}]   \n",
       "2     [{'id': 18, 'name': 'Drama'}, {'id': 28, 'name...   \n",
       "3     [{'id': 18, 'name': 'Drama'}, {'id': 10749, 'n...   \n",
       "4                         [{'id': 18, 'name': 'Drama'}]   \n",
       "...                                                 ...   \n",
       "2593                     [{'id': 27, 'name': 'Horror'}]   \n",
       "2594                    [{'id': 37, 'name': 'Western'}]   \n",
       "2595                     [{'id': 27, 'name': 'Horror'}]   \n",
       "2596                     [{'id': 28, 'name': 'Action'}]   \n",
       "2597  [{'id': 27, 'name': 'Horror'}, {'id': 53, 'nam...   \n",
       "\n",
       "                                               homepage        id  \\\n",
       "0                                                   NaN   62127.0   \n",
       "1                                                   NaN  110977.0   \n",
       "2                                                   NaN  442869.0   \n",
       "3                                                   NaN     843.0   \n",
       "4                                                   NaN   49511.0   \n",
       "...                                                 ...       ...   \n",
       "2593                                                NaN  956219.0   \n",
       "2594  http://skeletoncreekproductions.com/p-movie-br...  885436.0   \n",
       "2595  https://www.utahwolf.com/films/coming-soon-new...  871624.0   \n",
       "2596                                                NaN  201706.0   \n",
       "2597                                                NaN  382630.0   \n",
       "\n",
       "     original_language                       original_title  ... tconst  \\\n",
       "0                   en                      The Fantasticks  ...    NaN   \n",
       "1                   en                        For the Cause  ...    NaN   \n",
       "2                   hi                                 Gang  ...    NaN   \n",
       "3                   cn                                 花樣年華  ...    NaN   \n",
       "4                   en                       Chinese Coffee  ...    NaN   \n",
       "...                ...                                  ...  ...    ...   \n",
       "2593                en  Edmund Kemper Part 3: La mort sévit  ...    NaN   \n",
       "2594                en                 Guns Along The Bravo  ...    NaN   \n",
       "2595                en                            New Breed  ...    NaN   \n",
       "2596                cn                                 致命密函  ...    NaN   \n",
       "2597                ja                           実録外伝 ゾンビ極道  ...    NaN   \n",
       "\n",
       "      titleType primaryTitle originalTitle isAdult startYear  endYear  \\\n",
       "0           NaN          NaN           NaN     NaN       NaN      NaN   \n",
       "1           NaN          NaN           NaN     NaN       NaN      NaN   \n",
       "2           NaN          NaN           NaN     NaN       NaN      NaN   \n",
       "3           NaN          NaN           NaN     NaN       NaN      NaN   \n",
       "4           NaN          NaN           NaN     NaN       NaN      NaN   \n",
       "...         ...          ...           ...     ...       ...      ...   \n",
       "2593        NaN          NaN           NaN     NaN       NaN      NaN   \n",
       "2594        NaN          NaN           NaN     NaN       NaN      NaN   \n",
       "2595        NaN          NaN           NaN     NaN       NaN      NaN   \n",
       "2596        NaN          NaN           NaN     NaN       NaN      NaN   \n",
       "2597        NaN          NaN           NaN     NaN       NaN      NaN   \n",
       "\n",
       "      runtimeMinutes averageRating numVotes  \n",
       "0                NaN           NaN      NaN  \n",
       "1                NaN           NaN      NaN  \n",
       "2                NaN           NaN      NaN  \n",
       "3                NaN           NaN      NaN  \n",
       "4                NaN           NaN      NaN  \n",
       "...              ...           ...      ...  \n",
       "2593             NaN           NaN      NaN  \n",
       "2594             NaN           NaN      NaN  \n",
       "2595             NaN           NaN      NaN  \n",
       "2596             NaN           NaN      NaN  \n",
       "2597             NaN           NaN      NaN  \n",
       "\n",
       "[8199988 rows x 45 columns]"
      ]
     },
     "execution_count": 9,
     "metadata": {},
     "output_type": "execute_result"
    }
   ],
   "source": [
    "#remove 0's\n",
    "df = df.loc[ df['imdb_id']!='0']\n",
    "df"
   ]
  },
  {
   "cell_type": "code",
   "execution_count": 11,
   "id": "b08f7487",
   "metadata": {},
   "outputs": [
    {
     "data": {
      "text/html": [
       "<div>\n",
       "<style scoped>\n",
       "    .dataframe tbody tr th:only-of-type {\n",
       "        vertical-align: middle;\n",
       "    }\n",
       "\n",
       "    .dataframe tbody tr th {\n",
       "        vertical-align: top;\n",
       "    }\n",
       "\n",
       "    .dataframe thead th {\n",
       "        text-align: right;\n",
       "    }\n",
       "</style>\n",
       "<table border=\"1\" class=\"dataframe\">\n",
       "  <thead>\n",
       "    <tr style=\"text-align: right;\">\n",
       "      <th></th>\n",
       "      <th>imdb_id</th>\n",
       "      <th>adult</th>\n",
       "      <th>backdrop_path</th>\n",
       "      <th>belongs_to_collection</th>\n",
       "      <th>budget</th>\n",
       "      <th>genres</th>\n",
       "      <th>homepage</th>\n",
       "      <th>id</th>\n",
       "      <th>original_language</th>\n",
       "      <th>original_title</th>\n",
       "      <th>...</th>\n",
       "      <th>tconst</th>\n",
       "      <th>titleType</th>\n",
       "      <th>primaryTitle</th>\n",
       "      <th>originalTitle</th>\n",
       "      <th>isAdult</th>\n",
       "      <th>startYear</th>\n",
       "      <th>endYear</th>\n",
       "      <th>runtimeMinutes</th>\n",
       "      <th>averageRating</th>\n",
       "      <th>numVotes</th>\n",
       "    </tr>\n",
       "  </thead>\n",
       "  <tbody>\n",
       "    <tr>\n",
       "      <th>0</th>\n",
       "      <td>tt0113026</td>\n",
       "      <td>0.0</td>\n",
       "      <td>/vMFs7nw6P0bIV1jDsQpxAieAVnH.jpg</td>\n",
       "      <td>NaN</td>\n",
       "      <td>10000000.0</td>\n",
       "      <td>[{'id': 35, 'name': 'Comedy'}, {'id': 10402, '...</td>\n",
       "      <td>NaN</td>\n",
       "      <td>62127.0</td>\n",
       "      <td>en</td>\n",
       "      <td>The Fantasticks</td>\n",
       "      <td>...</td>\n",
       "      <td>NaN</td>\n",
       "      <td>NaN</td>\n",
       "      <td>NaN</td>\n",
       "      <td>NaN</td>\n",
       "      <td>NaN</td>\n",
       "      <td>NaN</td>\n",
       "      <td>NaN</td>\n",
       "      <td>NaN</td>\n",
       "      <td>NaN</td>\n",
       "      <td>NaN</td>\n",
       "    </tr>\n",
       "    <tr>\n",
       "      <th>1</th>\n",
       "      <td>tt0113092</td>\n",
       "      <td>0.0</td>\n",
       "      <td>NaN</td>\n",
       "      <td>NaN</td>\n",
       "      <td>0.0</td>\n",
       "      <td>[{'id': 878, 'name': 'Science Fiction'}]</td>\n",
       "      <td>NaN</td>\n",
       "      <td>110977.0</td>\n",
       "      <td>en</td>\n",
       "      <td>For the Cause</td>\n",
       "      <td>...</td>\n",
       "      <td>NaN</td>\n",
       "      <td>NaN</td>\n",
       "      <td>NaN</td>\n",
       "      <td>NaN</td>\n",
       "      <td>NaN</td>\n",
       "      <td>NaN</td>\n",
       "      <td>NaN</td>\n",
       "      <td>NaN</td>\n",
       "      <td>NaN</td>\n",
       "      <td>NaN</td>\n",
       "    </tr>\n",
       "    <tr>\n",
       "      <th>2</th>\n",
       "      <td>tt0116391</td>\n",
       "      <td>0.0</td>\n",
       "      <td>NaN</td>\n",
       "      <td>NaN</td>\n",
       "      <td>0.0</td>\n",
       "      <td>[{'id': 18, 'name': 'Drama'}, {'id': 28, 'name...</td>\n",
       "      <td>NaN</td>\n",
       "      <td>442869.0</td>\n",
       "      <td>hi</td>\n",
       "      <td>Gang</td>\n",
       "      <td>...</td>\n",
       "      <td>NaN</td>\n",
       "      <td>NaN</td>\n",
       "      <td>NaN</td>\n",
       "      <td>NaN</td>\n",
       "      <td>NaN</td>\n",
       "      <td>NaN</td>\n",
       "      <td>NaN</td>\n",
       "      <td>NaN</td>\n",
       "      <td>NaN</td>\n",
       "      <td>NaN</td>\n",
       "    </tr>\n",
       "    <tr>\n",
       "      <th>3</th>\n",
       "      <td>tt0118694</td>\n",
       "      <td>0.0</td>\n",
       "      <td>/n4GJFGzsc7NinI1VeGDXIcQjtU2.jpg</td>\n",
       "      <td>NaN</td>\n",
       "      <td>150000.0</td>\n",
       "      <td>[{'id': 18, 'name': 'Drama'}, {'id': 10749, 'n...</td>\n",
       "      <td>NaN</td>\n",
       "      <td>843.0</td>\n",
       "      <td>cn</td>\n",
       "      <td>花樣年華</td>\n",
       "      <td>...</td>\n",
       "      <td>NaN</td>\n",
       "      <td>NaN</td>\n",
       "      <td>NaN</td>\n",
       "      <td>NaN</td>\n",
       "      <td>NaN</td>\n",
       "      <td>NaN</td>\n",
       "      <td>NaN</td>\n",
       "      <td>NaN</td>\n",
       "      <td>NaN</td>\n",
       "      <td>NaN</td>\n",
       "    </tr>\n",
       "    <tr>\n",
       "      <th>4</th>\n",
       "      <td>tt0118852</td>\n",
       "      <td>0.0</td>\n",
       "      <td>/vceiGZ3uavAEHlTA7v0GjQsGVKe.jpg</td>\n",
       "      <td>NaN</td>\n",
       "      <td>0.0</td>\n",
       "      <td>[{'id': 18, 'name': 'Drama'}]</td>\n",
       "      <td>NaN</td>\n",
       "      <td>49511.0</td>\n",
       "      <td>en</td>\n",
       "      <td>Chinese Coffee</td>\n",
       "      <td>...</td>\n",
       "      <td>NaN</td>\n",
       "      <td>NaN</td>\n",
       "      <td>NaN</td>\n",
       "      <td>NaN</td>\n",
       "      <td>NaN</td>\n",
       "      <td>NaN</td>\n",
       "      <td>NaN</td>\n",
       "      <td>NaN</td>\n",
       "      <td>NaN</td>\n",
       "      <td>NaN</td>\n",
       "    </tr>\n",
       "    <tr>\n",
       "      <th>...</th>\n",
       "      <td>...</td>\n",
       "      <td>...</td>\n",
       "      <td>...</td>\n",
       "      <td>...</td>\n",
       "      <td>...</td>\n",
       "      <td>...</td>\n",
       "      <td>...</td>\n",
       "      <td>...</td>\n",
       "      <td>...</td>\n",
       "      <td>...</td>\n",
       "      <td>...</td>\n",
       "      <td>...</td>\n",
       "      <td>...</td>\n",
       "      <td>...</td>\n",
       "      <td>...</td>\n",
       "      <td>...</td>\n",
       "      <td>...</td>\n",
       "      <td>...</td>\n",
       "      <td>...</td>\n",
       "      <td>...</td>\n",
       "      <td>...</td>\n",
       "    </tr>\n",
       "    <tr>\n",
       "      <th>8199983</th>\n",
       "      <td>tt7797790</td>\n",
       "      <td>0.0</td>\n",
       "      <td>NaN</td>\n",
       "      <td>NaN</td>\n",
       "      <td>0.0</td>\n",
       "      <td>[{'id': 27, 'name': 'Horror'}]</td>\n",
       "      <td>NaN</td>\n",
       "      <td>956219.0</td>\n",
       "      <td>en</td>\n",
       "      <td>Edmund Kemper Part 3: La mort sévit</td>\n",
       "      <td>...</td>\n",
       "      <td>NaN</td>\n",
       "      <td>NaN</td>\n",
       "      <td>NaN</td>\n",
       "      <td>NaN</td>\n",
       "      <td>NaN</td>\n",
       "      <td>NaN</td>\n",
       "      <td>NaN</td>\n",
       "      <td>NaN</td>\n",
       "      <td>NaN</td>\n",
       "      <td>NaN</td>\n",
       "    </tr>\n",
       "    <tr>\n",
       "      <th>8199984</th>\n",
       "      <td>tt8665056</td>\n",
       "      <td>0.0</td>\n",
       "      <td>NaN</td>\n",
       "      <td>NaN</td>\n",
       "      <td>0.0</td>\n",
       "      <td>[{'id': 37, 'name': 'Western'}]</td>\n",
       "      <td>http://skeletoncreekproductions.com/p-movie-br...</td>\n",
       "      <td>885436.0</td>\n",
       "      <td>en</td>\n",
       "      <td>Guns Along The Bravo</td>\n",
       "      <td>...</td>\n",
       "      <td>NaN</td>\n",
       "      <td>NaN</td>\n",
       "      <td>NaN</td>\n",
       "      <td>NaN</td>\n",
       "      <td>NaN</td>\n",
       "      <td>NaN</td>\n",
       "      <td>NaN</td>\n",
       "      <td>NaN</td>\n",
       "      <td>NaN</td>\n",
       "      <td>NaN</td>\n",
       "    </tr>\n",
       "    <tr>\n",
       "      <th>8199985</th>\n",
       "      <td>tt8795764</td>\n",
       "      <td>0.0</td>\n",
       "      <td>NaN</td>\n",
       "      <td>NaN</td>\n",
       "      <td>0.0</td>\n",
       "      <td>[{'id': 27, 'name': 'Horror'}]</td>\n",
       "      <td>https://www.utahwolf.com/films/coming-soon-new...</td>\n",
       "      <td>871624.0</td>\n",
       "      <td>en</td>\n",
       "      <td>New Breed</td>\n",
       "      <td>...</td>\n",
       "      <td>NaN</td>\n",
       "      <td>NaN</td>\n",
       "      <td>NaN</td>\n",
       "      <td>NaN</td>\n",
       "      <td>NaN</td>\n",
       "      <td>NaN</td>\n",
       "      <td>NaN</td>\n",
       "      <td>NaN</td>\n",
       "      <td>NaN</td>\n",
       "      <td>NaN</td>\n",
       "    </tr>\n",
       "    <tr>\n",
       "      <th>8199986</th>\n",
       "      <td>tt9071078</td>\n",
       "      <td>0.0</td>\n",
       "      <td>NaN</td>\n",
       "      <td>NaN</td>\n",
       "      <td>0.0</td>\n",
       "      <td>[{'id': 28, 'name': 'Action'}]</td>\n",
       "      <td>NaN</td>\n",
       "      <td>201706.0</td>\n",
       "      <td>cn</td>\n",
       "      <td>致命密函</td>\n",
       "      <td>...</td>\n",
       "      <td>NaN</td>\n",
       "      <td>NaN</td>\n",
       "      <td>NaN</td>\n",
       "      <td>NaN</td>\n",
       "      <td>NaN</td>\n",
       "      <td>NaN</td>\n",
       "      <td>NaN</td>\n",
       "      <td>NaN</td>\n",
       "      <td>NaN</td>\n",
       "      <td>NaN</td>\n",
       "    </tr>\n",
       "    <tr>\n",
       "      <th>8199987</th>\n",
       "      <td>tt9212730</td>\n",
       "      <td>0.0</td>\n",
       "      <td>NaN</td>\n",
       "      <td>NaN</td>\n",
       "      <td>0.0</td>\n",
       "      <td>[{'id': 27, 'name': 'Horror'}, {'id': 53, 'nam...</td>\n",
       "      <td>NaN</td>\n",
       "      <td>382630.0</td>\n",
       "      <td>ja</td>\n",
       "      <td>実録外伝 ゾンビ極道</td>\n",
       "      <td>...</td>\n",
       "      <td>NaN</td>\n",
       "      <td>NaN</td>\n",
       "      <td>NaN</td>\n",
       "      <td>NaN</td>\n",
       "      <td>NaN</td>\n",
       "      <td>NaN</td>\n",
       "      <td>NaN</td>\n",
       "      <td>NaN</td>\n",
       "      <td>NaN</td>\n",
       "      <td>NaN</td>\n",
       "    </tr>\n",
       "  </tbody>\n",
       "</table>\n",
       "<p>8199988 rows × 45 columns</p>\n",
       "</div>"
      ],
      "text/plain": [
       "           imdb_id  adult                     backdrop_path  \\\n",
       "0        tt0113026    0.0  /vMFs7nw6P0bIV1jDsQpxAieAVnH.jpg   \n",
       "1        tt0113092    0.0                               NaN   \n",
       "2        tt0116391    0.0                               NaN   \n",
       "3        tt0118694    0.0  /n4GJFGzsc7NinI1VeGDXIcQjtU2.jpg   \n",
       "4        tt0118852    0.0  /vceiGZ3uavAEHlTA7v0GjQsGVKe.jpg   \n",
       "...            ...    ...                               ...   \n",
       "8199983  tt7797790    0.0                               NaN   \n",
       "8199984  tt8665056    0.0                               NaN   \n",
       "8199985  tt8795764    0.0                               NaN   \n",
       "8199986  tt9071078    0.0                               NaN   \n",
       "8199987  tt9212730    0.0                               NaN   \n",
       "\n",
       "        belongs_to_collection      budget  \\\n",
       "0                         NaN  10000000.0   \n",
       "1                         NaN         0.0   \n",
       "2                         NaN         0.0   \n",
       "3                         NaN    150000.0   \n",
       "4                         NaN         0.0   \n",
       "...                       ...         ...   \n",
       "8199983                   NaN         0.0   \n",
       "8199984                   NaN         0.0   \n",
       "8199985                   NaN         0.0   \n",
       "8199986                   NaN         0.0   \n",
       "8199987                   NaN         0.0   \n",
       "\n",
       "                                                    genres  \\\n",
       "0        [{'id': 35, 'name': 'Comedy'}, {'id': 10402, '...   \n",
       "1                 [{'id': 878, 'name': 'Science Fiction'}]   \n",
       "2        [{'id': 18, 'name': 'Drama'}, {'id': 28, 'name...   \n",
       "3        [{'id': 18, 'name': 'Drama'}, {'id': 10749, 'n...   \n",
       "4                            [{'id': 18, 'name': 'Drama'}]   \n",
       "...                                                    ...   \n",
       "8199983                     [{'id': 27, 'name': 'Horror'}]   \n",
       "8199984                    [{'id': 37, 'name': 'Western'}]   \n",
       "8199985                     [{'id': 27, 'name': 'Horror'}]   \n",
       "8199986                     [{'id': 28, 'name': 'Action'}]   \n",
       "8199987  [{'id': 27, 'name': 'Horror'}, {'id': 53, 'nam...   \n",
       "\n",
       "                                                  homepage        id  \\\n",
       "0                                                      NaN   62127.0   \n",
       "1                                                      NaN  110977.0   \n",
       "2                                                      NaN  442869.0   \n",
       "3                                                      NaN     843.0   \n",
       "4                                                      NaN   49511.0   \n",
       "...                                                    ...       ...   \n",
       "8199983                                                NaN  956219.0   \n",
       "8199984  http://skeletoncreekproductions.com/p-movie-br...  885436.0   \n",
       "8199985  https://www.utahwolf.com/films/coming-soon-new...  871624.0   \n",
       "8199986                                                NaN  201706.0   \n",
       "8199987                                                NaN  382630.0   \n",
       "\n",
       "        original_language                       original_title  ... tconst  \\\n",
       "0                      en                      The Fantasticks  ...    NaN   \n",
       "1                      en                        For the Cause  ...    NaN   \n",
       "2                      hi                                 Gang  ...    NaN   \n",
       "3                      cn                                 花樣年華  ...    NaN   \n",
       "4                      en                       Chinese Coffee  ...    NaN   \n",
       "...                   ...                                  ...  ...    ...   \n",
       "8199983                en  Edmund Kemper Part 3: La mort sévit  ...    NaN   \n",
       "8199984                en                 Guns Along The Bravo  ...    NaN   \n",
       "8199985                en                            New Breed  ...    NaN   \n",
       "8199986                cn                                 致命密函  ...    NaN   \n",
       "8199987                ja                           実録外伝 ゾンビ極道  ...    NaN   \n",
       "\n",
       "         titleType primaryTitle originalTitle isAdult startYear  endYear  \\\n",
       "0              NaN          NaN           NaN     NaN       NaN      NaN   \n",
       "1              NaN          NaN           NaN     NaN       NaN      NaN   \n",
       "2              NaN          NaN           NaN     NaN       NaN      NaN   \n",
       "3              NaN          NaN           NaN     NaN       NaN      NaN   \n",
       "4              NaN          NaN           NaN     NaN       NaN      NaN   \n",
       "...            ...          ...           ...     ...       ...      ...   \n",
       "8199983        NaN          NaN           NaN     NaN       NaN      NaN   \n",
       "8199984        NaN          NaN           NaN     NaN       NaN      NaN   \n",
       "8199985        NaN          NaN           NaN     NaN       NaN      NaN   \n",
       "8199986        NaN          NaN           NaN     NaN       NaN      NaN   \n",
       "8199987        NaN          NaN           NaN     NaN       NaN      NaN   \n",
       "\n",
       "         runtimeMinutes averageRating numVotes  \n",
       "0                   NaN           NaN      NaN  \n",
       "1                   NaN           NaN      NaN  \n",
       "2                   NaN           NaN      NaN  \n",
       "3                   NaN           NaN      NaN  \n",
       "4                   NaN           NaN      NaN  \n",
       "...                 ...           ...      ...  \n",
       "8199983             NaN           NaN      NaN  \n",
       "8199984             NaN           NaN      NaN  \n",
       "8199985             NaN           NaN      NaN  \n",
       "8199986             NaN           NaN      NaN  \n",
       "8199987             NaN           NaN      NaN  \n",
       "\n",
       "[8199988 rows x 45 columns]"
      ]
     },
     "execution_count": 11,
     "metadata": {},
     "output_type": "execute_result"
    }
   ],
   "source": [
    "#reset index\n",
    "df = df.reset_index(drop=True)\n",
    "df"
   ]
  },
  {
   "cell_type": "code",
   "execution_count": 12,
   "id": "af2925f2",
   "metadata": {},
   "outputs": [
    {
     "name": "stdout",
     "output_type": "stream",
     "text": [
      "<class 'pandas.core.frame.DataFrame'>\n",
      "RangeIndex: 8199988 entries, 0 to 8199987\n",
      "Data columns (total 45 columns):\n",
      " #   Column                 Dtype  \n",
      "---  ------                 -----  \n",
      " 0   imdb_id                object \n",
      " 1   adult                  float64\n",
      " 2   backdrop_path          object \n",
      " 3   belongs_to_collection  object \n",
      " 4   budget                 float64\n",
      " 5   genres                 object \n",
      " 6   homepage               object \n",
      " 7   id                     float64\n",
      " 8   original_language      object \n",
      " 9   original_title         object \n",
      " 10  overview               object \n",
      " 11  popularity             float64\n",
      " 12  poster_path            object \n",
      " 13  production_companies   object \n",
      " 14  production_countries   object \n",
      " 15  release_date           object \n",
      " 16  revenue                float64\n",
      " 17  runtime                float64\n",
      " 18  spoken_languages       object \n",
      " 19  status                 object \n",
      " 20  tagline                object \n",
      " 21  title                  object \n",
      " 22  video                  float64\n",
      " 23  vote_average           float64\n",
      " 24  vote_count             float64\n",
      " 25  certification\r",
      "         object \n",
      " 26  imdb_id\r",
      "               float64\n",
      " 27  certification          object \n",
      " 28  titleId                object \n",
      " 29  ordering               float64\n",
      " 30  region                 object \n",
      " 31  language               object \n",
      " 32  types                  object \n",
      " 33  attributes             object \n",
      " 34  isOriginalTitle        float64\n",
      " 35  tconst                 object \n",
      " 36  titleType              object \n",
      " 37  primaryTitle           object \n",
      " 38  originalTitle          object \n",
      " 39  isAdult                float64\n",
      " 40  startYear              float64\n",
      " 41  endYear                float64\n",
      " 42  runtimeMinutes         float64\n",
      " 43  averageRating          float64\n",
      " 44  numVotes               float64\n",
      "dtypes: float64(18), object(27)\n",
      "memory usage: 2.7+ GB\n"
     ]
    }
   ],
   "source": [
    "df.info()"
   ]
  },
  {
   "cell_type": "markdown",
   "id": "2fbbf61d",
   "metadata": {},
   "source": [
    "## Preprocessing "
   ]
  },
  {
   "cell_type": "code",
   "execution_count": 13,
   "id": "6ca97eaa",
   "metadata": {},
   "outputs": [
    {
     "ename": "MemoryError",
     "evalue": "Unable to allocate 375. MiB for an array with shape (6, 8199988) and data type float64",
     "output_type": "error",
     "traceback": [
      "\u001b[1;31m---------------------------------------------------------------------------\u001b[0m",
      "\u001b[1;31mMemoryError\u001b[0m                               Traceback (most recent call last)",
      "File \u001b[1;32m~\\anaconda3\\envs\\dojo-env\\lib\\site-packages\\IPython\\core\\formatters.py:706\u001b[0m, in \u001b[0;36mPlainTextFormatter.__call__\u001b[1;34m(self, obj)\u001b[0m\n\u001b[0;32m    699\u001b[0m stream \u001b[38;5;241m=\u001b[39m StringIO()\n\u001b[0;32m    700\u001b[0m printer \u001b[38;5;241m=\u001b[39m pretty\u001b[38;5;241m.\u001b[39mRepresentationPrinter(stream, \u001b[38;5;28mself\u001b[39m\u001b[38;5;241m.\u001b[39mverbose,\n\u001b[0;32m    701\u001b[0m     \u001b[38;5;28mself\u001b[39m\u001b[38;5;241m.\u001b[39mmax_width, \u001b[38;5;28mself\u001b[39m\u001b[38;5;241m.\u001b[39mnewline,\n\u001b[0;32m    702\u001b[0m     max_seq_length\u001b[38;5;241m=\u001b[39m\u001b[38;5;28mself\u001b[39m\u001b[38;5;241m.\u001b[39mmax_seq_length,\n\u001b[0;32m    703\u001b[0m     singleton_pprinters\u001b[38;5;241m=\u001b[39m\u001b[38;5;28mself\u001b[39m\u001b[38;5;241m.\u001b[39msingleton_printers,\n\u001b[0;32m    704\u001b[0m     type_pprinters\u001b[38;5;241m=\u001b[39m\u001b[38;5;28mself\u001b[39m\u001b[38;5;241m.\u001b[39mtype_printers,\n\u001b[0;32m    705\u001b[0m     deferred_pprinters\u001b[38;5;241m=\u001b[39m\u001b[38;5;28mself\u001b[39m\u001b[38;5;241m.\u001b[39mdeferred_printers)\n\u001b[1;32m--> 706\u001b[0m \u001b[43mprinter\u001b[49m\u001b[38;5;241;43m.\u001b[39;49m\u001b[43mpretty\u001b[49m\u001b[43m(\u001b[49m\u001b[43mobj\u001b[49m\u001b[43m)\u001b[49m\n\u001b[0;32m    707\u001b[0m printer\u001b[38;5;241m.\u001b[39mflush()\n\u001b[0;32m    708\u001b[0m \u001b[38;5;28;01mreturn\u001b[39;00m stream\u001b[38;5;241m.\u001b[39mgetvalue()\n",
      "File \u001b[1;32m~\\anaconda3\\envs\\dojo-env\\lib\\site-packages\\IPython\\lib\\pretty.py:410\u001b[0m, in \u001b[0;36mRepresentationPrinter.pretty\u001b[1;34m(self, obj)\u001b[0m\n\u001b[0;32m    407\u001b[0m                         \u001b[38;5;28;01mreturn\u001b[39;00m meth(obj, \u001b[38;5;28mself\u001b[39m, cycle)\n\u001b[0;32m    408\u001b[0m                 \u001b[38;5;28;01mif\u001b[39;00m \u001b[38;5;28mcls\u001b[39m \u001b[38;5;129;01mis\u001b[39;00m \u001b[38;5;129;01mnot\u001b[39;00m \u001b[38;5;28mobject\u001b[39m \\\n\u001b[0;32m    409\u001b[0m                         \u001b[38;5;129;01mand\u001b[39;00m callable(\u001b[38;5;28mcls\u001b[39m\u001b[38;5;241m.\u001b[39m\u001b[38;5;18m__dict__\u001b[39m\u001b[38;5;241m.\u001b[39mget(\u001b[38;5;124m'\u001b[39m\u001b[38;5;124m__repr__\u001b[39m\u001b[38;5;124m'\u001b[39m)):\n\u001b[1;32m--> 410\u001b[0m                     \u001b[38;5;28;01mreturn\u001b[39;00m \u001b[43m_repr_pprint\u001b[49m\u001b[43m(\u001b[49m\u001b[43mobj\u001b[49m\u001b[43m,\u001b[49m\u001b[43m \u001b[49m\u001b[38;5;28;43mself\u001b[39;49m\u001b[43m,\u001b[49m\u001b[43m \u001b[49m\u001b[43mcycle\u001b[49m\u001b[43m)\u001b[49m\n\u001b[0;32m    412\u001b[0m     \u001b[38;5;28;01mreturn\u001b[39;00m _default_pprint(obj, \u001b[38;5;28mself\u001b[39m, cycle)\n\u001b[0;32m    413\u001b[0m \u001b[38;5;28;01mfinally\u001b[39;00m:\n",
      "File \u001b[1;32m~\\anaconda3\\envs\\dojo-env\\lib\\site-packages\\IPython\\lib\\pretty.py:778\u001b[0m, in \u001b[0;36m_repr_pprint\u001b[1;34m(obj, p, cycle)\u001b[0m\n\u001b[0;32m    776\u001b[0m \u001b[38;5;124;03m\"\"\"A pprint that just redirects to the normal repr function.\"\"\"\u001b[39;00m\n\u001b[0;32m    777\u001b[0m \u001b[38;5;66;03m# Find newlines and replace them with p.break_()\u001b[39;00m\n\u001b[1;32m--> 778\u001b[0m output \u001b[38;5;241m=\u001b[39m \u001b[38;5;28;43mrepr\u001b[39;49m\u001b[43m(\u001b[49m\u001b[43mobj\u001b[49m\u001b[43m)\u001b[49m\n\u001b[0;32m    779\u001b[0m lines \u001b[38;5;241m=\u001b[39m output\u001b[38;5;241m.\u001b[39msplitlines()\n\u001b[0;32m    780\u001b[0m \u001b[38;5;28;01mwith\u001b[39;00m p\u001b[38;5;241m.\u001b[39mgroup():\n",
      "File \u001b[1;32m~\\anaconda3\\envs\\dojo-env\\lib\\site-packages\\pandas\\core\\frame.py:1064\u001b[0m, in \u001b[0;36mDataFrame.__repr__\u001b[1;34m(self)\u001b[0m\n\u001b[0;32m   1061\u001b[0m     \u001b[38;5;28;01mreturn\u001b[39;00m buf\u001b[38;5;241m.\u001b[39mgetvalue()\n\u001b[0;32m   1063\u001b[0m repr_params \u001b[38;5;241m=\u001b[39m fmt\u001b[38;5;241m.\u001b[39mget_dataframe_repr_params()\n\u001b[1;32m-> 1064\u001b[0m \u001b[38;5;28;01mreturn\u001b[39;00m \u001b[38;5;28mself\u001b[39m\u001b[38;5;241m.\u001b[39mto_string(\u001b[38;5;241m*\u001b[39m\u001b[38;5;241m*\u001b[39mrepr_params)\n",
      "File \u001b[1;32m~\\anaconda3\\envs\\dojo-env\\lib\\site-packages\\pandas\\core\\frame.py:1227\u001b[0m, in \u001b[0;36mDataFrame.to_string\u001b[1;34m(self, buf, columns, col_space, header, index, na_rep, formatters, float_format, sparsify, index_names, justify, max_rows, max_cols, show_dimensions, decimal, line_width, min_rows, max_colwidth, encoding)\u001b[0m\n\u001b[0;32m   1224\u001b[0m \u001b[38;5;28;01mfrom\u001b[39;00m \u001b[38;5;21;01mpandas\u001b[39;00m \u001b[38;5;28;01mimport\u001b[39;00m option_context\n\u001b[0;32m   1226\u001b[0m \u001b[38;5;28;01mwith\u001b[39;00m option_context(\u001b[38;5;124m\"\u001b[39m\u001b[38;5;124mdisplay.max_colwidth\u001b[39m\u001b[38;5;124m\"\u001b[39m, max_colwidth):\n\u001b[1;32m-> 1227\u001b[0m     formatter \u001b[38;5;241m=\u001b[39m \u001b[43mfmt\u001b[49m\u001b[38;5;241;43m.\u001b[39;49m\u001b[43mDataFrameFormatter\u001b[49m\u001b[43m(\u001b[49m\n\u001b[0;32m   1228\u001b[0m \u001b[43m        \u001b[49m\u001b[38;5;28;43mself\u001b[39;49m\u001b[43m,\u001b[49m\n\u001b[0;32m   1229\u001b[0m \u001b[43m        \u001b[49m\u001b[43mcolumns\u001b[49m\u001b[38;5;241;43m=\u001b[39;49m\u001b[43mcolumns\u001b[49m\u001b[43m,\u001b[49m\n\u001b[0;32m   1230\u001b[0m \u001b[43m        \u001b[49m\u001b[43mcol_space\u001b[49m\u001b[38;5;241;43m=\u001b[39;49m\u001b[43mcol_space\u001b[49m\u001b[43m,\u001b[49m\n\u001b[0;32m   1231\u001b[0m \u001b[43m        \u001b[49m\u001b[43mna_rep\u001b[49m\u001b[38;5;241;43m=\u001b[39;49m\u001b[43mna_rep\u001b[49m\u001b[43m,\u001b[49m\n\u001b[0;32m   1232\u001b[0m \u001b[43m        \u001b[49m\u001b[43mformatters\u001b[49m\u001b[38;5;241;43m=\u001b[39;49m\u001b[43mformatters\u001b[49m\u001b[43m,\u001b[49m\n\u001b[0;32m   1233\u001b[0m \u001b[43m        \u001b[49m\u001b[43mfloat_format\u001b[49m\u001b[38;5;241;43m=\u001b[39;49m\u001b[43mfloat_format\u001b[49m\u001b[43m,\u001b[49m\n\u001b[0;32m   1234\u001b[0m \u001b[43m        \u001b[49m\u001b[43msparsify\u001b[49m\u001b[38;5;241;43m=\u001b[39;49m\u001b[43msparsify\u001b[49m\u001b[43m,\u001b[49m\n\u001b[0;32m   1235\u001b[0m \u001b[43m        \u001b[49m\u001b[43mjustify\u001b[49m\u001b[38;5;241;43m=\u001b[39;49m\u001b[43mjustify\u001b[49m\u001b[43m,\u001b[49m\n\u001b[0;32m   1236\u001b[0m \u001b[43m        \u001b[49m\u001b[43mindex_names\u001b[49m\u001b[38;5;241;43m=\u001b[39;49m\u001b[43mindex_names\u001b[49m\u001b[43m,\u001b[49m\n\u001b[0;32m   1237\u001b[0m \u001b[43m        \u001b[49m\u001b[43mheader\u001b[49m\u001b[38;5;241;43m=\u001b[39;49m\u001b[43mheader\u001b[49m\u001b[43m,\u001b[49m\n\u001b[0;32m   1238\u001b[0m \u001b[43m        \u001b[49m\u001b[43mindex\u001b[49m\u001b[38;5;241;43m=\u001b[39;49m\u001b[43mindex\u001b[49m\u001b[43m,\u001b[49m\n\u001b[0;32m   1239\u001b[0m \u001b[43m        \u001b[49m\u001b[43mmin_rows\u001b[49m\u001b[38;5;241;43m=\u001b[39;49m\u001b[43mmin_rows\u001b[49m\u001b[43m,\u001b[49m\n\u001b[0;32m   1240\u001b[0m \u001b[43m        \u001b[49m\u001b[43mmax_rows\u001b[49m\u001b[38;5;241;43m=\u001b[39;49m\u001b[43mmax_rows\u001b[49m\u001b[43m,\u001b[49m\n\u001b[0;32m   1241\u001b[0m \u001b[43m        \u001b[49m\u001b[43mmax_cols\u001b[49m\u001b[38;5;241;43m=\u001b[39;49m\u001b[43mmax_cols\u001b[49m\u001b[43m,\u001b[49m\n\u001b[0;32m   1242\u001b[0m \u001b[43m        \u001b[49m\u001b[43mshow_dimensions\u001b[49m\u001b[38;5;241;43m=\u001b[39;49m\u001b[43mshow_dimensions\u001b[49m\u001b[43m,\u001b[49m\n\u001b[0;32m   1243\u001b[0m \u001b[43m        \u001b[49m\u001b[43mdecimal\u001b[49m\u001b[38;5;241;43m=\u001b[39;49m\u001b[43mdecimal\u001b[49m\u001b[43m,\u001b[49m\n\u001b[0;32m   1244\u001b[0m \u001b[43m    \u001b[49m\u001b[43m)\u001b[49m\n\u001b[0;32m   1245\u001b[0m     \u001b[38;5;28;01mreturn\u001b[39;00m fmt\u001b[38;5;241m.\u001b[39mDataFrameRenderer(formatter)\u001b[38;5;241m.\u001b[39mto_string(\n\u001b[0;32m   1246\u001b[0m         buf\u001b[38;5;241m=\u001b[39mbuf,\n\u001b[0;32m   1247\u001b[0m         encoding\u001b[38;5;241m=\u001b[39mencoding,\n\u001b[0;32m   1248\u001b[0m         line_width\u001b[38;5;241m=\u001b[39mline_width,\n\u001b[0;32m   1249\u001b[0m     )\n",
      "File \u001b[1;32m~\\anaconda3\\envs\\dojo-env\\lib\\site-packages\\pandas\\io\\formats\\format.py:610\u001b[0m, in \u001b[0;36mDataFrameFormatter.__init__\u001b[1;34m(self, frame, columns, col_space, header, index, na_rep, formatters, justify, float_format, sparsify, index_names, max_rows, min_rows, max_cols, show_dimensions, decimal, bold_rows, escape)\u001b[0m\n\u001b[0;32m    607\u001b[0m \u001b[38;5;28mself\u001b[39m\u001b[38;5;241m.\u001b[39mmax_rows_fitted \u001b[38;5;241m=\u001b[39m \u001b[38;5;28mself\u001b[39m\u001b[38;5;241m.\u001b[39m_calc_max_rows_fitted()\n\u001b[0;32m    609\u001b[0m \u001b[38;5;28mself\u001b[39m\u001b[38;5;241m.\u001b[39mtr_frame \u001b[38;5;241m=\u001b[39m \u001b[38;5;28mself\u001b[39m\u001b[38;5;241m.\u001b[39mframe\n\u001b[1;32m--> 610\u001b[0m \u001b[38;5;28;43mself\u001b[39;49m\u001b[38;5;241;43m.\u001b[39;49m\u001b[43mtruncate\u001b[49m\u001b[43m(\u001b[49m\u001b[43m)\u001b[49m\n\u001b[0;32m    611\u001b[0m \u001b[38;5;28mself\u001b[39m\u001b[38;5;241m.\u001b[39madj \u001b[38;5;241m=\u001b[39m get_adjustment()\n",
      "File \u001b[1;32m~\\anaconda3\\envs\\dojo-env\\lib\\site-packages\\pandas\\io\\formats\\format.py:798\u001b[0m, in \u001b[0;36mDataFrameFormatter.truncate\u001b[1;34m(self)\u001b[0m\n\u001b[0;32m    794\u001b[0m \u001b[38;5;124;03m\"\"\"\u001b[39;00m\n\u001b[0;32m    795\u001b[0m \u001b[38;5;124;03mCheck whether the frame should be truncated. If so, slice the frame up.\u001b[39;00m\n\u001b[0;32m    796\u001b[0m \u001b[38;5;124;03m\"\"\"\u001b[39;00m\n\u001b[0;32m    797\u001b[0m \u001b[38;5;28;01mif\u001b[39;00m \u001b[38;5;28mself\u001b[39m\u001b[38;5;241m.\u001b[39mis_truncated_horizontally:\n\u001b[1;32m--> 798\u001b[0m     \u001b[38;5;28;43mself\u001b[39;49m\u001b[38;5;241;43m.\u001b[39;49m\u001b[43m_truncate_horizontally\u001b[49m\u001b[43m(\u001b[49m\u001b[43m)\u001b[49m\n\u001b[0;32m    800\u001b[0m \u001b[38;5;28;01mif\u001b[39;00m \u001b[38;5;28mself\u001b[39m\u001b[38;5;241m.\u001b[39mis_truncated_vertically:\n\u001b[0;32m    801\u001b[0m     \u001b[38;5;28mself\u001b[39m\u001b[38;5;241m.\u001b[39m_truncate_vertically()\n",
      "File \u001b[1;32m~\\anaconda3\\envs\\dojo-env\\lib\\site-packages\\pandas\\io\\formats\\format.py:815\u001b[0m, in \u001b[0;36mDataFrameFormatter._truncate_horizontally\u001b[1;34m(self)\u001b[0m\n\u001b[0;32m    813\u001b[0m \u001b[38;5;28;01mif\u001b[39;00m col_num \u001b[38;5;241m>\u001b[39m\u001b[38;5;241m=\u001b[39m \u001b[38;5;241m1\u001b[39m:\n\u001b[0;32m    814\u001b[0m     left \u001b[38;5;241m=\u001b[39m \u001b[38;5;28mself\u001b[39m\u001b[38;5;241m.\u001b[39mtr_frame\u001b[38;5;241m.\u001b[39miloc[:, :col_num]\n\u001b[1;32m--> 815\u001b[0m     right \u001b[38;5;241m=\u001b[39m \u001b[38;5;28;43mself\u001b[39;49m\u001b[38;5;241;43m.\u001b[39;49m\u001b[43mtr_frame\u001b[49m\u001b[38;5;241;43m.\u001b[39;49m\u001b[43miloc\u001b[49m\u001b[43m[\u001b[49m\u001b[43m:\u001b[49m\u001b[43m,\u001b[49m\u001b[43m \u001b[49m\u001b[38;5;241;43m-\u001b[39;49m\u001b[43mcol_num\u001b[49m\u001b[43m:\u001b[49m\u001b[43m]\u001b[49m\n\u001b[0;32m    816\u001b[0m     \u001b[38;5;28mself\u001b[39m\u001b[38;5;241m.\u001b[39mtr_frame \u001b[38;5;241m=\u001b[39m concat((left, right), axis\u001b[38;5;241m=\u001b[39m\u001b[38;5;241m1\u001b[39m)\n\u001b[0;32m    818\u001b[0m     \u001b[38;5;66;03m# truncate formatter\u001b[39;00m\n",
      "File \u001b[1;32m~\\anaconda3\\envs\\dojo-env\\lib\\site-packages\\pandas\\core\\indexing.py:1067\u001b[0m, in \u001b[0;36m_LocationIndexer.__getitem__\u001b[1;34m(self, key)\u001b[0m\n\u001b[0;32m   1065\u001b[0m     \u001b[38;5;28;01mif\u001b[39;00m \u001b[38;5;28mself\u001b[39m\u001b[38;5;241m.\u001b[39m_is_scalar_access(key):\n\u001b[0;32m   1066\u001b[0m         \u001b[38;5;28;01mreturn\u001b[39;00m \u001b[38;5;28mself\u001b[39m\u001b[38;5;241m.\u001b[39mobj\u001b[38;5;241m.\u001b[39m_get_value(\u001b[38;5;241m*\u001b[39mkey, takeable\u001b[38;5;241m=\u001b[39m\u001b[38;5;28mself\u001b[39m\u001b[38;5;241m.\u001b[39m_takeable)\n\u001b[1;32m-> 1067\u001b[0m     \u001b[38;5;28;01mreturn\u001b[39;00m \u001b[38;5;28;43mself\u001b[39;49m\u001b[38;5;241;43m.\u001b[39;49m\u001b[43m_getitem_tuple\u001b[49m\u001b[43m(\u001b[49m\u001b[43mkey\u001b[49m\u001b[43m)\u001b[49m\n\u001b[0;32m   1068\u001b[0m \u001b[38;5;28;01melse\u001b[39;00m:\n\u001b[0;32m   1069\u001b[0m     \u001b[38;5;66;03m# we by definition only have the 0th axis\u001b[39;00m\n\u001b[0;32m   1070\u001b[0m     axis \u001b[38;5;241m=\u001b[39m \u001b[38;5;28mself\u001b[39m\u001b[38;5;241m.\u001b[39maxis \u001b[38;5;129;01mor\u001b[39;00m \u001b[38;5;241m0\u001b[39m\n",
      "File \u001b[1;32m~\\anaconda3\\envs\\dojo-env\\lib\\site-packages\\pandas\\core\\indexing.py:1567\u001b[0m, in \u001b[0;36m_iLocIndexer._getitem_tuple\u001b[1;34m(self, tup)\u001b[0m\n\u001b[0;32m   1564\u001b[0m \u001b[38;5;28;01mwith\u001b[39;00m suppress(IndexingError):\n\u001b[0;32m   1565\u001b[0m     \u001b[38;5;28;01mreturn\u001b[39;00m \u001b[38;5;28mself\u001b[39m\u001b[38;5;241m.\u001b[39m_getitem_lowerdim(tup)\n\u001b[1;32m-> 1567\u001b[0m \u001b[38;5;28;01mreturn\u001b[39;00m \u001b[38;5;28;43mself\u001b[39;49m\u001b[38;5;241;43m.\u001b[39;49m\u001b[43m_getitem_tuple_same_dim\u001b[49m\u001b[43m(\u001b[49m\u001b[43mtup\u001b[49m\u001b[43m)\u001b[49m\n",
      "File \u001b[1;32m~\\anaconda3\\envs\\dojo-env\\lib\\site-packages\\pandas\\core\\indexing.py:924\u001b[0m, in \u001b[0;36m_LocationIndexer._getitem_tuple_same_dim\u001b[1;34m(self, tup)\u001b[0m\n\u001b[0;32m    921\u001b[0m \u001b[38;5;28;01mif\u001b[39;00m com\u001b[38;5;241m.\u001b[39mis_null_slice(key):\n\u001b[0;32m    922\u001b[0m     \u001b[38;5;28;01mcontinue\u001b[39;00m\n\u001b[1;32m--> 924\u001b[0m retval \u001b[38;5;241m=\u001b[39m \u001b[38;5;28;43mgetattr\u001b[39;49m\u001b[43m(\u001b[49m\u001b[43mretval\u001b[49m\u001b[43m,\u001b[49m\u001b[43m \u001b[49m\u001b[38;5;28;43mself\u001b[39;49m\u001b[38;5;241;43m.\u001b[39;49m\u001b[43mname\u001b[49m\u001b[43m)\u001b[49m\u001b[38;5;241;43m.\u001b[39;49m\u001b[43m_getitem_axis\u001b[49m\u001b[43m(\u001b[49m\u001b[43mkey\u001b[49m\u001b[43m,\u001b[49m\u001b[43m \u001b[49m\u001b[43maxis\u001b[49m\u001b[38;5;241;43m=\u001b[39;49m\u001b[43mi\u001b[49m\u001b[43m)\u001b[49m\n\u001b[0;32m    925\u001b[0m \u001b[38;5;66;03m# We should never have retval.ndim < self.ndim, as that should\u001b[39;00m\n\u001b[0;32m    926\u001b[0m \u001b[38;5;66;03m#  be handled by the _getitem_lowerdim call above.\u001b[39;00m\n\u001b[0;32m    927\u001b[0m \u001b[38;5;28;01massert\u001b[39;00m retval\u001b[38;5;241m.\u001b[39mndim \u001b[38;5;241m==\u001b[39m \u001b[38;5;28mself\u001b[39m\u001b[38;5;241m.\u001b[39mndim\n",
      "File \u001b[1;32m~\\anaconda3\\envs\\dojo-env\\lib\\site-packages\\pandas\\core\\indexing.py:1602\u001b[0m, in \u001b[0;36m_iLocIndexer._getitem_axis\u001b[1;34m(self, key, axis)\u001b[0m\n\u001b[0;32m   1596\u001b[0m     \u001b[38;5;28;01mraise\u001b[39;00m \u001b[38;5;167;01mIndexError\u001b[39;00m(\n\u001b[0;32m   1597\u001b[0m         \u001b[38;5;124m\"\u001b[39m\u001b[38;5;124mDataFrame indexer is not allowed for .iloc\u001b[39m\u001b[38;5;130;01m\\n\u001b[39;00m\u001b[38;5;124m\"\u001b[39m\n\u001b[0;32m   1598\u001b[0m         \u001b[38;5;124m\"\u001b[39m\u001b[38;5;124mConsider using .loc for automatic alignment.\u001b[39m\u001b[38;5;124m\"\u001b[39m\n\u001b[0;32m   1599\u001b[0m     )\n\u001b[0;32m   1601\u001b[0m \u001b[38;5;28;01mif\u001b[39;00m \u001b[38;5;28misinstance\u001b[39m(key, \u001b[38;5;28mslice\u001b[39m):\n\u001b[1;32m-> 1602\u001b[0m     \u001b[38;5;28;01mreturn\u001b[39;00m \u001b[38;5;28;43mself\u001b[39;49m\u001b[38;5;241;43m.\u001b[39;49m\u001b[43m_get_slice_axis\u001b[49m\u001b[43m(\u001b[49m\u001b[43mkey\u001b[49m\u001b[43m,\u001b[49m\u001b[43m \u001b[49m\u001b[43maxis\u001b[49m\u001b[38;5;241;43m=\u001b[39;49m\u001b[43maxis\u001b[49m\u001b[43m)\u001b[49m\n\u001b[0;32m   1604\u001b[0m \u001b[38;5;28;01mif\u001b[39;00m is_iterator(key):\n\u001b[0;32m   1605\u001b[0m     key \u001b[38;5;241m=\u001b[39m \u001b[38;5;28mlist\u001b[39m(key)\n",
      "File \u001b[1;32m~\\anaconda3\\envs\\dojo-env\\lib\\site-packages\\pandas\\core\\indexing.py:1638\u001b[0m, in \u001b[0;36m_iLocIndexer._get_slice_axis\u001b[1;34m(self, slice_obj, axis)\u001b[0m\n\u001b[0;32m   1636\u001b[0m labels \u001b[38;5;241m=\u001b[39m obj\u001b[38;5;241m.\u001b[39m_get_axis(axis)\n\u001b[0;32m   1637\u001b[0m labels\u001b[38;5;241m.\u001b[39m_validate_positional_slice(slice_obj)\n\u001b[1;32m-> 1638\u001b[0m \u001b[38;5;28;01mreturn\u001b[39;00m \u001b[38;5;28;43mself\u001b[39;49m\u001b[38;5;241;43m.\u001b[39;49m\u001b[43mobj\u001b[49m\u001b[38;5;241;43m.\u001b[39;49m\u001b[43m_slice\u001b[49m\u001b[43m(\u001b[49m\u001b[43mslice_obj\u001b[49m\u001b[43m,\u001b[49m\u001b[43m \u001b[49m\u001b[43maxis\u001b[49m\u001b[38;5;241;43m=\u001b[39;49m\u001b[43maxis\u001b[49m\u001b[43m)\u001b[49m\n",
      "File \u001b[1;32m~\\anaconda3\\envs\\dojo-env\\lib\\site-packages\\pandas\\core\\generic.py:4105\u001b[0m, in \u001b[0;36mNDFrame._slice\u001b[1;34m(self, slobj, axis)\u001b[0m\n\u001b[0;32m   4103\u001b[0m \u001b[38;5;28;01massert\u001b[39;00m \u001b[38;5;28misinstance\u001b[39m(slobj, \u001b[38;5;28mslice\u001b[39m), \u001b[38;5;28mtype\u001b[39m(slobj)\n\u001b[0;32m   4104\u001b[0m axis \u001b[38;5;241m=\u001b[39m \u001b[38;5;28mself\u001b[39m\u001b[38;5;241m.\u001b[39m_get_block_manager_axis(axis)\n\u001b[1;32m-> 4105\u001b[0m result \u001b[38;5;241m=\u001b[39m \u001b[38;5;28mself\u001b[39m\u001b[38;5;241m.\u001b[39m_constructor(\u001b[38;5;28;43mself\u001b[39;49m\u001b[38;5;241;43m.\u001b[39;49m\u001b[43m_mgr\u001b[49m\u001b[38;5;241;43m.\u001b[39;49m\u001b[43mget_slice\u001b[49m\u001b[43m(\u001b[49m\u001b[43mslobj\u001b[49m\u001b[43m,\u001b[49m\u001b[43m \u001b[49m\u001b[43maxis\u001b[49m\u001b[38;5;241;43m=\u001b[39;49m\u001b[43maxis\u001b[49m\u001b[43m)\u001b[49m)\n\u001b[0;32m   4106\u001b[0m result \u001b[38;5;241m=\u001b[39m result\u001b[38;5;241m.\u001b[39m__finalize__(\u001b[38;5;28mself\u001b[39m)\n\u001b[0;32m   4108\u001b[0m \u001b[38;5;66;03m# this could be a view\u001b[39;00m\n\u001b[0;32m   4109\u001b[0m \u001b[38;5;66;03m# but only in a single-dtyped view sliceable case\u001b[39;00m\n",
      "File \u001b[1;32m~\\anaconda3\\envs\\dojo-env\\lib\\site-packages\\pandas\\_libs\\internals.pyx:825\u001b[0m, in \u001b[0;36mpandas._libs.internals.BlockManager.get_slice\u001b[1;34m()\u001b[0m\n",
      "File \u001b[1;32m~\\anaconda3\\envs\\dojo-env\\lib\\site-packages\\pandas\\core\\internals\\managers.py:912\u001b[0m, in \u001b[0;36mBaseBlockManager._slice_take_blocks_ax0\u001b[1;34m(self, slice_or_indexer, fill_value, only_slice, use_na_proxy)\u001b[0m\n\u001b[0;32m    910\u001b[0m         refs\u001b[38;5;241m.\u001b[39mappend(weakref\u001b[38;5;241m.\u001b[39mref(blk))\n\u001b[0;32m    911\u001b[0m \u001b[38;5;28;01melse\u001b[39;00m:\n\u001b[1;32m--> 912\u001b[0m     nb \u001b[38;5;241m=\u001b[39m \u001b[43mblk\u001b[49m\u001b[38;5;241;43m.\u001b[39;49m\u001b[43mtake_nd\u001b[49m\u001b[43m(\u001b[49m\u001b[43mtaker\u001b[49m\u001b[43m,\u001b[49m\u001b[43m \u001b[49m\u001b[43maxis\u001b[49m\u001b[38;5;241;43m=\u001b[39;49m\u001b[38;5;241;43m0\u001b[39;49m\u001b[43m,\u001b[49m\u001b[43m \u001b[49m\u001b[43mnew_mgr_locs\u001b[49m\u001b[38;5;241;43m=\u001b[39;49m\u001b[43mmgr_locs\u001b[49m\u001b[43m)\u001b[49m\n\u001b[0;32m    913\u001b[0m     blocks\u001b[38;5;241m.\u001b[39mappend(nb)\n\u001b[0;32m    914\u001b[0m     refs\u001b[38;5;241m.\u001b[39mappend(\u001b[38;5;28;01mNone\u001b[39;00m)\n",
      "File \u001b[1;32m~\\anaconda3\\envs\\dojo-env\\lib\\site-packages\\pandas\\core\\internals\\blocks.py:880\u001b[0m, in \u001b[0;36mBlock.take_nd\u001b[1;34m(self, indexer, axis, new_mgr_locs, fill_value)\u001b[0m\n\u001b[0;32m    877\u001b[0m     allow_fill \u001b[38;5;241m=\u001b[39m \u001b[38;5;28;01mTrue\u001b[39;00m\n\u001b[0;32m    879\u001b[0m \u001b[38;5;66;03m# Note: algos.take_nd has upcast logic similar to coerce_to_target_dtype\u001b[39;00m\n\u001b[1;32m--> 880\u001b[0m new_values \u001b[38;5;241m=\u001b[39m \u001b[43malgos\u001b[49m\u001b[38;5;241;43m.\u001b[39;49m\u001b[43mtake_nd\u001b[49m\u001b[43m(\u001b[49m\n\u001b[0;32m    881\u001b[0m \u001b[43m    \u001b[49m\u001b[43mvalues\u001b[49m\u001b[43m,\u001b[49m\u001b[43m \u001b[49m\u001b[43mindexer\u001b[49m\u001b[43m,\u001b[49m\u001b[43m \u001b[49m\u001b[43maxis\u001b[49m\u001b[38;5;241;43m=\u001b[39;49m\u001b[43maxis\u001b[49m\u001b[43m,\u001b[49m\u001b[43m \u001b[49m\u001b[43mallow_fill\u001b[49m\u001b[38;5;241;43m=\u001b[39;49m\u001b[43mallow_fill\u001b[49m\u001b[43m,\u001b[49m\u001b[43m \u001b[49m\u001b[43mfill_value\u001b[49m\u001b[38;5;241;43m=\u001b[39;49m\u001b[43mfill_value\u001b[49m\n\u001b[0;32m    882\u001b[0m \u001b[43m\u001b[49m\u001b[43m)\u001b[49m\n\u001b[0;32m    884\u001b[0m \u001b[38;5;66;03m# Called from three places in managers, all of which satisfy\u001b[39;00m\n\u001b[0;32m    885\u001b[0m \u001b[38;5;66;03m#  this assertion\u001b[39;00m\n\u001b[0;32m    886\u001b[0m \u001b[38;5;28;01massert\u001b[39;00m \u001b[38;5;129;01mnot\u001b[39;00m (axis \u001b[38;5;241m==\u001b[39m \u001b[38;5;241m0\u001b[39m \u001b[38;5;129;01mand\u001b[39;00m new_mgr_locs \u001b[38;5;129;01mis\u001b[39;00m \u001b[38;5;28;01mNone\u001b[39;00m)\n",
      "File \u001b[1;32m~\\anaconda3\\envs\\dojo-env\\lib\\site-packages\\pandas\\core\\array_algos\\take.py:117\u001b[0m, in \u001b[0;36mtake_nd\u001b[1;34m(arr, indexer, axis, fill_value, allow_fill)\u001b[0m\n\u001b[0;32m    114\u001b[0m     \u001b[38;5;28;01mreturn\u001b[39;00m arr\u001b[38;5;241m.\u001b[39mtake(indexer, fill_value\u001b[38;5;241m=\u001b[39mfill_value, allow_fill\u001b[38;5;241m=\u001b[39mallow_fill)\n\u001b[0;32m    116\u001b[0m arr \u001b[38;5;241m=\u001b[39m np\u001b[38;5;241m.\u001b[39masarray(arr)\n\u001b[1;32m--> 117\u001b[0m \u001b[38;5;28;01mreturn\u001b[39;00m \u001b[43m_take_nd_ndarray\u001b[49m\u001b[43m(\u001b[49m\u001b[43marr\u001b[49m\u001b[43m,\u001b[49m\u001b[43m \u001b[49m\u001b[43mindexer\u001b[49m\u001b[43m,\u001b[49m\u001b[43m \u001b[49m\u001b[43maxis\u001b[49m\u001b[43m,\u001b[49m\u001b[43m \u001b[49m\u001b[43mfill_value\u001b[49m\u001b[43m,\u001b[49m\u001b[43m \u001b[49m\u001b[43mallow_fill\u001b[49m\u001b[43m)\u001b[49m\n",
      "File \u001b[1;32m~\\anaconda3\\envs\\dojo-env\\lib\\site-packages\\pandas\\core\\array_algos\\take.py:158\u001b[0m, in \u001b[0;36m_take_nd_ndarray\u001b[1;34m(arr, indexer, axis, fill_value, allow_fill)\u001b[0m\n\u001b[0;32m    156\u001b[0m     out \u001b[38;5;241m=\u001b[39m np\u001b[38;5;241m.\u001b[39mempty(out_shape, dtype\u001b[38;5;241m=\u001b[39mdtype, order\u001b[38;5;241m=\u001b[39m\u001b[38;5;124m\"\u001b[39m\u001b[38;5;124mF\u001b[39m\u001b[38;5;124m\"\u001b[39m)\n\u001b[0;32m    157\u001b[0m \u001b[38;5;28;01melse\u001b[39;00m:\n\u001b[1;32m--> 158\u001b[0m     out \u001b[38;5;241m=\u001b[39m \u001b[43mnp\u001b[49m\u001b[38;5;241;43m.\u001b[39;49m\u001b[43mempty\u001b[49m\u001b[43m(\u001b[49m\u001b[43mout_shape\u001b[49m\u001b[43m,\u001b[49m\u001b[43m \u001b[49m\u001b[43mdtype\u001b[49m\u001b[38;5;241;43m=\u001b[39;49m\u001b[43mdtype\u001b[49m\u001b[43m)\u001b[49m\n\u001b[0;32m    160\u001b[0m func \u001b[38;5;241m=\u001b[39m _get_take_nd_function(\n\u001b[0;32m    161\u001b[0m     arr\u001b[38;5;241m.\u001b[39mndim, arr\u001b[38;5;241m.\u001b[39mdtype, out\u001b[38;5;241m.\u001b[39mdtype, axis\u001b[38;5;241m=\u001b[39maxis, mask_info\u001b[38;5;241m=\u001b[39mmask_info\n\u001b[0;32m    162\u001b[0m )\n\u001b[0;32m    163\u001b[0m func(arr, indexer, out, fill_value)\n",
      "\u001b[1;31mMemoryError\u001b[0m: Unable to allocate 375. MiB for an array with shape (6, 8199988) and data type float64"
     ]
    },
    {
     "ename": "MemoryError",
     "evalue": "Unable to allocate 313. MiB for an array with shape (5, 8199988) and data type float64",
     "output_type": "error",
     "traceback": [
      "\u001b[1;31m---------------------------------------------------------------------------\u001b[0m",
      "\u001b[1;31mMemoryError\u001b[0m                               Traceback (most recent call last)",
      "File \u001b[1;32m~\\anaconda3\\envs\\dojo-env\\lib\\site-packages\\IPython\\core\\formatters.py:342\u001b[0m, in \u001b[0;36mBaseFormatter.__call__\u001b[1;34m(self, obj)\u001b[0m\n\u001b[0;32m    340\u001b[0m     method \u001b[38;5;241m=\u001b[39m get_real_method(obj, \u001b[38;5;28mself\u001b[39m\u001b[38;5;241m.\u001b[39mprint_method)\n\u001b[0;32m    341\u001b[0m     \u001b[38;5;28;01mif\u001b[39;00m method \u001b[38;5;129;01mis\u001b[39;00m \u001b[38;5;129;01mnot\u001b[39;00m \u001b[38;5;28;01mNone\u001b[39;00m:\n\u001b[1;32m--> 342\u001b[0m         \u001b[38;5;28;01mreturn\u001b[39;00m \u001b[43mmethod\u001b[49m\u001b[43m(\u001b[49m\u001b[43m)\u001b[49m\n\u001b[0;32m    343\u001b[0m     \u001b[38;5;28;01mreturn\u001b[39;00m \u001b[38;5;28;01mNone\u001b[39;00m\n\u001b[0;32m    344\u001b[0m \u001b[38;5;28;01melse\u001b[39;00m:\n",
      "File \u001b[1;32m~\\anaconda3\\envs\\dojo-env\\lib\\site-packages\\pandas\\core\\frame.py:1086\u001b[0m, in \u001b[0;36mDataFrame._repr_html_\u001b[1;34m(self)\u001b[0m\n\u001b[0;32m   1083\u001b[0m     max_cols \u001b[38;5;241m=\u001b[39m get_option(\u001b[38;5;124m\"\u001b[39m\u001b[38;5;124mdisplay.max_columns\u001b[39m\u001b[38;5;124m\"\u001b[39m)\n\u001b[0;32m   1084\u001b[0m     show_dimensions \u001b[38;5;241m=\u001b[39m get_option(\u001b[38;5;124m\"\u001b[39m\u001b[38;5;124mdisplay.show_dimensions\u001b[39m\u001b[38;5;124m\"\u001b[39m)\n\u001b[1;32m-> 1086\u001b[0m     formatter \u001b[38;5;241m=\u001b[39m \u001b[43mfmt\u001b[49m\u001b[38;5;241;43m.\u001b[39;49m\u001b[43mDataFrameFormatter\u001b[49m\u001b[43m(\u001b[49m\n\u001b[0;32m   1087\u001b[0m \u001b[43m        \u001b[49m\u001b[38;5;28;43mself\u001b[39;49m\u001b[43m,\u001b[49m\n\u001b[0;32m   1088\u001b[0m \u001b[43m        \u001b[49m\u001b[43mcolumns\u001b[49m\u001b[38;5;241;43m=\u001b[39;49m\u001b[38;5;28;43;01mNone\u001b[39;49;00m\u001b[43m,\u001b[49m\n\u001b[0;32m   1089\u001b[0m \u001b[43m        \u001b[49m\u001b[43mcol_space\u001b[49m\u001b[38;5;241;43m=\u001b[39;49m\u001b[38;5;28;43;01mNone\u001b[39;49;00m\u001b[43m,\u001b[49m\n\u001b[0;32m   1090\u001b[0m \u001b[43m        \u001b[49m\u001b[43mna_rep\u001b[49m\u001b[38;5;241;43m=\u001b[39;49m\u001b[38;5;124;43m\"\u001b[39;49m\u001b[38;5;124;43mNaN\u001b[39;49m\u001b[38;5;124;43m\"\u001b[39;49m\u001b[43m,\u001b[49m\n\u001b[0;32m   1091\u001b[0m \u001b[43m        \u001b[49m\u001b[43mformatters\u001b[49m\u001b[38;5;241;43m=\u001b[39;49m\u001b[38;5;28;43;01mNone\u001b[39;49;00m\u001b[43m,\u001b[49m\n\u001b[0;32m   1092\u001b[0m \u001b[43m        \u001b[49m\u001b[43mfloat_format\u001b[49m\u001b[38;5;241;43m=\u001b[39;49m\u001b[38;5;28;43;01mNone\u001b[39;49;00m\u001b[43m,\u001b[49m\n\u001b[0;32m   1093\u001b[0m \u001b[43m        \u001b[49m\u001b[43msparsify\u001b[49m\u001b[38;5;241;43m=\u001b[39;49m\u001b[38;5;28;43;01mNone\u001b[39;49;00m\u001b[43m,\u001b[49m\n\u001b[0;32m   1094\u001b[0m \u001b[43m        \u001b[49m\u001b[43mjustify\u001b[49m\u001b[38;5;241;43m=\u001b[39;49m\u001b[38;5;28;43;01mNone\u001b[39;49;00m\u001b[43m,\u001b[49m\n\u001b[0;32m   1095\u001b[0m \u001b[43m        \u001b[49m\u001b[43mindex_names\u001b[49m\u001b[38;5;241;43m=\u001b[39;49m\u001b[38;5;28;43;01mTrue\u001b[39;49;00m\u001b[43m,\u001b[49m\n\u001b[0;32m   1096\u001b[0m \u001b[43m        \u001b[49m\u001b[43mheader\u001b[49m\u001b[38;5;241;43m=\u001b[39;49m\u001b[38;5;28;43;01mTrue\u001b[39;49;00m\u001b[43m,\u001b[49m\n\u001b[0;32m   1097\u001b[0m \u001b[43m        \u001b[49m\u001b[43mindex\u001b[49m\u001b[38;5;241;43m=\u001b[39;49m\u001b[38;5;28;43;01mTrue\u001b[39;49;00m\u001b[43m,\u001b[49m\n\u001b[0;32m   1098\u001b[0m \u001b[43m        \u001b[49m\u001b[43mbold_rows\u001b[49m\u001b[38;5;241;43m=\u001b[39;49m\u001b[38;5;28;43;01mTrue\u001b[39;49;00m\u001b[43m,\u001b[49m\n\u001b[0;32m   1099\u001b[0m \u001b[43m        \u001b[49m\u001b[43mescape\u001b[49m\u001b[38;5;241;43m=\u001b[39;49m\u001b[38;5;28;43;01mTrue\u001b[39;49;00m\u001b[43m,\u001b[49m\n\u001b[0;32m   1100\u001b[0m \u001b[43m        \u001b[49m\u001b[43mmax_rows\u001b[49m\u001b[38;5;241;43m=\u001b[39;49m\u001b[43mmax_rows\u001b[49m\u001b[43m,\u001b[49m\n\u001b[0;32m   1101\u001b[0m \u001b[43m        \u001b[49m\u001b[43mmin_rows\u001b[49m\u001b[38;5;241;43m=\u001b[39;49m\u001b[43mmin_rows\u001b[49m\u001b[43m,\u001b[49m\n\u001b[0;32m   1102\u001b[0m \u001b[43m        \u001b[49m\u001b[43mmax_cols\u001b[49m\u001b[38;5;241;43m=\u001b[39;49m\u001b[43mmax_cols\u001b[49m\u001b[43m,\u001b[49m\n\u001b[0;32m   1103\u001b[0m \u001b[43m        \u001b[49m\u001b[43mshow_dimensions\u001b[49m\u001b[38;5;241;43m=\u001b[39;49m\u001b[43mshow_dimensions\u001b[49m\u001b[43m,\u001b[49m\n\u001b[0;32m   1104\u001b[0m \u001b[43m        \u001b[49m\u001b[43mdecimal\u001b[49m\u001b[38;5;241;43m=\u001b[39;49m\u001b[38;5;124;43m\"\u001b[39;49m\u001b[38;5;124;43m.\u001b[39;49m\u001b[38;5;124;43m\"\u001b[39;49m\u001b[43m,\u001b[49m\n\u001b[0;32m   1105\u001b[0m \u001b[43m    \u001b[49m\u001b[43m)\u001b[49m\n\u001b[0;32m   1106\u001b[0m     \u001b[38;5;28;01mreturn\u001b[39;00m fmt\u001b[38;5;241m.\u001b[39mDataFrameRenderer(formatter)\u001b[38;5;241m.\u001b[39mto_html(notebook\u001b[38;5;241m=\u001b[39m\u001b[38;5;28;01mTrue\u001b[39;00m)\n\u001b[0;32m   1107\u001b[0m \u001b[38;5;28;01melse\u001b[39;00m:\n",
      "File \u001b[1;32m~\\anaconda3\\envs\\dojo-env\\lib\\site-packages\\pandas\\io\\formats\\format.py:610\u001b[0m, in \u001b[0;36mDataFrameFormatter.__init__\u001b[1;34m(self, frame, columns, col_space, header, index, na_rep, formatters, justify, float_format, sparsify, index_names, max_rows, min_rows, max_cols, show_dimensions, decimal, bold_rows, escape)\u001b[0m\n\u001b[0;32m    607\u001b[0m \u001b[38;5;28mself\u001b[39m\u001b[38;5;241m.\u001b[39mmax_rows_fitted \u001b[38;5;241m=\u001b[39m \u001b[38;5;28mself\u001b[39m\u001b[38;5;241m.\u001b[39m_calc_max_rows_fitted()\n\u001b[0;32m    609\u001b[0m \u001b[38;5;28mself\u001b[39m\u001b[38;5;241m.\u001b[39mtr_frame \u001b[38;5;241m=\u001b[39m \u001b[38;5;28mself\u001b[39m\u001b[38;5;241m.\u001b[39mframe\n\u001b[1;32m--> 610\u001b[0m \u001b[38;5;28;43mself\u001b[39;49m\u001b[38;5;241;43m.\u001b[39;49m\u001b[43mtruncate\u001b[49m\u001b[43m(\u001b[49m\u001b[43m)\u001b[49m\n\u001b[0;32m    611\u001b[0m \u001b[38;5;28mself\u001b[39m\u001b[38;5;241m.\u001b[39madj \u001b[38;5;241m=\u001b[39m get_adjustment()\n",
      "File \u001b[1;32m~\\anaconda3\\envs\\dojo-env\\lib\\site-packages\\pandas\\io\\formats\\format.py:798\u001b[0m, in \u001b[0;36mDataFrameFormatter.truncate\u001b[1;34m(self)\u001b[0m\n\u001b[0;32m    794\u001b[0m \u001b[38;5;124;03m\"\"\"\u001b[39;00m\n\u001b[0;32m    795\u001b[0m \u001b[38;5;124;03mCheck whether the frame should be truncated. If so, slice the frame up.\u001b[39;00m\n\u001b[0;32m    796\u001b[0m \u001b[38;5;124;03m\"\"\"\u001b[39;00m\n\u001b[0;32m    797\u001b[0m \u001b[38;5;28;01mif\u001b[39;00m \u001b[38;5;28mself\u001b[39m\u001b[38;5;241m.\u001b[39mis_truncated_horizontally:\n\u001b[1;32m--> 798\u001b[0m     \u001b[38;5;28;43mself\u001b[39;49m\u001b[38;5;241;43m.\u001b[39;49m\u001b[43m_truncate_horizontally\u001b[49m\u001b[43m(\u001b[49m\u001b[43m)\u001b[49m\n\u001b[0;32m    800\u001b[0m \u001b[38;5;28;01mif\u001b[39;00m \u001b[38;5;28mself\u001b[39m\u001b[38;5;241m.\u001b[39mis_truncated_vertically:\n\u001b[0;32m    801\u001b[0m     \u001b[38;5;28mself\u001b[39m\u001b[38;5;241m.\u001b[39m_truncate_vertically()\n",
      "File \u001b[1;32m~\\anaconda3\\envs\\dojo-env\\lib\\site-packages\\pandas\\io\\formats\\format.py:814\u001b[0m, in \u001b[0;36mDataFrameFormatter._truncate_horizontally\u001b[1;34m(self)\u001b[0m\n\u001b[0;32m    812\u001b[0m col_num \u001b[38;5;241m=\u001b[39m \u001b[38;5;28mself\u001b[39m\u001b[38;5;241m.\u001b[39mmax_cols_fitted \u001b[38;5;241m/\u001b[39m\u001b[38;5;241m/\u001b[39m \u001b[38;5;241m2\u001b[39m\n\u001b[0;32m    813\u001b[0m \u001b[38;5;28;01mif\u001b[39;00m col_num \u001b[38;5;241m>\u001b[39m\u001b[38;5;241m=\u001b[39m \u001b[38;5;241m1\u001b[39m:\n\u001b[1;32m--> 814\u001b[0m     left \u001b[38;5;241m=\u001b[39m \u001b[38;5;28;43mself\u001b[39;49m\u001b[38;5;241;43m.\u001b[39;49m\u001b[43mtr_frame\u001b[49m\u001b[38;5;241;43m.\u001b[39;49m\u001b[43miloc\u001b[49m\u001b[43m[\u001b[49m\u001b[43m:\u001b[49m\u001b[43m,\u001b[49m\u001b[43m \u001b[49m\u001b[43m:\u001b[49m\u001b[43mcol_num\u001b[49m\u001b[43m]\u001b[49m\n\u001b[0;32m    815\u001b[0m     right \u001b[38;5;241m=\u001b[39m \u001b[38;5;28mself\u001b[39m\u001b[38;5;241m.\u001b[39mtr_frame\u001b[38;5;241m.\u001b[39miloc[:, \u001b[38;5;241m-\u001b[39mcol_num:]\n\u001b[0;32m    816\u001b[0m     \u001b[38;5;28mself\u001b[39m\u001b[38;5;241m.\u001b[39mtr_frame \u001b[38;5;241m=\u001b[39m concat((left, right), axis\u001b[38;5;241m=\u001b[39m\u001b[38;5;241m1\u001b[39m)\n",
      "File \u001b[1;32m~\\anaconda3\\envs\\dojo-env\\lib\\site-packages\\pandas\\core\\indexing.py:1067\u001b[0m, in \u001b[0;36m_LocationIndexer.__getitem__\u001b[1;34m(self, key)\u001b[0m\n\u001b[0;32m   1065\u001b[0m     \u001b[38;5;28;01mif\u001b[39;00m \u001b[38;5;28mself\u001b[39m\u001b[38;5;241m.\u001b[39m_is_scalar_access(key):\n\u001b[0;32m   1066\u001b[0m         \u001b[38;5;28;01mreturn\u001b[39;00m \u001b[38;5;28mself\u001b[39m\u001b[38;5;241m.\u001b[39mobj\u001b[38;5;241m.\u001b[39m_get_value(\u001b[38;5;241m*\u001b[39mkey, takeable\u001b[38;5;241m=\u001b[39m\u001b[38;5;28mself\u001b[39m\u001b[38;5;241m.\u001b[39m_takeable)\n\u001b[1;32m-> 1067\u001b[0m     \u001b[38;5;28;01mreturn\u001b[39;00m \u001b[38;5;28;43mself\u001b[39;49m\u001b[38;5;241;43m.\u001b[39;49m\u001b[43m_getitem_tuple\u001b[49m\u001b[43m(\u001b[49m\u001b[43mkey\u001b[49m\u001b[43m)\u001b[49m\n\u001b[0;32m   1068\u001b[0m \u001b[38;5;28;01melse\u001b[39;00m:\n\u001b[0;32m   1069\u001b[0m     \u001b[38;5;66;03m# we by definition only have the 0th axis\u001b[39;00m\n\u001b[0;32m   1070\u001b[0m     axis \u001b[38;5;241m=\u001b[39m \u001b[38;5;28mself\u001b[39m\u001b[38;5;241m.\u001b[39maxis \u001b[38;5;129;01mor\u001b[39;00m \u001b[38;5;241m0\u001b[39m\n",
      "File \u001b[1;32m~\\anaconda3\\envs\\dojo-env\\lib\\site-packages\\pandas\\core\\indexing.py:1567\u001b[0m, in \u001b[0;36m_iLocIndexer._getitem_tuple\u001b[1;34m(self, tup)\u001b[0m\n\u001b[0;32m   1564\u001b[0m \u001b[38;5;28;01mwith\u001b[39;00m suppress(IndexingError):\n\u001b[0;32m   1565\u001b[0m     \u001b[38;5;28;01mreturn\u001b[39;00m \u001b[38;5;28mself\u001b[39m\u001b[38;5;241m.\u001b[39m_getitem_lowerdim(tup)\n\u001b[1;32m-> 1567\u001b[0m \u001b[38;5;28;01mreturn\u001b[39;00m \u001b[38;5;28;43mself\u001b[39;49m\u001b[38;5;241;43m.\u001b[39;49m\u001b[43m_getitem_tuple_same_dim\u001b[49m\u001b[43m(\u001b[49m\u001b[43mtup\u001b[49m\u001b[43m)\u001b[49m\n",
      "File \u001b[1;32m~\\anaconda3\\envs\\dojo-env\\lib\\site-packages\\pandas\\core\\indexing.py:924\u001b[0m, in \u001b[0;36m_LocationIndexer._getitem_tuple_same_dim\u001b[1;34m(self, tup)\u001b[0m\n\u001b[0;32m    921\u001b[0m \u001b[38;5;28;01mif\u001b[39;00m com\u001b[38;5;241m.\u001b[39mis_null_slice(key):\n\u001b[0;32m    922\u001b[0m     \u001b[38;5;28;01mcontinue\u001b[39;00m\n\u001b[1;32m--> 924\u001b[0m retval \u001b[38;5;241m=\u001b[39m \u001b[38;5;28;43mgetattr\u001b[39;49m\u001b[43m(\u001b[49m\u001b[43mretval\u001b[49m\u001b[43m,\u001b[49m\u001b[43m \u001b[49m\u001b[38;5;28;43mself\u001b[39;49m\u001b[38;5;241;43m.\u001b[39;49m\u001b[43mname\u001b[49m\u001b[43m)\u001b[49m\u001b[38;5;241;43m.\u001b[39;49m\u001b[43m_getitem_axis\u001b[49m\u001b[43m(\u001b[49m\u001b[43mkey\u001b[49m\u001b[43m,\u001b[49m\u001b[43m \u001b[49m\u001b[43maxis\u001b[49m\u001b[38;5;241;43m=\u001b[39;49m\u001b[43mi\u001b[49m\u001b[43m)\u001b[49m\n\u001b[0;32m    925\u001b[0m \u001b[38;5;66;03m# We should never have retval.ndim < self.ndim, as that should\u001b[39;00m\n\u001b[0;32m    926\u001b[0m \u001b[38;5;66;03m#  be handled by the _getitem_lowerdim call above.\u001b[39;00m\n\u001b[0;32m    927\u001b[0m \u001b[38;5;28;01massert\u001b[39;00m retval\u001b[38;5;241m.\u001b[39mndim \u001b[38;5;241m==\u001b[39m \u001b[38;5;28mself\u001b[39m\u001b[38;5;241m.\u001b[39mndim\n",
      "File \u001b[1;32m~\\anaconda3\\envs\\dojo-env\\lib\\site-packages\\pandas\\core\\indexing.py:1602\u001b[0m, in \u001b[0;36m_iLocIndexer._getitem_axis\u001b[1;34m(self, key, axis)\u001b[0m\n\u001b[0;32m   1596\u001b[0m     \u001b[38;5;28;01mraise\u001b[39;00m \u001b[38;5;167;01mIndexError\u001b[39;00m(\n\u001b[0;32m   1597\u001b[0m         \u001b[38;5;124m\"\u001b[39m\u001b[38;5;124mDataFrame indexer is not allowed for .iloc\u001b[39m\u001b[38;5;130;01m\\n\u001b[39;00m\u001b[38;5;124m\"\u001b[39m\n\u001b[0;32m   1598\u001b[0m         \u001b[38;5;124m\"\u001b[39m\u001b[38;5;124mConsider using .loc for automatic alignment.\u001b[39m\u001b[38;5;124m\"\u001b[39m\n\u001b[0;32m   1599\u001b[0m     )\n\u001b[0;32m   1601\u001b[0m \u001b[38;5;28;01mif\u001b[39;00m \u001b[38;5;28misinstance\u001b[39m(key, \u001b[38;5;28mslice\u001b[39m):\n\u001b[1;32m-> 1602\u001b[0m     \u001b[38;5;28;01mreturn\u001b[39;00m \u001b[38;5;28;43mself\u001b[39;49m\u001b[38;5;241;43m.\u001b[39;49m\u001b[43m_get_slice_axis\u001b[49m\u001b[43m(\u001b[49m\u001b[43mkey\u001b[49m\u001b[43m,\u001b[49m\u001b[43m \u001b[49m\u001b[43maxis\u001b[49m\u001b[38;5;241;43m=\u001b[39;49m\u001b[43maxis\u001b[49m\u001b[43m)\u001b[49m\n\u001b[0;32m   1604\u001b[0m \u001b[38;5;28;01mif\u001b[39;00m is_iterator(key):\n\u001b[0;32m   1605\u001b[0m     key \u001b[38;5;241m=\u001b[39m \u001b[38;5;28mlist\u001b[39m(key)\n",
      "File \u001b[1;32m~\\anaconda3\\envs\\dojo-env\\lib\\site-packages\\pandas\\core\\indexing.py:1638\u001b[0m, in \u001b[0;36m_iLocIndexer._get_slice_axis\u001b[1;34m(self, slice_obj, axis)\u001b[0m\n\u001b[0;32m   1636\u001b[0m labels \u001b[38;5;241m=\u001b[39m obj\u001b[38;5;241m.\u001b[39m_get_axis(axis)\n\u001b[0;32m   1637\u001b[0m labels\u001b[38;5;241m.\u001b[39m_validate_positional_slice(slice_obj)\n\u001b[1;32m-> 1638\u001b[0m \u001b[38;5;28;01mreturn\u001b[39;00m \u001b[38;5;28;43mself\u001b[39;49m\u001b[38;5;241;43m.\u001b[39;49m\u001b[43mobj\u001b[49m\u001b[38;5;241;43m.\u001b[39;49m\u001b[43m_slice\u001b[49m\u001b[43m(\u001b[49m\u001b[43mslice_obj\u001b[49m\u001b[43m,\u001b[49m\u001b[43m \u001b[49m\u001b[43maxis\u001b[49m\u001b[38;5;241;43m=\u001b[39;49m\u001b[43maxis\u001b[49m\u001b[43m)\u001b[49m\n",
      "File \u001b[1;32m~\\anaconda3\\envs\\dojo-env\\lib\\site-packages\\pandas\\core\\generic.py:4105\u001b[0m, in \u001b[0;36mNDFrame._slice\u001b[1;34m(self, slobj, axis)\u001b[0m\n\u001b[0;32m   4103\u001b[0m \u001b[38;5;28;01massert\u001b[39;00m \u001b[38;5;28misinstance\u001b[39m(slobj, \u001b[38;5;28mslice\u001b[39m), \u001b[38;5;28mtype\u001b[39m(slobj)\n\u001b[0;32m   4104\u001b[0m axis \u001b[38;5;241m=\u001b[39m \u001b[38;5;28mself\u001b[39m\u001b[38;5;241m.\u001b[39m_get_block_manager_axis(axis)\n\u001b[1;32m-> 4105\u001b[0m result \u001b[38;5;241m=\u001b[39m \u001b[38;5;28mself\u001b[39m\u001b[38;5;241m.\u001b[39m_constructor(\u001b[38;5;28;43mself\u001b[39;49m\u001b[38;5;241;43m.\u001b[39;49m\u001b[43m_mgr\u001b[49m\u001b[38;5;241;43m.\u001b[39;49m\u001b[43mget_slice\u001b[49m\u001b[43m(\u001b[49m\u001b[43mslobj\u001b[49m\u001b[43m,\u001b[49m\u001b[43m \u001b[49m\u001b[43maxis\u001b[49m\u001b[38;5;241;43m=\u001b[39;49m\u001b[43maxis\u001b[49m\u001b[43m)\u001b[49m)\n\u001b[0;32m   4106\u001b[0m result \u001b[38;5;241m=\u001b[39m result\u001b[38;5;241m.\u001b[39m__finalize__(\u001b[38;5;28mself\u001b[39m)\n\u001b[0;32m   4108\u001b[0m \u001b[38;5;66;03m# this could be a view\u001b[39;00m\n\u001b[0;32m   4109\u001b[0m \u001b[38;5;66;03m# but only in a single-dtyped view sliceable case\u001b[39;00m\n",
      "File \u001b[1;32m~\\anaconda3\\envs\\dojo-env\\lib\\site-packages\\pandas\\_libs\\internals.pyx:825\u001b[0m, in \u001b[0;36mpandas._libs.internals.BlockManager.get_slice\u001b[1;34m()\u001b[0m\n",
      "File \u001b[1;32m~\\anaconda3\\envs\\dojo-env\\lib\\site-packages\\pandas\\core\\internals\\managers.py:912\u001b[0m, in \u001b[0;36mBaseBlockManager._slice_take_blocks_ax0\u001b[1;34m(self, slice_or_indexer, fill_value, only_slice, use_na_proxy)\u001b[0m\n\u001b[0;32m    910\u001b[0m         refs\u001b[38;5;241m.\u001b[39mappend(weakref\u001b[38;5;241m.\u001b[39mref(blk))\n\u001b[0;32m    911\u001b[0m \u001b[38;5;28;01melse\u001b[39;00m:\n\u001b[1;32m--> 912\u001b[0m     nb \u001b[38;5;241m=\u001b[39m \u001b[43mblk\u001b[49m\u001b[38;5;241;43m.\u001b[39;49m\u001b[43mtake_nd\u001b[49m\u001b[43m(\u001b[49m\u001b[43mtaker\u001b[49m\u001b[43m,\u001b[49m\u001b[43m \u001b[49m\u001b[43maxis\u001b[49m\u001b[38;5;241;43m=\u001b[39;49m\u001b[38;5;241;43m0\u001b[39;49m\u001b[43m,\u001b[49m\u001b[43m \u001b[49m\u001b[43mnew_mgr_locs\u001b[49m\u001b[38;5;241;43m=\u001b[39;49m\u001b[43mmgr_locs\u001b[49m\u001b[43m)\u001b[49m\n\u001b[0;32m    913\u001b[0m     blocks\u001b[38;5;241m.\u001b[39mappend(nb)\n\u001b[0;32m    914\u001b[0m     refs\u001b[38;5;241m.\u001b[39mappend(\u001b[38;5;28;01mNone\u001b[39;00m)\n",
      "File \u001b[1;32m~\\anaconda3\\envs\\dojo-env\\lib\\site-packages\\pandas\\core\\internals\\blocks.py:880\u001b[0m, in \u001b[0;36mBlock.take_nd\u001b[1;34m(self, indexer, axis, new_mgr_locs, fill_value)\u001b[0m\n\u001b[0;32m    877\u001b[0m     allow_fill \u001b[38;5;241m=\u001b[39m \u001b[38;5;28;01mTrue\u001b[39;00m\n\u001b[0;32m    879\u001b[0m \u001b[38;5;66;03m# Note: algos.take_nd has upcast logic similar to coerce_to_target_dtype\u001b[39;00m\n\u001b[1;32m--> 880\u001b[0m new_values \u001b[38;5;241m=\u001b[39m \u001b[43malgos\u001b[49m\u001b[38;5;241;43m.\u001b[39;49m\u001b[43mtake_nd\u001b[49m\u001b[43m(\u001b[49m\n\u001b[0;32m    881\u001b[0m \u001b[43m    \u001b[49m\u001b[43mvalues\u001b[49m\u001b[43m,\u001b[49m\u001b[43m \u001b[49m\u001b[43mindexer\u001b[49m\u001b[43m,\u001b[49m\u001b[43m \u001b[49m\u001b[43maxis\u001b[49m\u001b[38;5;241;43m=\u001b[39;49m\u001b[43maxis\u001b[49m\u001b[43m,\u001b[49m\u001b[43m \u001b[49m\u001b[43mallow_fill\u001b[49m\u001b[38;5;241;43m=\u001b[39;49m\u001b[43mallow_fill\u001b[49m\u001b[43m,\u001b[49m\u001b[43m \u001b[49m\u001b[43mfill_value\u001b[49m\u001b[38;5;241;43m=\u001b[39;49m\u001b[43mfill_value\u001b[49m\n\u001b[0;32m    882\u001b[0m \u001b[43m\u001b[49m\u001b[43m)\u001b[49m\n\u001b[0;32m    884\u001b[0m \u001b[38;5;66;03m# Called from three places in managers, all of which satisfy\u001b[39;00m\n\u001b[0;32m    885\u001b[0m \u001b[38;5;66;03m#  this assertion\u001b[39;00m\n\u001b[0;32m    886\u001b[0m \u001b[38;5;28;01massert\u001b[39;00m \u001b[38;5;129;01mnot\u001b[39;00m (axis \u001b[38;5;241m==\u001b[39m \u001b[38;5;241m0\u001b[39m \u001b[38;5;129;01mand\u001b[39;00m new_mgr_locs \u001b[38;5;129;01mis\u001b[39;00m \u001b[38;5;28;01mNone\u001b[39;00m)\n",
      "File \u001b[1;32m~\\anaconda3\\envs\\dojo-env\\lib\\site-packages\\pandas\\core\\array_algos\\take.py:117\u001b[0m, in \u001b[0;36mtake_nd\u001b[1;34m(arr, indexer, axis, fill_value, allow_fill)\u001b[0m\n\u001b[0;32m    114\u001b[0m     \u001b[38;5;28;01mreturn\u001b[39;00m arr\u001b[38;5;241m.\u001b[39mtake(indexer, fill_value\u001b[38;5;241m=\u001b[39mfill_value, allow_fill\u001b[38;5;241m=\u001b[39mallow_fill)\n\u001b[0;32m    116\u001b[0m arr \u001b[38;5;241m=\u001b[39m np\u001b[38;5;241m.\u001b[39masarray(arr)\n\u001b[1;32m--> 117\u001b[0m \u001b[38;5;28;01mreturn\u001b[39;00m \u001b[43m_take_nd_ndarray\u001b[49m\u001b[43m(\u001b[49m\u001b[43marr\u001b[49m\u001b[43m,\u001b[49m\u001b[43m \u001b[49m\u001b[43mindexer\u001b[49m\u001b[43m,\u001b[49m\u001b[43m \u001b[49m\u001b[43maxis\u001b[49m\u001b[43m,\u001b[49m\u001b[43m \u001b[49m\u001b[43mfill_value\u001b[49m\u001b[43m,\u001b[49m\u001b[43m \u001b[49m\u001b[43mallow_fill\u001b[49m\u001b[43m)\u001b[49m\n",
      "File \u001b[1;32m~\\anaconda3\\envs\\dojo-env\\lib\\site-packages\\pandas\\core\\array_algos\\take.py:158\u001b[0m, in \u001b[0;36m_take_nd_ndarray\u001b[1;34m(arr, indexer, axis, fill_value, allow_fill)\u001b[0m\n\u001b[0;32m    156\u001b[0m     out \u001b[38;5;241m=\u001b[39m np\u001b[38;5;241m.\u001b[39mempty(out_shape, dtype\u001b[38;5;241m=\u001b[39mdtype, order\u001b[38;5;241m=\u001b[39m\u001b[38;5;124m\"\u001b[39m\u001b[38;5;124mF\u001b[39m\u001b[38;5;124m\"\u001b[39m)\n\u001b[0;32m    157\u001b[0m \u001b[38;5;28;01melse\u001b[39;00m:\n\u001b[1;32m--> 158\u001b[0m     out \u001b[38;5;241m=\u001b[39m \u001b[43mnp\u001b[49m\u001b[38;5;241;43m.\u001b[39;49m\u001b[43mempty\u001b[49m\u001b[43m(\u001b[49m\u001b[43mout_shape\u001b[49m\u001b[43m,\u001b[49m\u001b[43m \u001b[49m\u001b[43mdtype\u001b[49m\u001b[38;5;241;43m=\u001b[39;49m\u001b[43mdtype\u001b[49m\u001b[43m)\u001b[49m\n\u001b[0;32m    160\u001b[0m func \u001b[38;5;241m=\u001b[39m _get_take_nd_function(\n\u001b[0;32m    161\u001b[0m     arr\u001b[38;5;241m.\u001b[39mndim, arr\u001b[38;5;241m.\u001b[39mdtype, out\u001b[38;5;241m.\u001b[39mdtype, axis\u001b[38;5;241m=\u001b[39maxis, mask_info\u001b[38;5;241m=\u001b[39mmask_info\n\u001b[0;32m    162\u001b[0m )\n\u001b[0;32m    163\u001b[0m func(arr, indexer, out, fill_value)\n",
      "\u001b[1;31mMemoryError\u001b[0m: Unable to allocate 313. MiB for an array with shape (5, 8199988) and data type float64"
     ]
    }
   ],
   "source": [
    "## Columns to exclude\n",
    "drop_cols = ['backdrop_path','backdrop_path','original_title','overview',\n",
    "                 'poster_path','tagline','id','homepage',\n",
    "                 'production_countries','video','spoken_languages',\n",
    "            'original_language']\n",
    "df = df.drop(columns=drop_cols)\n",
    "df"
   ]
  },
  {
   "cell_type": "code",
   "execution_count": null,
   "id": "dc84cde5",
   "metadata": {},
   "outputs": [],
   "source": []
  },
  {
   "cell_type": "markdown",
   "id": "4b62c91a",
   "metadata": {},
   "source": [
    "## Feature Engineering"
   ]
  },
  {
   "cell_type": "markdown",
   "id": "5c3f9077",
   "metadata": {},
   "source": [
    "* Collection to boolean\n",
    "* Pull out Genre names then OHE\n",
    "* Cleaning\n",
    "* Converting release date to year, month"
   ]
  },
  {
   "cell_type": "code",
   "execution_count": null,
   "id": "5a1b54a7",
   "metadata": {},
   "outputs": [],
   "source": [
    "df['belongs_to_collection'].notna().sum()"
   ]
  },
  {
   "cell_type": "code",
   "execution_count": null,
   "id": "00a906b5",
   "metadata": {},
   "outputs": [],
   "source": [
    "# Use .notna() to get True if it belongs to a collection\n",
    "df['belongs_to_collection'] = df['belongs_to_collection'].notna()\n",
    "df['belongs_to_collection'].value_counts()"
   ]
  },
  {
   "cell_type": "code",
   "execution_count": null,
   "id": "1204f5bf",
   "metadata": {},
   "outputs": [],
   "source": [
    "df.info()"
   ]
  },
  {
   "cell_type": "code",
   "execution_count": null,
   "id": "6f874f1a",
   "metadata": {},
   "outputs": [],
   "source": [
    "df['genres'][0]"
   ]
  },
  {
   "cell_type": "code",
   "execution_count": null,
   "id": "a318ee93",
   "metadata": {},
   "outputs": [],
   "source": [
    "def get_genre_name(x):\n",
    "    if isinstance(x, str):\n",
    "        x = x.replace(\"'\", '\"')\n",
    "        x = json.loads(x)\n",
    "        genres = []\n",
    "        for item in x:\n",
    "            genres.append(item['name'])\n",
    "        return genres\n",
    "    return []\n"
   ]
  },
  {
   "cell_type": "code",
   "execution_count": null,
   "id": "2f75c980",
   "metadata": {},
   "outputs": [],
   "source": [
    "def get_genre_name(x):\n",
    "    if isinstance(x, str):\n",
    "        try:\n",
    "            x = x.replace(\"'\", '\"')\n",
    "            x = json.loads(x)\n",
    "            genres = []\n",
    "            for item in x:\n",
    "                genres.append(item['name'])\n",
    "            return genres\n",
    "        except json.JSONDecodeError:\n",
    "            return []  # Return an empty list if JSON decoding fails\n",
    "    return []"
   ]
  },
  {
   "cell_type": "code",
   "execution_count": null,
   "id": "ee33ae45",
   "metadata": {},
   "outputs": [],
   "source": [
    "get_genre_name(df.loc[3,'genres'])"
   ]
  },
  {
   "cell_type": "code",
   "execution_count": null,
   "id": "edad0d7b",
   "metadata": {},
   "outputs": [],
   "source": [
    "df['genres_list'] = df['genres'].apply(get_genre_name)\n",
    "df_explode = df.explode('genres_list')\n",
    "df_explode.head()"
   ]
  },
  {
   "cell_type": "code",
   "execution_count": null,
   "id": "f17243e4",
   "metadata": {},
   "outputs": [],
   "source": [
    "## save unique genres\n",
    "unique_genres = df_explode['genres_list'].dropna().unique()\n",
    "unique_genres"
   ]
  },
  {
   "cell_type": "code",
   "execution_count": null,
   "id": "f491eabf",
   "metadata": {},
   "outputs": [],
   "source": [
    "## Manually One-Hot-Encode Genres\n",
    "for genre in unique_genres:\n",
    "    df[f\"Genre_{genre}\"] = df['genres'].str.contains(genre,regex=False)    \n",
    "df"
   ]
  },
  {
   "cell_type": "code",
   "execution_count": null,
   "id": "f5f5d936",
   "metadata": {},
   "outputs": [],
   "source": [
    "## Drop original genre cols\n",
    "df = df.drop(columns=['genres','genres_list'])\n",
    "df"
   ]
  },
  {
   "cell_type": "code",
   "execution_count": null,
   "id": "8cca0c18",
   "metadata": {},
   "outputs": [],
   "source": [
    "df.info()"
   ]
  },
  {
   "cell_type": "code",
   "execution_count": null,
   "id": "aae9b6f9",
   "metadata": {},
   "outputs": [],
   "source": [
    "## Checking Certification values\n",
    "df['certification'].value_counts(dropna=False)"
   ]
  },
  {
   "cell_type": "code",
   "execution_count": null,
   "id": "3e22bff4",
   "metadata": {},
   "outputs": [],
   "source": [
    "# fix extra space certs\n",
    "df['certification'] = df['certification'].str.strip()"
   ]
  },
  {
   "cell_type": "code",
   "execution_count": null,
   "id": "32d319a6",
   "metadata": {},
   "outputs": [],
   "source": [
    "## fix certification col\n",
    "repl_cert = {'Unrated':'NR',}\n",
    "\n",
    "df['certification'] = df['certification'].replace(repl_cert)\n",
    "df['certification'].value_counts(dropna=False)"
   ]
  },
  {
   "cell_type": "code",
   "execution_count": null,
   "id": "93d4a0e2",
   "metadata": {},
   "outputs": [],
   "source": [
    "## split release date into 3 columns\n",
    "new_cols = ['year','month','day']\n",
    "df[new_cols] = df['release_date'].str.split('-',expand=True)\n",
    "df[new_cols] = df[new_cols].astype(float)\n",
    "df"
   ]
  },
  {
   "cell_type": "code",
   "execution_count": null,
   "id": "ac1de223",
   "metadata": {},
   "outputs": [],
   "source": [
    "df[df['release_date'].isna()]"
   ]
  },
  {
   "cell_type": "code",
   "execution_count": null,
   "id": "0fa2edee",
   "metadata": {},
   "outputs": [],
   "source": [
    "## drop original feature\n",
    "df = df.drop(columns=['release_date'])"
   ]
  },
  {
   "cell_type": "code",
   "execution_count": null,
   "id": "c8c8a4fc",
   "metadata": {},
   "outputs": [],
   "source": [
    "df.info()"
   ]
  },
  {
   "cell_type": "code",
   "execution_count": null,
   "id": "8d6e4e18",
   "metadata": {},
   "outputs": [],
   "source": [
    "## Check status\n",
    "df['status'].value_counts()"
   ]
  },
  {
   "cell_type": "code",
   "execution_count": null,
   "id": "b44fe049",
   "metadata": {},
   "outputs": [],
   "source": [
    "## Save only Released status\n",
    "df = df.loc[ df['status'] == 'Released']\n",
    "df = df.drop(columns=['status'])\n",
    "df"
   ]
  },
  {
   "cell_type": "code",
   "execution_count": null,
   "id": "31344521",
   "metadata": {},
   "outputs": [],
   "source": [
    "## filter out financials that don't have financial data\n",
    "df = df.loc[(df['budget'] >0 ) & (df['revenue']>0)]\n",
    "df"
   ]
  },
  {
   "cell_type": "code",
   "execution_count": null,
   "id": "e497ec62",
   "metadata": {},
   "outputs": [],
   "source": []
  },
  {
   "cell_type": "code",
   "execution_count": null,
   "id": "58887b8c",
   "metadata": {},
   "outputs": [],
   "source": []
  },
  {
   "cell_type": "code",
   "execution_count": null,
   "id": "ff4dea8b",
   "metadata": {},
   "outputs": [],
   "source": []
  },
  {
   "cell_type": "markdown",
   "id": "edaa00b0",
   "metadata": {},
   "source": [
    "## Train Test"
   ]
  },
  {
   "cell_type": "code",
   "execution_count": null,
   "id": "bbdf7e39",
   "metadata": {},
   "outputs": [],
   "source": [
    "df.info()"
   ]
  },
  {
   "cell_type": "code",
   "execution_count": null,
   "id": "89b021b0",
   "metadata": {},
   "outputs": [],
   "source": [
    "drop_for_model = ['title','imdb_id','production_companies']\n",
    "df = df.drop(columns=drop_for_model)\n",
    "df"
   ]
  },
  {
   "cell_type": "code",
   "execution_count": null,
   "id": "f80332a7",
   "metadata": {},
   "outputs": [],
   "source": [
    "## Make x and y variables\n",
    "y = df['revenue'].copy()\n",
    "X = df.drop(columns=['revenue']).copy()\n",
    "\n",
    "X_train, X_test, y_train, y_test = train_test_split(X,y)\n",
    "X_train.head()"
   ]
  },
  {
   "cell_type": "code",
   "execution_count": null,
   "id": "a0365d2b",
   "metadata": {},
   "outputs": [],
   "source": [
    "X_train.isna().sum()"
   ]
  },
  {
   "cell_type": "code",
   "execution_count": null,
   "id": "2fc26b60",
   "metadata": {},
   "outputs": [],
   "source": [
    "## make cat selector and using it to save list of column names\n",
    "cat_select = make_column_selector(dtype_include='object')\n",
    "cat_cols = cat_select(X_train)\n",
    "cat_cols"
   ]
  },
  {
   "cell_type": "code",
   "execution_count": null,
   "id": "538906f3",
   "metadata": {},
   "outputs": [],
   "source": [
    "## select manually OHE cols for later\n",
    "bool_select = make_column_selector(dtype_include='bool')\n",
    "already_ohe_cols = bool_select(X_train)\n",
    "already_ohe_cols"
   ]
  },
  {
   "cell_type": "code",
   "execution_count": null,
   "id": "b088dc5b",
   "metadata": {},
   "outputs": [],
   "source": [
    "num_select = make_column_selector(dtype_include='number')\n",
    "num_cols = num_select(X_train)\n",
    "num_cols"
   ]
  },
  {
   "cell_type": "code",
   "execution_count": null,
   "id": "179b96bb",
   "metadata": {},
   "outputs": [],
   "source": [
    "## convert manual ohe to int\n",
    "X_train[already_ohe_cols] = X_train[already_ohe_cols].astype(int)\n",
    "X_test[already_ohe_cols] = X_test[already_ohe_cols].astype(int)"
   ]
  },
  {
   "cell_type": "markdown",
   "id": "6840529f",
   "metadata": {},
   "source": [
    "## Pipelines"
   ]
  },
  {
   "cell_type": "code",
   "execution_count": null,
   "id": "bdd42638",
   "metadata": {},
   "outputs": [],
   "source": [
    "\n",
    "cat_pipe = make_pipeline(SimpleImputer(strategy='constant',\n",
    "                                       fill_value='MISSING'),\n",
    "                         OneHotEncoder(handle_unknown='ignore', sparse=False))\n",
    "num_pipe = make_pipeline(SimpleImputer(strategy='mean'),#StandardScaler()\n",
    "                        )\n",
    "\n",
    "preprocessor = make_column_transformer((cat_pipe,cat_cols),\n",
    "                                        (num_pipe, num_cols),\n",
    "                                       ('passthrough',already_ohe_cols))# remainder='passthrough')\n",
    "preprocessor"
   ]
  },
  {
   "cell_type": "code",
   "execution_count": null,
   "id": "d49ec38b",
   "metadata": {},
   "outputs": [],
   "source": [
    "xx123123= h "
   ]
  },
  {
   "cell_type": "code",
   "execution_count": null,
   "id": "5f92fed4",
   "metadata": {},
   "outputs": [],
   "source": [
    "## fit the col transformer\n",
    "preprocessor.fit(X_train)\n",
    "\n",
    "## Finding the categorical pipeline in our col transformer.\n",
    "preprocessor.named_transformers_['pipeline-1']"
   ]
  },
  {
   "cell_type": "code",
   "execution_count": null,
   "id": "bbe07482",
   "metadata": {},
   "outputs": [],
   "source": [
    "## B) Using list-slicing to find the encoder \n",
    "cat_features = preprocessor.named_transformers_['pipeline-1'][-1].get_feature_names_out(cat_cols)\n",
    "\n",
    "\n",
    "## Create the empty list\n",
    "final_features = [*cat_features,*num_cols,*already_ohe_cols]\n",
    "len(final_features)"
   ]
  },
  {
   "cell_type": "code",
   "execution_count": null,
   "id": "e95bae95",
   "metadata": {},
   "outputs": [],
   "source": [
    "preprocessor.transform(X_train).shape"
   ]
  },
  {
   "cell_type": "code",
   "execution_count": null,
   "id": "3e452042",
   "metadata": {},
   "outputs": [],
   "source": [
    "X_train_tf = pd.DataFrame( preprocessor.transform(X_train), \n",
    "                          columns=final_features, index=X_train.index)\n",
    "X_train_tf.head()"
   ]
  },
  {
   "cell_type": "code",
   "execution_count": null,
   "id": "2d03c397",
   "metadata": {},
   "outputs": [],
   "source": [
    "X_test_tf = pd.DataFrame( preprocessor.transform(X_test),\n",
    "                         columns=final_features, index=X_test.index)\n",
    "X_test_tf.head()"
   ]
  },
  {
   "cell_type": "markdown",
   "id": "fa4b3a03",
   "metadata": {},
   "source": [
    "## Statsmodels"
   ]
  },
  {
   "cell_type": "code",
   "execution_count": null,
   "id": "c998ce7a",
   "metadata": {},
   "outputs": [],
   "source": [
    "##import statsmodels correctly\n",
    "import statsmodels.api as sm"
   ]
  },
  {
   "cell_type": "code",
   "execution_count": null,
   "id": "ffade276",
   "metadata": {},
   "outputs": [],
   "source": [
    "# Tip: make sure that add_constant actually added a new column! \n",
    "#You may need to change the parameter has_constant to \"add\""
   ]
  },
  {
   "cell_type": "code",
   "execution_count": null,
   "id": "0621c077",
   "metadata": {},
   "outputs": [],
   "source": [
    "## Make final X_train_df and X_test_df with constants added\n",
    "X_train_df = sm.add_constant(X_train_tf, prepend=False)\n",
    "X_test_df = sm.add_constant(X_test_tf, prepend=False)\n",
    "display(X_train_df.head(2),X_test_df.head(2))"
   ]
  },
  {
   "cell_type": "markdown",
   "id": "2fa571b8",
   "metadata": {},
   "source": [
    "## Modeling\n",
    "#### Statsmodel"
   ]
  },
  {
   "cell_type": "code",
   "execution_count": null,
   "id": "96291737",
   "metadata": {},
   "outputs": [],
   "source": [
    "## instantiate an OLS model WITH the training data.\n",
    "model = sm.OLS(y_train, X_train_df)\n",
    "\n",
    "## Fit the model and view the summary\n",
    "result = model.fit()\n",
    "result.summary()"
   ]
  },
  {
   "cell_type": "code",
   "execution_count": null,
   "id": "c7902768",
   "metadata": {},
   "outputs": [],
   "source": [
    "## Get train data performance from skearn to confirm matches OLS\n",
    "y_hat_train = result.predict(X_train_df)\n",
    "print(f'Training R^2: {r2_score(y_train, y_hat_train):.3f}')\n",
    "\n",
    "## Get test data performance\n",
    "y_hat_test = result.predict(X_test_df)\n",
    "print(f'Testing R^2: {r2_score(y_test, y_hat_test):.3f}')"
   ]
  },
  {
   "cell_type": "markdown",
   "id": "bcb09f0f",
   "metadata": {},
   "source": [
    "## Linear Regression"
   ]
  },
  {
   "cell_type": "markdown",
   "id": "c9580ac1",
   "metadata": {},
   "source": [
    "#### QQ-Plot for Checking for Normality"
   ]
  },
  {
   "cell_type": "code",
   "execution_count": null,
   "id": "c7037250",
   "metadata": {},
   "outputs": [],
   "source": [
    "## Create a Q-QPlot\n",
    "\n",
    "# first calculate residuals \n",
    "resid = y_test - y_hat_test\n",
    "\n",
    "## then use sm's qqplot\n",
    "fig, ax = plt.subplots(figsize=(6,4))\n",
    "sm.graphics.qqplot(resid,line='45',fit=True,ax=ax);"
   ]
  },
  {
   "cell_type": "code",
   "execution_count": null,
   "id": "51b1941e",
   "metadata": {},
   "outputs": [],
   "source": [
    "#Residual Plot for Checking Homoscedasticity\n",
    "## Plot scatterplot with y_hat_test vs resids\n",
    "fig, ax = plt.subplots(figsize=(6,4))\n",
    "ax.scatter(y_hat_test, resid, ec='white')\n",
    "ax.axhline(0,c='black',zorder=0)\n",
    "ax.set(ylabel='Residuals',xlabel='Predicted Revenue')"
   ]
  },
  {
   "cell_type": "markdown",
   "id": "e2950e8f",
   "metadata": {},
   "source": [
    "## Evaluate "
   ]
  },
  {
   "cell_type": "code",
   "execution_count": null,
   "id": "c0a6d5a8",
   "metadata": {},
   "outputs": [],
   "source": [
    "def evaluate_ols(result,X_train_df, y_train):\n",
    "    \"\"\"Plots a Q-Q Plot and residual plot for a statsmodels OLS regression.\n",
    "    \"\"\"\n",
    "    \n",
    "    ## save residuals from result\n",
    "    y_pred = result.predict(X_train_df)\n",
    "    resid = y_train - y_pred\n",
    "    \n",
    "    fig, axes = plt.subplots(ncols=2,figsize=(12,5))\n",
    "    \n",
    "    ## Normality \n",
    "    sm.graphics.qqplot(resid,line='45',fit=True,ax=axes[0]);\n",
    "    \n",
    "    ## Homoscedasticity\n",
    "    ax = axes[1]\n",
    "    ax.scatter(y_pred, resid, edgecolor='white',lw=1)\n",
    "    ax.axhline(0,zorder=0)\n",
    "    ax.set(ylabel='Residuals',xlabel='Predicted Value');\n",
    "    plt.tight_layout()\n",
    "    "
   ]
  },
  {
   "cell_type": "code",
   "execution_count": null,
   "id": "52fec3e4",
   "metadata": {},
   "outputs": [],
   "source": [
    "evaluate_ols(result,X_train_df, y_train)"
   ]
  },
  {
   "cell_type": "markdown",
   "id": "d77011d9",
   "metadata": {},
   "source": [
    "#### Questions to Answer\n",
    "\n",
    "#### Q1\n",
    "* Does the MPAA rating of a movie (G/PG/PG-13/R) affect how much revenue the movie generates?\n",
    "\n",
    "\n",
    "\n",
    "#### Null Hypothesis\n",
    "The MPAA rating of a movie does not affect the revenue generated\n",
    "#### Alternative Hypothesis\n",
    "The MPAA rating of a movie has a significant affect on the revenue generated\n",
    "\n",
    "* Select the correct test according to the data type and number of samples\n",
    "* Numerical Data\n",
    "* More than two groups genres revenue \n",
    "* Run ANOVA\n"
   ]
  },
  {
   "cell_type": "code",
   "execution_count": null,
   "id": "d4b4a59a",
   "metadata": {},
   "outputs": [],
   "source": [
    "df['certification'].describe()"
   ]
  },
  {
   "cell_type": "code",
   "execution_count": null,
   "id": "7540afdc",
   "metadata": {},
   "outputs": [],
   "source": [
    "df['revenue'].describe()"
   ]
  },
  {
   "cell_type": "code",
   "execution_count": null,
   "id": "725b68dc",
   "metadata": {},
   "outputs": [],
   "source": [
    "df['certification'].value_counts()"
   ]
  },
  {
   "cell_type": "code",
   "execution_count": null,
   "id": "59c29b98",
   "metadata": {},
   "outputs": [],
   "source": [
    "ax = sns.barplot(data=df, x='certification', y='revenue')\n",
    "ax.set_xticklabels(ax.get_xticklabels(), rotation=45);"
   ]
  },
  {
   "cell_type": "code",
   "execution_count": null,
   "id": "f0b00ad8",
   "metadata": {},
   "outputs": [],
   "source": [
    "need_cols = ['certification', 'revenue']\n",
    "df[need_cols]"
   ]
  },
  {
   "cell_type": "code",
   "execution_count": null,
   "id": "f78c7b30",
   "metadata": {},
   "outputs": [],
   "source": [
    "groups ={}\n",
    "\n",
    "for certification in df['certification'].unique():\n",
    "    temp = df.loc[df['certification']== certification, 'revenue']\n",
    "    groups[certification] = temp\n",
    "\n",
    "groups.keys()"
   ]
  },
  {
   "cell_type": "code",
   "execution_count": null,
   "id": "982fcbb9",
   "metadata": {},
   "outputs": [],
   "source": [
    "groups['XXXXXXX']"
   ]
  },
  {
   "cell_type": "code",
   "execution_count": null,
   "id": "fc6001f7",
   "metadata": {},
   "outputs": [],
   "source": [
    "for certification, data in groups.items():\n",
    "\n",
    "    ## determine if there are any outliers\n",
    "    outliers = np.abs(stats.zscore(data)) > 3\n",
    "    \n",
    "    ## print a statement about how many outliers for which group name\n",
    "    print(f\"There were {outliers.sum()} outliers in the {certification} group.\")\n",
    "\n",
    "    ## Remove the outiers from data and overwrite the sector data in the dict\n",
    "    data = data.loc[~outliers]\n",
    "    groups[certification] = data"
   ]
  },
  {
   "cell_type": "code",
   "execution_count": null,
   "id": "daea9186",
   "metadata": {},
   "outputs": [],
   "source": [
    "norm_results = [['group','n','pval','sig?']]\n",
    "\n",
    "## loop through group dict\n",
    "for certification, data in groups.items():\n",
    "    ## calculate normaltest results\n",
    "    stat, p = stats.normaltest(data)\n",
    "    \n",
    "    ## Append the right info into norm_resutls (as a list)\n",
    "    norm_results.append(certification,len(data), p, p<.05])\n",
    "    \n",
    "    \n",
    "## Make norm_results a dataframe (first row is columns, everything else data)\n",
    "normal_results = pd.DataFrame(norm_results[1:], columns = norm_results[0])\n",
    "normal_results"
   ]
  },
  {
   "cell_type": "code",
   "execution_count": null,
   "id": "c8856ee6",
   "metadata": {},
   "outputs": [],
   "source": [
    "result = stats.levene(groups['XXXX'],\n",
    "            groups['XXXX'],\n",
    "            groups['XXXX'],\n",
    "            groups['XXXX'])"
   ]
  },
  {
   "cell_type": "code",
   "execution_count": null,
   "id": "0c69bf75",
   "metadata": {},
   "outputs": [],
   "source": [
    "result = stats.levene(*groups.values())\n",
    "print(result)"
   ]
  },
  {
   "cell_type": "code",
   "execution_count": null,
   "id": "d2a412f4",
   "metadata": {},
   "outputs": [],
   "source": [
    "if result.pvalue < .05:\n",
    "    print(f\"The groups do NOT have equal variance.\")\n",
    "else:\n",
    "    print(f\"The groups DO have equal variance.\")"
   ]
  },
  {
   "cell_type": "code",
   "execution_count": null,
   "id": "1268b5ef",
   "metadata": {},
   "outputs": [],
   "source": [
    "result = stats.kruskal(*groups.values())\n",
    "print(result)\n",
    "result.pvalue<.05"
   ]
  },
  {
   "cell_type": "code",
   "execution_count": null,
   "id": "8685c323",
   "metadata": {},
   "outputs": [],
   "source": [
    "average_revenue_by_certification = df.groupby('certification')['revenue'].mean().reset_index()\n",
    "\n",
    "overall_average_revenue = df['revenue'].mean()\n",
    "std = df['revenue'].std()\n",
    "\n",
    "plt.figure(figsize=(10, 6))\n",
    "\n",
    "ax = sns.barplot(data=average_charges_by_certification, x='certification', y='revenue')\n",
    "\n",
    "plt.axhline(y=overall_average_revenue, color='red', linestyle='--', label='Overall Average Charges')\n",
    "plt.axhline(overall_average_revenue + std, color='black', linestyle='dotted', label='+1 Std')\n",
    "plt.axhline(overall_average_revenue - std, color='black', linestyle='dotted', label='-1 Std')\n",
    "\n",
    "plt.axvspan(-0.5, len(average_revenue_by_certification) - 0.5, ymin=(overall_average_revenue - std) / ax.get_ylim()[1],\n",
    "            ymax=(overall_average_revenue + std) / ax.get_ylim()[1], color='yellow', alpha=0.3, label='+/- 1 Std Range')\n",
    "\n",
    "\n",
    "ax.set(ylabel='Average Revenue')\n",
    "ax.yaxis.set_major_formatter(plt.FuncFormatter(lambda x, _: '${:,.0f}'.format(x)))\n",
    "\n",
    "plt.title('Average Revenue by Rating Compared to Overall Average Charges')\n",
    "plt.xlabel('Region')\n",
    "plt.xticks(rotation=45)\n",
    "plt.tight_layout()\n",
    "plt.legend()\n",
    "\n",
    "plt.show()"
   ]
  },
  {
   "cell_type": "code",
   "execution_count": null,
   "id": "0d42118e",
   "metadata": {},
   "outputs": [],
   "source": []
  },
  {
   "cell_type": "code",
   "execution_count": null,
   "id": "eb188005",
   "metadata": {},
   "outputs": [],
   "source": []
  },
  {
   "cell_type": "code",
   "execution_count": null,
   "id": "d1390765",
   "metadata": {},
   "outputs": [],
   "source": []
  },
  {
   "cell_type": "code",
   "execution_count": null,
   "id": "dd0231b1",
   "metadata": {},
   "outputs": [],
   "source": []
  },
  {
   "cell_type": "markdown",
   "id": "8906f719",
   "metadata": {},
   "source": [
    "#### Q2\n",
    "Do movies that are over 2 hours long earn more revenue than movies that are 1.5 hours long (or less)?\n",
    "#### Null Hypothesis\n",
    "There is no difference in earned revenue between movies that are over 2 hours long, than movies that are 1.5 hours long or less \n",
    "#### Alternative Hypothesis\n",
    "There is a significant difference in earned revenue between movies that are over 2 hours long, than movies that are 1.5 hours long or less \n",
    "\n",
    "\n",
    "* Numerical Data\n",
    "* Two groups runtime and revenue\n",
    "* Run a 2-sample T-test.\n",
    "\n",
    "\n"
   ]
  },
  {
   "cell_type": "code",
   "execution_count": null,
   "id": "df867850",
   "metadata": {},
   "outputs": [],
   "source": [
    "df['revenue'].describe()"
   ]
  },
  {
   "cell_type": "code",
   "execution_count": null,
   "id": "876beb5b",
   "metadata": {},
   "outputs": [],
   "source": [
    "df['runtime'].describe()"
   ]
  },
  {
   "cell_type": "code",
   "execution_count": null,
   "id": "59b258b2",
   "metadata": {},
   "outputs": [],
   "source": [
    "df['over_2_hour'] = df['runtime']> 120\n",
    "df['over_2_hour'].value_counts()"
   ]
  },
  {
   "cell_type": "code",
   "execution_count": null,
   "id": "d9ecb0cc",
   "metadata": {},
   "outputs": [],
   "source": [
    "needed_cols = ['over_2_hour','revenue']\n",
    "\n",
    "df[needed_cols]\n",
    "\n",
    "needed_cols = ['over_2_hour', 'revenue']\n",
    "\n",
    "# Display rows where 'over_2_hour' is True along with 'revenue' column\n",
    "selected_rows = df.loc[df['over_2_hour'], needed_cols]\n",
    "print(selected_rows)"
   ]
  },
  {
   "cell_type": "code",
   "execution_count": null,
   "id": "ebb73ffd",
   "metadata": {},
   "outputs": [],
   "source": [
    "over_2_hour_df = df.loc[ df['over_2_hour']==True, needed_cols]\n",
    "over_2_hour_df"
   ]
  },
  {
   "cell_type": "code",
   "execution_count": null,
   "id": "f43ce7f6",
   "metadata": {},
   "outputs": [],
   "source": [
    "df['under_90min'] = df['runtime']< 90\n",
    "df['under_90min'].value_counts()"
   ]
  },
  {
   "cell_type": "code",
   "execution_count": null,
   "id": "602b18be",
   "metadata": {},
   "outputs": [],
   "source": [
    "under_90min_df = df.loc[ df['under_90min']==True, needed_cols]\n",
    "under_90min_df"
   ]
  },
  {
   "cell_type": "code",
   "execution_count": null,
   "id": "e55966b6",
   "metadata": {},
   "outputs": [],
   "source": [
    "plot_df = pd.concat([under_90min_df, over_2_hour_df])\n",
    "plot_df"
   ]
  },
  {
   "cell_type": "code",
   "execution_count": null,
   "id": "a0fd3ce2",
   "metadata": {},
   "outputs": [],
   "source": [
    "sns.barplot(data=plot_df, x='under_90min',y='revenue');"
   ]
  },
  {
   "cell_type": "code",
   "execution_count": null,
   "id": "4c4ac759",
   "metadata": {},
   "outputs": [],
   "source": [
    "under_90min_group = under_90min_df['revenue']\n",
    "over_2_hour_group = over_2_hour_df['revenue']"
   ]
  },
  {
   "cell_type": "code",
   "execution_count": null,
   "id": "b0afdd33",
   "metadata": {},
   "outputs": [],
   "source": [
    "u90min_outliers = np.abs(stats.zscore(under_90min_group)) > 3\n",
    "u90min_outliers.sum()"
   ]
  },
  {
   "cell_type": "code",
   "execution_count": null,
   "id": "2967d21e",
   "metadata": {},
   "outputs": [],
   "source": [
    "o2hr_outliers = np.abs(stats.zscore(over_2_hour_group)) > 3\n",
    "o2hr_outliers.sum()"
   ]
  },
  {
   "cell_type": "code",
   "execution_count": null,
   "id": "3eb39b56",
   "metadata": {},
   "outputs": [],
   "source": [
    "result = stats.levene(under_90min_group, over_2_hour_group)\n",
    "print(result)"
   ]
  },
  {
   "cell_type": "code",
   "execution_count": null,
   "id": "ce0ae4a8",
   "metadata": {},
   "outputs": [],
   "source": [
    "if result.pvalue < .05:\n",
    "    print(f\"The groups do NOT have equal variance.\")\n",
    "else:\n",
    "    print(f\"The groups DO have equal variance.\")"
   ]
  },
  {
   "cell_type": "code",
   "execution_count": null,
   "id": "5eedec63",
   "metadata": {},
   "outputs": [],
   "source": [
    "result = stats.ttest_ind(under_90min_group, over_2_hour_group, equal_var=False)\n",
    "print(result)\n",
    "result.pvalue  < .05"
   ]
  },
  {
   "cell_type": "code",
   "execution_count": null,
   "id": "569ad148",
   "metadata": {},
   "outputs": [],
   "source": [
    "under_90min_group.mean()"
   ]
  },
  {
   "cell_type": "code",
   "execution_count": null,
   "id": "18472d75",
   "metadata": {},
   "outputs": [],
   "source": [
    "over_2_hour_group.mean()"
   ]
  },
  {
   "cell_type": "code",
   "execution_count": null,
   "id": "5f9b5338",
   "metadata": {},
   "outputs": [],
   "source": [
    "plt.figure(figsize=(10, 6))\n",
    "ax = sns.histplot(data=plot_df, y='revenue',fill=True,hue='under_90min',kde=True,\n",
    "                  stat='density',common_norm=False)\n",
    "ax.ticklabel_format(style='plain', axis='y')\n",
    "plt.title('Revenue($) vs Runtime(90min +/-)', fontsize='xx-large');"
   ]
  },
  {
   "cell_type": "code",
   "execution_count": null,
   "id": "589d59b8",
   "metadata": {},
   "outputs": [],
   "source": []
  },
  {
   "cell_type": "markdown",
   "id": "eb4f1c4e",
   "metadata": {},
   "source": [
    "#### Q3\n",
    "Do some movie genres earn more revenue than others?\n",
    "#### Null Hypothesis\n",
    "The genre of a movie has no affect on revenue \n",
    "\n",
    "#### Alternative Hypothesis\n",
    "The genre of a movie has a significant affect on revenue \n",
    "\n",
    "\n",
    "\n",
    "* Numerical Data\n",
    "* Two groups revenue and genre(ohe)\n",
    "* Run a 2-sample T-test."
   ]
  },
  {
   "cell_type": "code",
   "execution_count": null,
   "id": "8161dd28",
   "metadata": {},
   "outputs": [],
   "source": [
    "## save unique genres\n",
    "unique_genres = df_explode['genres_list'].dropna().unique()\n",
    "unique_genres"
   ]
  },
  {
   "cell_type": "code",
   "execution_count": null,
   "id": "cda3ea8a",
   "metadata": {},
   "outputs": [],
   "source": []
  },
  {
   "cell_type": "code",
   "execution_count": null,
   "id": "4e269fa0",
   "metadata": {},
   "outputs": [],
   "source": []
  },
  {
   "cell_type": "code",
   "execution_count": null,
   "id": "b588e11e",
   "metadata": {},
   "outputs": [],
   "source": []
  },
  {
   "cell_type": "code",
   "execution_count": null,
   "id": "9abe7099",
   "metadata": {},
   "outputs": [],
   "source": []
  },
  {
   "cell_type": "code",
   "execution_count": null,
   "id": "0ce67280",
   "metadata": {},
   "outputs": [],
   "source": []
  },
  {
   "cell_type": "code",
   "execution_count": null,
   "id": "9359f0ae",
   "metadata": {},
   "outputs": [],
   "source": []
  },
  {
   "cell_type": "code",
   "execution_count": null,
   "id": "fb453c0b",
   "metadata": {},
   "outputs": [],
   "source": []
  },
  {
   "cell_type": "code",
   "execution_count": null,
   "id": "e68d44d3",
   "metadata": {},
   "outputs": [],
   "source": []
  },
  {
   "cell_type": "code",
   "execution_count": null,
   "id": "0c05092f",
   "metadata": {},
   "outputs": [],
   "source": []
  },
  {
   "cell_type": "code",
   "execution_count": null,
   "id": "f89be447",
   "metadata": {},
   "outputs": [],
   "source": []
  },
  {
   "cell_type": "code",
   "execution_count": null,
   "id": "ffb047eb",
   "metadata": {},
   "outputs": [],
   "source": []
  },
  {
   "cell_type": "markdown",
   "id": "ff478ed7",
   "metadata": {},
   "source": [
    "## Improving Model"
   ]
  },
  {
   "cell_type": "markdown",
   "id": "f09baac8",
   "metadata": {},
   "source": [
    "## Checking for Linearity"
   ]
  },
  {
   "cell_type": "code",
   "execution_count": null,
   "id": "e78da4f6",
   "metadata": {},
   "outputs": [],
   "source": [
    "## concatenating training data into plot_df\n",
    "plot_df = pd.concat([X_train_df,y_train],axis=1)\n",
    "plot_df"
   ]
  },
  {
   "cell_type": "code",
   "execution_count": null,
   "id": "e8a2c5af",
   "metadata": {},
   "outputs": [],
   "source": [
    "## save plot_cols list to show (dropping genre from plot_df from pair_plot)\n",
    "genre_cols = [c for c in df.columns if c.startswith('Genre')]\n",
    "plot_cols = plot_df.drop(columns=['revenue',*genre_cols]).columns\n",
    "len(plot_cols)"
   ]
  },
  {
   "cell_type": "code",
   "execution_count": null,
   "id": "0d2e5d27",
   "metadata": {},
   "outputs": [],
   "source": [
    "sns.pairplot(data=plot_df, y_vars='revenue',x_vars=plot_cols[:6])"
   ]
  },
  {
   "cell_type": "code",
   "execution_count": null,
   "id": "f81b2085",
   "metadata": {},
   "outputs": [],
   "source": [
    "sns.pairplot(data=plot_df, y_vars='revenue',x_vars=plot_cols[6:13])"
   ]
  },
  {
   "cell_type": "code",
   "execution_count": null,
   "id": "b154c594",
   "metadata": {},
   "outputs": [],
   "source": [
    "sns.pairplot(data=plot_df, y_vars='revenue',x_vars=plot_cols[13:])"
   ]
  },
  {
   "cell_type": "code",
   "execution_count": null,
   "id": "9c8a716b",
   "metadata": {},
   "outputs": [],
   "source": [
    "# remove movies prior to 2000\n",
    "df = df.loc[ df['year']>=2000]\n",
    "df"
   ]
  },
  {
   "cell_type": "code",
   "execution_count": null,
   "id": "9b5ea32f",
   "metadata": {},
   "outputs": [],
   "source": [
    "def get_train_test_split(df_, y_col='revenue',drop_cols=[]):\n",
    "    \n",
    "    ## Make copy of input df\n",
    "    df = df_.copy()\n",
    "    \n",
    "    ## filter columns in drop cols (if exist)\n",
    "    final_drop_cols = []\n",
    "    [df.drop(columns=c,inplace=True) for c in df.columns if c in drop_cols]\n",
    "    \n",
    "    \n",
    "    ## Make x and y variables\n",
    "    y = df[y_col].copy()\n",
    "    X = df.drop(columns=[y_col]).copy()\n",
    "\n",
    "    X_train, X_test, y_train, y_test = train_test_split(X,y)#, random_state=321)\n",
    "    \n",
    "\n",
    "    \n",
    "    ## make cat selector and using it to save list of column names\n",
    "    cat_select = make_column_selector(dtype_include='object')\n",
    "    cat_cols = cat_select(X_train)\n",
    "\n",
    "\n",
    "    ## make num selector and using it to save list of column names\n",
    "    num_select = make_column_selector(dtype_include='number')\n",
    "    num_cols = num_select(X_train)\n",
    "\n",
    "\n",
    "    ## select manually OHE cols for later\n",
    "    bool_select = make_column_selector(dtype_include='bool')\n",
    "    already_ohe_cols = bool_select(X_train)\n",
    "\n",
    "    ## convert manual ohe to int\n",
    "    X_train[already_ohe_cols] = X_train[already_ohe_cols].astype(int)\n",
    "    X_test[already_ohe_cols] = X_test[already_ohe_cols].astype(int)\n",
    "\n",
    "    ## make pipelines\n",
    "    cat_pipe = make_pipeline(SimpleImputer(strategy='constant',\n",
    "                                           fill_value='MISSING'),\n",
    "                             OneHotEncoder(handle_unknown='ignore', sparse=False))\n",
    "    num_pipe = make_pipeline(SimpleImputer(strategy='mean'),#StandardScaler()\n",
    "                            )\n",
    "\n",
    "    preprocessor = make_column_transformer((num_pipe, num_cols),\n",
    "                                           (cat_pipe,cat_cols),remainder='passthrough')\n",
    "    \n",
    "    \n",
    "\n",
    "    ## fit the col transformer\n",
    "    preprocessor.fit(X_train)\n",
    "\n",
    "    ## Finding the categorical pipeline in our col transformer.\n",
    "    preprocessor.named_transformers_['pipeline-2']\n",
    "\n",
    "    ## B) Using list-slicing to find the encoder \n",
    "    cat_features = preprocessor.named_transformers_['pipeline-2'][-1].get_feature_names_out(cat_cols)\n",
    "\n",
    "\n",
    "    ## Create the empty list\n",
    "    final_features = [*cat_features,*num_cols,*already_ohe_cols]\n",
    "\n",
    "    ## Make df verisons of x data\n",
    "    X_train_tf = pd.DataFrame( preprocessor.transform(X_train), \n",
    "                              columns=final_features, index=X_train.index)\n",
    "\n",
    "\n",
    "    X_test_tf = pd.DataFrame( preprocessor.transform(X_test),\n",
    "                             columns=final_features, index=X_test.index)\n",
    "\n",
    "\n",
    "    ### Adding a Constant for Statsmodels\n",
    "    ## Make final X_train_df and X_test_df with constants added\n",
    "    X_train_df = sm.add_constant(X_train_tf, prepend=False, has_constant='add')\n",
    "    X_test_df = sm.add_constant(X_test_tf, prepend=False, has_constant='add')\n",
    "    return X_train_df, y_train, X_test_df, y_test"
   ]
  },
  {
   "cell_type": "code",
   "execution_count": null,
   "id": "2b4707a9",
   "metadata": {},
   "outputs": [],
   "source": []
  },
  {
   "cell_type": "code",
   "execution_count": null,
   "id": "07d82d25",
   "metadata": {},
   "outputs": [],
   "source": [
    "## Use our function to make new x,y vars\n",
    "X_train_df, y_train, X_test_df, y_test = get_train_test_split(df)\n",
    "\n",
    "## instantiate an OLS model WITH the training data.\n",
    "model = sm.OLS(y_train, X_train_df)\n",
    "\n",
    "## Fit the model and view the summary\n",
    "result = model.fit()\n",
    "evaluate_ols(result,X_train_df,y_train)"
   ]
  },
  {
   "cell_type": "code",
   "execution_count": null,
   "id": "ca8634bd",
   "metadata": {},
   "outputs": [],
   "source": [
    "sns.boxplot(x = y_train)"
   ]
  },
  {
   "cell_type": "markdown",
   "id": "ecd1061f",
   "metadata": {},
   "source": [
    "## Removing Outliers\n",
    "#### Z score"
   ]
  },
  {
   "cell_type": "code",
   "execution_count": null,
   "id": "d0a9d469",
   "metadata": {},
   "outputs": [],
   "source": [
    "def find_outliers(data, verbose=True):\n",
    "    outliers = np.abs(stats.zscore(data))>3\n",
    "    \n",
    "    if verbose:\n",
    "        print(f\"- {outliers.sum()} outliers found in {data.name} using Z-Scores.\")\n",
    "    return outliers"
   ]
  },
  {
   "cell_type": "code",
   "execution_count": null,
   "id": "893c1ed7",
   "metadata": {},
   "outputs": [],
   "source": [
    "def find_outliers_IQR(data, verbose=True):\n",
    "    q3 = np.quantile(data,.75)\n",
    "    q1 = np.quantile(data,.25)\n",
    "\n",
    "    IQR = q3 - q1\n",
    "    upper_threshold = q3 + 1.5*IQR\n",
    "    lower_threshold = q1 - 1.5*IQR\n",
    "    \n",
    "    outliers = (data<lower_threshold) | (data>upper_threshold)\n",
    "    if verbose:\n",
    "        print(f\"- {outliers.sum()} outliers found in {data.name} using IQR.\")\n",
    "        \n",
    "    return outliers"
   ]
  },
  {
   "cell_type": "code",
   "execution_count": null,
   "id": "5d85c2cd",
   "metadata": {},
   "outputs": [],
   "source": [
    "outliers_iqr = find_outliers_IQR(df['revenue'])\n",
    "outliers_iqr"
   ]
  },
  {
   "cell_type": "code",
   "execution_count": null,
   "id": "f464b9ec",
   "metadata": {},
   "outputs": [],
   "source": [
    "## Loop to remove outliers from same clumns using new function\n",
    "outlier_cols = ['runtime','popularity','revenue']\n",
    "\n",
    "## Empty dict for both types of outliers\n",
    "outliers_z = {}\n",
    "outliers_iqr = {}\n",
    "\n",
    "## Use both functions to see the comparison for # of outliers\n",
    "for col in outlier_cols:\n",
    "    outliers_col_z = find_outliers(df[col])\n",
    "    outliers_z[col] = outliers_col_z\n",
    "    \n",
    "    outliers_col_iqr = find_outliers_IQR(df[col])\n",
    "    outliers_iqr[col] = outliers_col_iqr\n",
    "    print()\n",
    "    "
   ]
  },
  {
   "cell_type": "code",
   "execution_count": null,
   "id": "fa933dd0",
   "metadata": {},
   "outputs": [],
   "source": [
    "# remove_outliers \n",
    "df_clean_z = df.copy()\n",
    "for col, idx_outliers in outliers_z.items():\n",
    "    df_clean_z = df_clean_z[~idx_outliers]\n",
    "df_clean_z"
   ]
  },
  {
   "cell_type": "code",
   "execution_count": null,
   "id": "86bfc0d5",
   "metadata": {},
   "outputs": [],
   "source": [
    "# remove_outliers\n",
    "df_clean_iqr = df.copy()\n",
    "for col, idx_outliers in outliers_iqr.items():\n",
    "    df_clean_iqr = df_clean_iqr[~idx_outliers]\n",
    "df_clean_iqr"
   ]
  },
  {
   "cell_type": "code",
   "execution_count": null,
   "id": "90cc3314",
   "metadata": {},
   "outputs": [],
   "source": []
  },
  {
   "cell_type": "code",
   "execution_count": null,
   "id": "7247ce5a",
   "metadata": {},
   "outputs": [],
   "source": []
  },
  {
   "cell_type": "code",
   "execution_count": null,
   "id": "83d8c484",
   "metadata": {},
   "outputs": [],
   "source": []
  },
  {
   "cell_type": "code",
   "execution_count": null,
   "id": "5ee9dcc1",
   "metadata": {},
   "outputs": [],
   "source": []
  },
  {
   "cell_type": "code",
   "execution_count": null,
   "id": "8352c8a6",
   "metadata": {},
   "outputs": [],
   "source": []
  },
  {
   "cell_type": "markdown",
   "id": "86a1ffd6",
   "metadata": {},
   "source": [
    "## Model with Outliers Removed  \n",
    "#### (Z_scores)"
   ]
  },
  {
   "cell_type": "code",
   "execution_count": null,
   "id": "737e9c4a",
   "metadata": {},
   "outputs": [],
   "source": [
    "## MAKE NEW MODEL WITH IQR OUTLIERS REMOVED\n",
    "\n",
    "X_train_df, y_train, X_test_df, y_test = get_train_test_split(df_clean_iqr)\n",
    "## instantiate an OLS model WITH the training data.\n",
    "model = sm.OLS(y_train, X_train_df)\n",
    "\n",
    "## Fit the model and view the summary\n",
    "result = model.fit()\n",
    "display(result.summary())\n",
    "evaluate_ols(result,X_train_df,y_train)"
   ]
  },
  {
   "cell_type": "markdown",
   "id": "db94cf82",
   "metadata": {},
   "source": [
    "## Pvalues"
   ]
  },
  {
   "cell_type": "code",
   "execution_count": null,
   "id": "070628df",
   "metadata": {},
   "outputs": [],
   "source": [
    "pvals = result.pvalues \n",
    "pvals"
   ]
  },
  {
   "cell_type": "code",
   "execution_count": null,
   "id": "51f890f7",
   "metadata": {},
   "outputs": [],
   "source": [
    "pvals[ pvals>.05]"
   ]
  },
  {
   "cell_type": "markdown",
   "id": "96440dbb",
   "metadata": {},
   "source": [
    "## Feature engineering by p-values"
   ]
  },
  {
   "cell_type": "code",
   "execution_count": null,
   "id": "ff7e9918",
   "metadata": {},
   "outputs": [],
   "source": [
    "## Get list of ALL genre columns to see how many are sig\n",
    "genre_cols = [c for c in df_clean.columns if c.startswith(\"Genre\")]\n",
    "genre_cols"
   ]
  },
  {
   "cell_type": "code",
   "execution_count": null,
   "id": "dec72f9f",
   "metadata": {},
   "outputs": [],
   "source": [
    "## save just genre pvalues\n",
    "genre_pvals = pvals[genre_cols]\n",
    "## calc what % are insig?\n",
    "genre_pvals.sum()/len(genre_pvals)"
   ]
  },
  {
   "cell_type": "code",
   "execution_count": null,
   "id": "a6c2adfe",
   "metadata": {},
   "outputs": [],
   "source": [
    "## what pvals are remaining?\n",
    "other_pvals = pvals.drop([*comp_cols, *genre_cols])\n",
    "other_pvals[other_pvals>.05]"
   ]
  },
  {
   "cell_type": "code",
   "execution_count": null,
   "id": "c0891c2e",
   "metadata": {},
   "outputs": [],
   "source": [
    "## Make x,y vars, but drop features with bad pvalues\n",
    "df_clean_iqr = df_clean_iqr.drop(columns=['adult','budget'])\n",
    "X_train_df, y_train, X_test_df, y_test = \\\n",
    "                                get_train_test_split(df_clean_iqr,)\n",
    "## MAKE AND EVALUATE OLS\n",
    "## instantiate an OLS model WITH the training data.\n",
    "model = sm.OLS(y_train, X_train_df)\n",
    "\n",
    "## Fit the model and view the summary\n",
    "result = model.fit()\n",
    "evaluate_ols(result,X_train_df,y_train)"
   ]
  },
  {
   "cell_type": "markdown",
   "id": "f2b32339",
   "metadata": {},
   "source": [
    "## Multicollinearity"
   ]
  },
  {
   "cell_type": "code",
   "execution_count": null,
   "id": "cd672ec1",
   "metadata": {},
   "outputs": [],
   "source": [
    "## Calculating the mask to hide the upper-right of the triangle\n",
    "plt.figure(figsize=(25,25))\n",
    "corr = X_train_df.corr().abs()\n",
    "mask = np.triu(np.ones_like(corr))\n",
    "sns.heatmap(corr,square=True, cmap='Reds', annot=True, mask=mask);"
   ]
  },
  {
   "cell_type": "code",
   "execution_count": null,
   "id": "e940ec18",
   "metadata": {},
   "outputs": [],
   "source": [
    "from statsmodels.stats.outliers_influence import variance_inflation_factor\n",
    " \n",
    "# separate just x-data and subtract mean\n",
    "features = X_train_df -  X_train_df.mean()\n",
    "\n",
    "features"
   ]
  },
  {
   "cell_type": "code",
   "execution_count": null,
   "id": "cf857190",
   "metadata": {},
   "outputs": [],
   "source": [
    "# create a list of VIF scores for each feature in features.\n",
    "vif_scores = [variance_inflation_factor(features.values, i) for i in range(len(features.columns))]\n",
    "\n",
    "# create a new dataframe to hold the VIF scores \n",
    "VIF = pd.Series(vif_scores, index=features.columns)\n",
    "VIF"
   ]
  },
  {
   "cell_type": "code",
   "execution_count": null,
   "id": "840a83f0",
   "metadata": {},
   "outputs": [],
   "source": [
    "## Sort VIF for inspect\n",
    "VIF.sort_values()"
   ]
  },
  {
   "cell_type": "code",
   "execution_count": null,
   "id": "d3eb82b7",
   "metadata": {},
   "outputs": [],
   "source": [
    "## Set float format to view vals not in scientfic notation\n",
    "pd.set_option('display.float_format',lambda x: f'{x:.2f}')"
   ]
  },
  {
   "cell_type": "code",
   "execution_count": null,
   "id": "05834f48",
   "metadata": {},
   "outputs": [],
   "source": [
    "## remove infinite values from VIF and sort\n",
    "VIF = VIF[VIF!=np.inf].sort_values()\n",
    "VIF"
   ]
  },
  {
   "cell_type": "code",
   "execution_count": null,
   "id": "db5b716e",
   "metadata": {},
   "outputs": [],
   "source": [
    "## filter for VIF that are > 5\n",
    "VIF[VIF>5]"
   ]
  },
  {
   "cell_type": "code",
   "execution_count": null,
   "id": "d41c427f",
   "metadata": {},
   "outputs": [],
   "source": [
    "high_vif = VIF[VIF>5].index\n",
    "high_vif"
   ]
  },
  {
   "cell_type": "markdown",
   "id": "67048a2e",
   "metadata": {},
   "source": [
    "## Final Model"
   ]
  },
  {
   "cell_type": "code",
   "execution_count": null,
   "id": "72df3d45",
   "metadata": {},
   "outputs": [],
   "source": [
    "## make new df_final copy of prev df\n",
    "df_final = df_clean_iqr.drop(columns =high_vif).copy()\n",
    "X_train_df, y_train, X_test_df, y_test = get_train_test_split(df_final)\n",
    "## instantiate an OLS model WITH the training data.\n",
    "model = sm.OLS(y_train, X_train_df)\n",
    "\n",
    "## Fit the model and view the summary\n",
    "result = model.fit()\n",
    "evaluate_ols(result,X_train_df,y_train)"
   ]
  },
  {
   "cell_type": "code",
   "execution_count": null,
   "id": "d7532d37",
   "metadata": {},
   "outputs": [],
   "source": [
    "## Get train data performance from skearn to confirm matches OLS\n",
    "y_hat_train = result.predict(X_train_df)\n",
    "print(f'Training R^2: {r2_score(y_train, y_hat_train):.3f}')\n",
    "\n",
    "## Get test data performance\n",
    "y_hat_test = result.predict(X_test_df)\n",
    "print(f'Testing R^2: {r2_score(y_test, y_hat_test):.3f}')"
   ]
  },
  {
   "cell_type": "code",
   "execution_count": null,
   "id": "d9149be8",
   "metadata": {},
   "outputs": [],
   "source": [
    "plt.figure(figsize=(5,16))\n",
    "ax =result.params.sort_values().plot(kind='barh')\n",
    "ax.axvline()"
   ]
  },
  {
   "cell_type": "markdown",
   "id": "e291fc8b",
   "metadata": {},
   "source": [
    "## Linear Reg vs RandomForest"
   ]
  },
  {
   "cell_type": "code",
   "execution_count": null,
   "id": "be0429c9",
   "metadata": {},
   "outputs": [],
   "source": [
    "from sklearn.ensemble import RandomForestRegressor\n",
    "X_train_df, y_train, X_test_df, y_test = get_train_test_split(df)\n",
    "\n",
    "reg = RandomForestRegressor(verbose=1,random_state=42)\n",
    "reg.fit(X_train_df, y_train)"
   ]
  },
  {
   "cell_type": "code",
   "execution_count": null,
   "id": "265dc80c",
   "metadata": {},
   "outputs": [],
   "source": [
    "## Get train data performance from skearn to confirm matches OLS\n",
    "y_hat_train = reg.predict(X_train_df)\n",
    "print(f'Training R^2: {r2_score(y_train, y_hat_train):.3f}')\n",
    "\n",
    "## Get test data performance\n",
    "y_hat_test = reg.predict(X_test_df)\n",
    "print(f'Testing R^2: {r2_score(y_test, y_hat_test):.3f}')"
   ]
  },
  {
   "cell_type": "code",
   "execution_count": null,
   "id": "ecbde9cd",
   "metadata": {},
   "outputs": [],
   "source": [
    "evaluate_ols(reg, X_train_df, y_train)"
   ]
  },
  {
   "cell_type": "code",
   "execution_count": null,
   "id": "d55a6bc4",
   "metadata": {},
   "outputs": [],
   "source": [
    "importances = pd.Series(reg.feature_importances_, index=X_train_df.columns)\n",
    "importances.sort_values().tail(25).plot(kind='barh',figsize=(6,10))\n"
   ]
  },
  {
   "cell_type": "code",
   "execution_count": null,
   "id": "bc29f3eb",
   "metadata": {},
   "outputs": [],
   "source": []
  },
  {
   "cell_type": "code",
   "execution_count": null,
   "id": "7d42707d",
   "metadata": {},
   "outputs": [],
   "source": []
  },
  {
   "cell_type": "code",
   "execution_count": null,
   "id": "1a29c9d5",
   "metadata": {},
   "outputs": [],
   "source": []
  },
  {
   "cell_type": "code",
   "execution_count": null,
   "id": "b85ed83b",
   "metadata": {},
   "outputs": [],
   "source": []
  },
  {
   "cell_type": "code",
   "execution_count": null,
   "id": "c1b3a96f",
   "metadata": {},
   "outputs": [],
   "source": []
  }
 ],
 "metadata": {
  "kernelspec": {
   "display_name": "Python (dojo-env)",
   "language": "python",
   "name": "dojo-env"
  },
  "language_info": {
   "codemirror_mode": {
    "name": "ipython",
    "version": 3
   },
   "file_extension": ".py",
   "mimetype": "text/x-python",
   "name": "python",
   "nbconvert_exporter": "python",
   "pygments_lexer": "ipython3",
   "version": "3.9.15"
  },
  "toc": {
   "base_numbering": 1,
   "nav_menu": {},
   "number_sections": false,
   "sideBar": true,
   "skip_h1_title": true,
   "title_cell": "Table of Contents",
   "title_sidebar": "Contents",
   "toc_cell": false,
   "toc_position": {
    "height": "calc(100% - 180px)",
    "left": "10px",
    "top": "150px",
    "width": "165px"
   },
   "toc_section_display": true,
   "toc_window_display": true
  }
 },
 "nbformat": 4,
 "nbformat_minor": 5
}
